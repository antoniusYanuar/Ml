{
 "cells": [
  {
   "cell_type": "code",
   "execution_count": 1,
   "metadata": {},
   "outputs": [
    {
     "name": "stderr",
     "output_type": "stream",
     "text": [
      "Using TensorFlow backend.\n"
     ]
    }
   ],
   "source": [
    "import pandas as pd\n",
    "from keras.models import Sequential\n",
    "from keras.layers import Dense\n",
    "from keras.layers import Dropout\n",
    "from keras.optimizers import Adam\n",
    "from keras.callbacks import EarlyStopping\n",
    "import sklearn\n",
    "from sklearn import preprocessing\n",
    "from sklearn.model_selection import train_test_split\n",
    "from math import sqrt\n",
    "from sklearn.metrics import mean_squared_error\n",
    "from sklearn.metrics import mean_absolute_error\n",
    "from sklearn.metrics import r2_score\n",
    "import numpy\n",
    "from sklearn.model_selection import GridSearchCV\n",
    "from keras.wrappers.scikit_learn import KerasRegressor"
   ]
  },
  {
   "cell_type": "code",
   "execution_count": 2,
   "metadata": {},
   "outputs": [],
   "source": [
    "# load the dataset\n",
    "x = pd.read_csv('data_cleaned_avg.csv')\n",
    "X_after, test = train_test_split(x, test_size=0.1, random_state=42)\n",
    "test.to_csv(r'data_test_final.csv', index = False, header=True)\n",
    "# split into input (X) and output (y) variables\n",
    "y = X_after.pop('O3')"
   ]
  },
  {
   "cell_type": "code",
   "execution_count": 3,
   "metadata": {},
   "outputs": [],
   "source": [
    " X_train, X_test, y_train, y_test = train_test_split(X_after, y, test_size=0.2, random_state=42)"
   ]
  },
  {
   "cell_type": "code",
   "execution_count": 4,
   "metadata": {},
   "outputs": [
    {
     "name": "stderr",
     "output_type": "stream",
     "text": [
      "C:\\Users\\Asus\\AppData\\Local\\Programs\\Python\\Python37\\lib\\site-packages\\ipykernel_launcher.py:1: DataConversionWarning: Data with input dtype int64, float64 were all converted to float64 by the scale function.\n",
      "  \"\"\"Entry point for launching an IPython kernel.\n",
      "C:\\Users\\Asus\\AppData\\Local\\Programs\\Python\\Python37\\lib\\site-packages\\ipykernel_launcher.py:2: DataConversionWarning: Data with input dtype int64, float64 were all converted to float64 by the scale function.\n",
      "  \n"
     ]
    }
   ],
   "source": [
    "X_train = preprocessing.scale(X_train)\n",
    "X_test = preprocessing.scale(X_test)"
   ]
  },
  {
   "cell_type": "code",
   "execution_count": 5,
   "metadata": {},
   "outputs": [
    {
     "name": "stderr",
     "output_type": "stream",
     "text": [
      "WARNING: Logging before flag parsing goes to stderr.\n",
      "W0430 05:01:57.869853 12848 deprecation_wrapper.py:119] From C:\\Users\\Asus\\AppData\\Local\\Programs\\Python\\Python37\\lib\\site-packages\\keras\\backend\\tensorflow_backend.py:66: The name tf.get_default_graph is deprecated. Please use tf.compat.v1.get_default_graph instead.\n",
      "\n",
      "W0430 05:01:57.913238 12848 deprecation_wrapper.py:119] From C:\\Users\\Asus\\AppData\\Local\\Programs\\Python\\Python37\\lib\\site-packages\\keras\\backend\\tensorflow_backend.py:541: The name tf.placeholder is deprecated. Please use tf.compat.v1.placeholder instead.\n",
      "\n",
      "W0430 05:01:57.918605 12848 deprecation_wrapper.py:119] From C:\\Users\\Asus\\AppData\\Local\\Programs\\Python\\Python37\\lib\\site-packages\\keras\\backend\\tensorflow_backend.py:4432: The name tf.random_uniform is deprecated. Please use tf.random.uniform instead.\n",
      "\n",
      "W0430 05:01:58.126739 12848 deprecation_wrapper.py:119] From C:\\Users\\Asus\\AppData\\Local\\Programs\\Python\\Python37\\lib\\site-packages\\keras\\optimizers.py:793: The name tf.train.Optimizer is deprecated. Please use tf.compat.v1.train.Optimizer instead.\n",
      "\n",
      "W0430 05:01:58.185530 12848 deprecation_wrapper.py:119] From C:\\Users\\Asus\\AppData\\Local\\Programs\\Python\\Python37\\lib\\site-packages\\keras\\backend\\tensorflow_backend.py:3657: The name tf.log is deprecated. Please use tf.math.log instead.\n",
      "\n",
      "W0430 05:01:58.194551 12848 deprecation.py:323] From C:\\Users\\Asus\\AppData\\Local\\Programs\\Python\\Python37\\lib\\site-packages\\tensorflow\\python\\ops\\nn_impl.py:180: add_dispatch_support.<locals>.wrapper (from tensorflow.python.ops.array_ops) is deprecated and will be removed in a future version.\n",
      "Instructions for updating:\n",
      "Use tf.where in 2.0, which has the same broadcast rule as np.where\n",
      "W0430 05:01:58.557697 12848 deprecation_wrapper.py:119] From C:\\Users\\Asus\\AppData\\Local\\Programs\\Python\\Python37\\lib\\site-packages\\keras\\backend\\tensorflow_backend.py:1033: The name tf.assign_add is deprecated. Please use tf.compat.v1.assign_add instead.\n",
      "\n"
     ]
    },
    {
     "name": "stdout",
     "output_type": "stream",
     "text": [
      "Epoch 1/20\n",
      "19125/19125 [==============================] - 4s 226us/step - loss: 0.1488 - acc: 0.0000e+00\n",
      "Epoch 2/20\n",
      "19125/19125 [==============================] - 3s 179us/step - loss: 0.1119 - acc: 0.0000e+00\n",
      "Epoch 3/20\n",
      "19125/19125 [==============================] - 3s 164us/step - loss: 0.1118 - acc: 0.0000e+00\n",
      "Epoch 4/20\n",
      "19125/19125 [==============================] - 2s 128us/step - loss: 0.1118 - acc: 0.0000e+00\n",
      "Epoch 5/20\n",
      "19125/19125 [==============================] - 5s 264us/step - loss: 0.1117 - acc: 0.0000e+00\n",
      "Epoch 6/20\n",
      "19125/19125 [==============================] - 3s 138us/step - loss: 0.1117 - acc: 0.0000e+00\n",
      "Epoch 7/20\n",
      "19125/19125 [==============================] - 3s 147us/step - loss: 0.1117 - acc: 0.0000e+00\n",
      "Epoch 8/20\n",
      "19125/19125 [==============================] - 2s 126us/step - loss: 0.1116 - acc: 0.0000e+00\n",
      "Epoch 9/20\n",
      "19125/19125 [==============================] - 3s 150us/step - loss: 0.1116 - acc: 0.0000e+00\n",
      "Epoch 10/20\n",
      "19125/19125 [==============================] - 2s 121us/step - loss: 0.1116 - acc: 0.0000e+00\n",
      "Epoch 11/20\n",
      "19125/19125 [==============================] - 3s 170us/step - loss: 0.1116 - acc: 0.0000e+00\n",
      "Epoch 12/20\n",
      "19125/19125 [==============================] - 3s 167us/step - loss: 0.1116 - acc: 0.0000e+00\n",
      "Epoch 13/20\n",
      "19125/19125 [==============================] - 3s 148us/step - loss: 0.1116 - acc: 0.0000e+00\n",
      "Epoch 14/20\n",
      "19125/19125 [==============================] - 2s 125us/step - loss: 0.1116 - acc: 0.0000e+00\n",
      "Epoch 15/20\n",
      "19125/19125 [==============================] - 2s 121us/step - loss: 0.1116 - acc: 0.0000e+00\n",
      "Epoch 16/20\n",
      "19125/19125 [==============================] - 2s 125us/step - loss: 0.1116 - acc: 0.0000e+00\n",
      "Epoch 17/20\n",
      "19125/19125 [==============================] - 3s 146us/step - loss: 0.1116 - acc: 0.0000e+00\n",
      "Epoch 18/20\n",
      "19125/19125 [==============================] - 3s 135us/step - loss: 0.1116 - acc: 0.0000e+00\n",
      "Epoch 19/20\n",
      "19125/19125 [==============================] - 3s 137us/step - loss: 0.1115 - acc: 0.0000e+00\n",
      "Epoch 20/20\n",
      "19125/19125 [==============================] - 3s 138us/step - loss: 0.1115 - acc: 0.0000e+00\n",
      "Best: -0.111586 using {'activation': 'softplus'}\n",
      "-0.111625 (0.000290) with: {'activation': 'softmax'}\n",
      "-0.111586 (0.000290) with: {'activation': 'softplus'}\n",
      "-0.111676 (0.000321) with: {'activation': 'softsign'}\n",
      "-0.111718 (0.000287) with: {'activation': 'relu'}\n",
      "-0.111716 (0.000290) with: {'activation': 'tanh'}\n",
      "-0.111715 (0.000277) with: {'activation': 'sigmoid'}\n",
      "-0.111828 (0.000277) with: {'activation': 'hard_sigmoid'}\n",
      "-0.112235 (0.000289) with: {'activation': 'linear'}\n"
     ]
    }
   ],
   "source": [
    "def create_model(activation='relu'):\n",
    "\t# create model\n",
    "\tmodel = Sequential()\n",
    "\tmodel.add(Dense(12, input_dim=31, kernel_initializer='uniform', activation=activation))\n",
    "\tmodel.add(Dense(1, kernel_initializer='uniform', activation='sigmoid'))\n",
    "\t# Compile model\n",
    "\tmodel.compile(loss='binary_crossentropy', optimizer='adam', metrics=['accuracy'])\n",
    "\treturn model\n",
    "\n",
    "# fix random seed for reproducibility\n",
    "seed = 7\n",
    "numpy.random.seed(seed)\n",
    "\n",
    "# create model\n",
    "model = KerasRegressor(build_fn=create_model, epochs=20, batch_size=10, verbose=1)\n",
    "# define the grid search parameters\n",
    "activation = ['softmax', 'softplus', 'softsign', 'relu', 'tanh', 'sigmoid', 'hard_sigmoid', 'linear']\n",
    "param_grid = dict(activation=activation)\n",
    "grid = GridSearchCV(estimator=model, param_grid=param_grid, n_jobs=-1, cv=3)\n",
    "grid_result = grid.fit(X_train, y_train)\n",
    "# summarize results\n",
    "print(\"Best: %f using %s\" % (grid_result.best_score_, grid_result.best_params_))\n",
    "means = grid_result.cv_results_['mean_test_score']\n",
    "stds = grid_result.cv_results_['std_test_score']\n",
    "params = grid_result.cv_results_['params']\n",
    "for mean, stdev, param in zip(means, stds, params):\n",
    "    print(\"%f (%f) with: %r\" % (mean, stdev, param))"
   ]
  },
  {
   "cell_type": "code",
   "execution_count": 7,
   "metadata": {},
   "outputs": [
    {
     "name": "stdout",
     "output_type": "stream",
     "text": [
      "Epoch 1/20\n",
      "19125/19125 [==============================] - 3s 164us/step - loss: 0.1138 - acc: 0.0000e+00\n",
      "Epoch 2/20\n",
      "19125/19125 [==============================] - 4s 189us/step - loss: 0.1117 - acc: 0.0000e+00\n",
      "Epoch 3/20\n",
      "19125/19125 [==============================] - 4s 197us/step - loss: 0.1116 - acc: 0.0000e+00\n",
      "Epoch 4/20\n",
      "19125/19125 [==============================] - 5s 264us/step - loss: 0.1116 - acc: 0.0000e+00\n",
      "Epoch 5/20\n",
      "19125/19125 [==============================] - 5s 254us/step - loss: 0.1116 - acc: 0.0000e+00\n",
      "Epoch 6/20\n",
      "19125/19125 [==============================] - 4s 215us/step - loss: 0.1116 - acc: 0.0000e+00\n",
      "Epoch 7/20\n",
      "19125/19125 [==============================] - 4s 225us/step - loss: 0.1115 - acc: 0.0000e+00\n",
      "Epoch 8/20\n",
      "19125/19125 [==============================] - 5s 236us/step - loss: 0.1115 - acc: 0.0000e+00 0s - loss: 0.1116 - acc: 0.000\n",
      "Epoch 9/20\n",
      "19125/19125 [==============================] - 4s 229us/step - loss: 0.1115 - acc: 0.0000e+00\n",
      "Epoch 10/20\n",
      "19125/19125 [==============================] - 4s 235us/step - loss: 0.1115 - acc: 0.0000e+00\n",
      "Epoch 11/20\n",
      "19125/19125 [==============================] - 5s 240us/step - loss: 0.1115 - acc: 0.0000e+00\n",
      "Epoch 12/20\n",
      "19125/19125 [==============================] - 4s 205us/step - loss: 0.1115 - acc: 0.0000e+00\n",
      "Epoch 13/20\n",
      "19125/19125 [==============================] - 5s 253us/step - loss: 0.1115 - acc: 0.0000e+00\n",
      "Epoch 14/20\n",
      "19125/19125 [==============================] - 5s 253us/step - loss: 0.1115 - acc: 0.0000e+00\n",
      "Epoch 15/20\n",
      "19125/19125 [==============================] - 4s 208us/step - loss: 0.1115 - acc: 0.0000e+00 1s - loss: 0.\n",
      "Epoch 16/20\n",
      "19125/19125 [==============================] - 3s 173us/step - loss: 0.1115 - acc: 0.0000e+00\n",
      "Epoch 17/20\n",
      "19125/19125 [==============================] - 3s 157us/step - loss: 0.1115 - acc: 0.0000e+00\n",
      "Epoch 18/20\n",
      "19125/19125 [==============================] - 3s 165us/step - loss: 0.1115 - acc: 0.0000e+00\n",
      "Epoch 19/20\n",
      "19125/19125 [==============================] - 4s 185us/step - loss: 0.1115 - acc: 0.0000e+00\n",
      "Epoch 20/20\n",
      "19125/19125 [==============================] - 3s 154us/step - loss: 0.1115 - acc: 0.0000e+00\n",
      "Best: -0.111546 using {'learn_rate': 0.3, 'momentum': 0.9}\n",
      "-0.116976 (0.001942) with: {'learn_rate': 0.001, 'momentum': 0.0}\n",
      "-0.115107 (0.000760) with: {'learn_rate': 0.001, 'momentum': 0.2}\n",
      "-0.114569 (0.000372) with: {'learn_rate': 0.001, 'momentum': 0.4}\n",
      "-0.113560 (0.000612) with: {'learn_rate': 0.001, 'momentum': 0.6}\n",
      "-0.112911 (0.000357) with: {'learn_rate': 0.001, 'momentum': 0.8}\n",
      "-0.112265 (0.000362) with: {'learn_rate': 0.001, 'momentum': 0.9}\n",
      "-0.112397 (0.000403) with: {'learn_rate': 0.01, 'momentum': 0.0}\n",
      "-0.112250 (0.000308) with: {'learn_rate': 0.01, 'momentum': 0.2}\n",
      "-0.112154 (0.000349) with: {'learn_rate': 0.01, 'momentum': 0.4}\n",
      "-0.112008 (0.000303) with: {'learn_rate': 0.01, 'momentum': 0.6}\n",
      "-0.111935 (0.000303) with: {'learn_rate': 0.01, 'momentum': 0.8}\n",
      "-0.111841 (0.000311) with: {'learn_rate': 0.01, 'momentum': 0.9}\n",
      "-0.111826 (0.000325) with: {'learn_rate': 0.1, 'momentum': 0.0}\n",
      "-0.111811 (0.000298) with: {'learn_rate': 0.1, 'momentum': 0.2}\n",
      "-0.111798 (0.000271) with: {'learn_rate': 0.1, 'momentum': 0.4}\n",
      "-0.111808 (0.000298) with: {'learn_rate': 0.1, 'momentum': 0.6}\n",
      "-0.111677 (0.000286) with: {'learn_rate': 0.1, 'momentum': 0.8}\n",
      "-0.111624 (0.000284) with: {'learn_rate': 0.1, 'momentum': 0.9}\n",
      "-0.111768 (0.000324) with: {'learn_rate': 0.2, 'momentum': 0.0}\n",
      "-0.111727 (0.000297) with: {'learn_rate': 0.2, 'momentum': 0.2}\n",
      "-0.111708 (0.000327) with: {'learn_rate': 0.2, 'momentum': 0.4}\n",
      "-0.111674 (0.000326) with: {'learn_rate': 0.2, 'momentum': 0.6}\n",
      "-0.111625 (0.000305) with: {'learn_rate': 0.2, 'momentum': 0.8}\n",
      "-0.111549 (0.000287) with: {'learn_rate': 0.2, 'momentum': 0.9}\n",
      "-0.111757 (0.000289) with: {'learn_rate': 0.3, 'momentum': 0.0}\n",
      "-0.111662 (0.000292) with: {'learn_rate': 0.3, 'momentum': 0.2}\n",
      "-0.111695 (0.000311) with: {'learn_rate': 0.3, 'momentum': 0.4}\n",
      "-0.111659 (0.000311) with: {'learn_rate': 0.3, 'momentum': 0.6}\n",
      "-0.111610 (0.000274) with: {'learn_rate': 0.3, 'momentum': 0.8}\n",
      "-0.111546 (0.000310) with: {'learn_rate': 0.3, 'momentum': 0.9}\n"
     ]
    }
   ],
   "source": [
    "from keras.optimizers import SGD\n",
    "def create_model2(learn_rate=0.01, momentum=0):\n",
    "\t# create model\n",
    "\tmodel = Sequential()\n",
    "\tmodel.add(Dense(12, input_dim=31, activation='relu'))\n",
    "\tmodel.add(Dense(1, activation='sigmoid'))\n",
    "\t# Compile model\n",
    "\toptimizer = SGD(lr=learn_rate, momentum=momentum)\n",
    "\tmodel.compile(loss='binary_crossentropy', optimizer=optimizer, metrics=['accuracy'])\n",
    "\treturn model\n",
    "# fix random seed for reproducibility\n",
    "seed = 7\n",
    "numpy.random.seed(seed)\n",
    "\n",
    "model = KerasRegressor(build_fn=create_model2, epochs=20, batch_size=10, verbose=1)\n",
    "# define the grid search parameters\n",
    "learn_rate = [0.001, 0.01, 0.1, 0.2, 0.3]\n",
    "momentum = [0.0, 0.2, 0.4, 0.6, 0.8, 0.9]\n",
    "param_grid = dict(learn_rate=learn_rate, momentum=momentum)\n",
    "grid = GridSearchCV(estimator=model, param_grid=param_grid, n_jobs=-1, cv=3)\n",
    "grid_result = grid.fit(X_train, y_train)\n",
    "# summarize results\n",
    "print(\"Best: %f using %s\" % (grid_result.best_score_, grid_result.best_params_))\n",
    "means = grid_result.cv_results_['mean_test_score']\n",
    "stds = grid_result.cv_results_['std_test_score']\n",
    "params = grid_result.cv_results_['params']\n",
    "for mean, stdev, param in zip(means, stds, params):\n",
    "    print(\"%f (%f) with: %r\" % (mean, stdev, param))"
   ]
  },
  {
   "cell_type": "code",
   "execution_count": 13,
   "metadata": {},
   "outputs": [],
   "source": [
    "from keras import optimizers\n",
    "sgd = optimizers.SGD(lr=0.3, decay=1e-6, momentum=0.9, nesterov=True)"
   ]
  },
  {
   "cell_type": "code",
   "execution_count": 14,
   "metadata": {},
   "outputs": [],
   "source": [
    "model = Sequential()\n",
    "model.add(Dense(50, input_shape=(31,), activation='softplus'))\n",
    "model.add(Dense(50, activation='softplus'))\n",
    "model.add(Dropout(rate=0.2))\n",
    "model.add(Dense(50, activation='softplus'))\n",
    "model.add(Dense(1))\n",
    "model.compile(optimizer=sgd, loss='mean_squared_error')"
   ]
  },
  {
   "cell_type": "code",
   "execution_count": 15,
   "metadata": {
    "tags": [
     "outputPrepend",
     "outputPrepend",
     "outputPrepend",
     "outputPrepend",
     "outputPrepend",
     "outputPrepend",
     "outputPrepend",
     "outputPrepend"
    ]
   },
   "outputs": [
    {
     "name": "stdout",
     "output_type": "stream",
     "text": [
      "Epoch 00061: early stopping\n"
     ]
    },
    {
     "data": {
      "text/plain": [
       "<keras.callbacks.History at 0x26dda5757b8>"
      ]
     },
     "execution_count": 15,
     "metadata": {},
     "output_type": "execute_result"
    }
   ],
   "source": [
    "earlystopper = EarlyStopping(monitor='val_loss', min_delta=0, patience=50, verbose=1, mode='min')\n",
    "model.fit(X_train, y_train, epochs = 1000, validation_split = 0.2,shuffle = True, verbose = 0, callbacks=[earlystopper])"
   ]
  },
  {
   "cell_type": "code",
   "execution_count": 16,
   "metadata": {},
   "outputs": [
    {
     "name": "stdout",
     "output_type": "stream",
     "text": [
      "The R2 score on the Train set is:\t-0.316\n",
      "MSE:  0.00019207546552131385\n",
      "RMSE:  0.013859129320462878\n",
      "MAE:  0.010943845205235652\n"
     ]
    }
   ],
   "source": [
    "y_train_pred = model.predict(X_train)\n",
    "mse_train = mean_squared_error(y_train, y_train_pred)\n",
    "rmse_train = sqrt(mean_squared_error(y_train, y_train_pred))\n",
    "mae_train = mean_absolute_error(y_train, y_train_pred)\n",
    "print(\"The R2 score on the Train set is:\\t{:0.3f}\".format(r2_score(y_train, y_train_pred)))\n",
    "print(\"MSE: \",mse_train)\n",
    "print(\"RMSE: \",rmse_train)\n",
    "print(\"MAE: \",mae_train)"
   ]
  },
  {
   "cell_type": "code",
   "execution_count": 9,
   "metadata": {},
   "outputs": [],
   "source": [
    "# model.save(\"ozone-final.model\")"
   ]
  },
  {
   "cell_type": "code",
   "execution_count": 24,
   "metadata": {},
   "outputs": [
    {
     "data": {
      "text/plain": [
       "19125"
      ]
     },
     "execution_count": 24,
     "metadata": {},
     "output_type": "execute_result"
    }
   ],
   "source": [
    "len(y_train_pred)\n",
    "len(X_train)"
   ]
  }
 ],
 "metadata": {
  "kernelspec": {
   "display_name": "Python 3.7.2 64-bit",
   "language": "python",
   "name": "python37264bit69774f291abd483f85df9cd74e3c9e37"
  },
  "language_info": {
   "codemirror_mode": {
    "name": "ipython",
    "version": 3
   },
   "file_extension": ".py",
   "mimetype": "text/x-python",
   "name": "python",
   "nbconvert_exporter": "python",
   "pygments_lexer": "ipython3",
   "version": "3.7.2"
  }
 },
 "nbformat": 4,
 "nbformat_minor": 2
}
