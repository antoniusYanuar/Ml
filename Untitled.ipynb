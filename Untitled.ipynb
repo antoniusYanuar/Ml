{
 "cells": [
  {
   "cell_type": "code",
   "execution_count": 9,
   "metadata": {},
   "outputs": [
    {
     "name": "stdout",
     "output_type": "stream",
     "text": [
      "[[[46]]\n",
      "\n",
      " [[58]]\n",
      "\n",
      " [[72]]\n",
      "\n",
      " [[61]]\n",
      "\n",
      " [[73]]\n",
      "\n",
      " [[11]]\n",
      "\n",
      " [[70]]\n",
      "\n",
      " [[42]]\n",
      "\n",
      " [[ 9]]\n",
      "\n",
      " [[72]]]\n"
     ]
    }
   ],
   "source": [
    "import numpy as np\n",
    "coordinates = np.random.randint(0, 100, size=(10,1,1))\n",
    "print(coordinates)"
   ]
  }
 ],
 "metadata": {
  "kernelspec": {
   "display_name": "Python 3",
   "language": "python",
   "name": "python3"
  },
  "language_info": {
   "codemirror_mode": {
    "name": "ipython",
    "version": 3
   },
   "file_extension": ".py",
   "mimetype": "text/x-python",
   "name": "python",
   "nbconvert_exporter": "python",
   "pygments_lexer": "ipython3",
   "version": "3.7.2"
  }
 },
 "nbformat": 4,
 "nbformat_minor": 2
}
