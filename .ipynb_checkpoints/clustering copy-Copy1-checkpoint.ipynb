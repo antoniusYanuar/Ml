{
 "cells": [
  {
   "cell_type": "code",
   "execution_count": 1,
   "metadata": {},
   "outputs": [],
   "source": [
    "import pandas as pd\n",
    "import numpy as np\n",
    "import matplotlib.pyplot as plt\n",
    "from sklearn import preprocessing  \n",
    "from sklearn.model_selection import train_test_split\n",
    "from sklearn.preprocessing import MinMaxScaler\n",
    "from sklearn.cluster import KMeans\n",
    "from pandas import DataFrame\n",
    "import operator\n",
    "import matplotlib.cm as cm\n",
    "import math"
   ]
  },
  {
   "cell_type": "code",
   "execution_count": 2,
   "metadata": {},
   "outputs": [],
   "source": [
    "x = pd.read_csv('data_cleaned_avg_cluster2.csv')\n",
    "x = x.drop(['date', 'Address',], axis=1)\n",
    "\n",
    "X_after, test = train_test_split(x, test_size=0.2, random_state=123)\n",
    "# test.to_csv(r'data_test_daily_c.csv', index = False, header=True)\n",
    "\n",
    "X_after, test_daily = train_test_split(X_after, test_size=0.125, random_state=123)\n",
    "# test.to_csv(r'data_test_final_c.csv', index = False, header=True)\n",
    "\n",
    "colors = 10*[\n",
    "    'green', 'red', 'cyan', 'blue', 'black', 'yellow', 'magenta'\n",
    "]"
   ]
  },
  {
   "cell_type": "code",
   "execution_count": 3,
   "metadata": {},
   "outputs": [
    {
     "data": {
      "text/html": [
       "<div>\n",
       "<style scoped>\n",
       "    .dataframe tbody tr th:only-of-type {\n",
       "        vertical-align: middle;\n",
       "    }\n",
       "\n",
       "    .dataframe tbody tr th {\n",
       "        vertical-align: top;\n",
       "    }\n",
       "\n",
       "    .dataframe thead th {\n",
       "        text-align: right;\n",
       "    }\n",
       "</style>\n",
       "<table border=\"1\" class=\"dataframe\">\n",
       "  <thead>\n",
       "    <tr style=\"text-align: right;\">\n",
       "      <th></th>\n",
       "      <th>Latitude</th>\n",
       "      <th>Longitude</th>\n",
       "      <th>SO2</th>\n",
       "      <th>NO2</th>\n",
       "      <th>O3</th>\n",
       "      <th>CO</th>\n",
       "      <th>PM10</th>\n",
       "      <th>PM2.5</th>\n",
       "    </tr>\n",
       "  </thead>\n",
       "  <tbody>\n",
       "    <tr>\n",
       "      <th>14832</th>\n",
       "      <td>37.584848</td>\n",
       "      <td>127.094023</td>\n",
       "      <td>0.004870</td>\n",
       "      <td>0.014913</td>\n",
       "      <td>0.020870</td>\n",
       "      <td>0.300000</td>\n",
       "      <td>46.652174</td>\n",
       "      <td>13.260870</td>\n",
       "    </tr>\n",
       "    <tr>\n",
       "      <th>5935</th>\n",
       "      <td>37.504547</td>\n",
       "      <td>126.994458</td>\n",
       "      <td>0.003083</td>\n",
       "      <td>0.035292</td>\n",
       "      <td>0.007167</td>\n",
       "      <td>0.520833</td>\n",
       "      <td>51.666667</td>\n",
       "      <td>39.125000</td>\n",
       "    </tr>\n",
       "    <tr>\n",
       "      <th>7379</th>\n",
       "      <td>37.658774</td>\n",
       "      <td>127.068505</td>\n",
       "      <td>0.005133</td>\n",
       "      <td>0.043467</td>\n",
       "      <td>0.004600</td>\n",
       "      <td>0.853333</td>\n",
       "      <td>31.066667</td>\n",
       "      <td>25.133333</td>\n",
       "    </tr>\n",
       "    <tr>\n",
       "      <th>11247</th>\n",
       "      <td>37.609823</td>\n",
       "      <td>126.934848</td>\n",
       "      <td>0.004083</td>\n",
       "      <td>0.029042</td>\n",
       "      <td>0.019375</td>\n",
       "      <td>0.745833</td>\n",
       "      <td>32.291667</td>\n",
       "      <td>18.458333</td>\n",
       "    </tr>\n",
       "    <tr>\n",
       "      <th>11104</th>\n",
       "      <td>37.609823</td>\n",
       "      <td>126.934848</td>\n",
       "      <td>0.002412</td>\n",
       "      <td>0.012471</td>\n",
       "      <td>0.045000</td>\n",
       "      <td>0.335294</td>\n",
       "      <td>25.705882</td>\n",
       "      <td>11.647059</td>\n",
       "    </tr>\n",
       "  </tbody>\n",
       "</table>\n",
       "</div>"
      ],
      "text/plain": [
       "        Latitude   Longitude       SO2       NO2        O3        CO  \\\n",
       "14832  37.584848  127.094023  0.004870  0.014913  0.020870  0.300000   \n",
       "5935   37.504547  126.994458  0.003083  0.035292  0.007167  0.520833   \n",
       "7379   37.658774  127.068505  0.005133  0.043467  0.004600  0.853333   \n",
       "11247  37.609823  126.934848  0.004083  0.029042  0.019375  0.745833   \n",
       "11104  37.609823  126.934848  0.002412  0.012471  0.045000  0.335294   \n",
       "\n",
       "            PM10      PM2.5  \n",
       "14832  46.652174  13.260870  \n",
       "5935   51.666667  39.125000  \n",
       "7379   31.066667  25.133333  \n",
       "11247  32.291667  18.458333  \n",
       "11104  25.705882  11.647059  "
      ]
     },
     "execution_count": 3,
     "metadata": {},
     "output_type": "execute_result"
    }
   ],
   "source": [
    "X_after.head()"
   ]
  },
  {
   "cell_type": "code",
   "execution_count": 4,
   "metadata": {},
   "outputs": [],
   "source": [
    "class K_means(object):\n",
    "\n",
    "    def train(self, data, k, verbose=0):\n",
    "\n",
    "        shape = data.shape\n",
    "        \n",
    "        #initialize new array of zero untuk centroid\n",
    "        ranges = np.zeros((shape[1], 6))\n",
    "        centroids = np.zeros((shape[1], 6))\n",
    "\n",
    "        for dim in range(shape[1]):\n",
    "            ranges[dim, 0] = np.min(data[:,dim])\n",
    "            ranges[dim, 1] = np.max(data[:,dim])\n",
    "\n",
    "        if verbose == 1:\n",
    "            print('Ranges: ')\n",
    "            print(ranges)\n",
    "\n",
    "        #change array centroid shape sesuai cluster\n",
    "        centroids = np.zeros((k, shape[1]))\n",
    "        for i in range(k):\n",
    "            for dim in range(shape[1]):\n",
    "                centroids[i, dim] = np.random.uniform(ranges[dim, 0], ranges[dim, 1], 1)\n",
    "\n",
    "        if verbose == 1:\n",
    "            print('Centroids: ')\n",
    "            print(centroids)\n",
    "\n",
    "            plt.scatter(data[:,0], data[:,1])\n",
    "            plt.scatter(centroids[:,0], centroids[:,1], c = 'r')\n",
    "            plt.show()\n",
    "\n",
    "        count = 0\n",
    "        while True:\n",
    "            count += 1\n",
    "            if verbose == 1:\n",
    "                print('-----------------------------------------------')\n",
    "                print('Iteration: ', count)\n",
    "\n",
    "            #hitung jarak\n",
    "            distances = np.zeros((shape[0],k))\n",
    "            for ix, i in enumerate(data):\n",
    "                for ic, c in enumerate(centroids):\n",
    "                    distances[ix, ic] = np.sqrt(np.sum((i-c)**2))\n",
    "\n",
    "            #assign ke centroid terdekat\n",
    "            labels = np.argmin(distances, axis = 1)\n",
    "\n",
    "            #calculate posisi centroid baru\n",
    "            new_centroids = np.zeros((k, shape[1]))\n",
    "            for centroid in range(k):\n",
    "                temp = data[labels == centroid]\n",
    "                if len(temp) == 0:\n",
    "                    return 0\n",
    "                for dim in range(shape[1]): \n",
    "                    new_centroids[centroid, dim] = np.mean(temp[:,dim])\n",
    "\n",
    "            if verbose == 1:\n",
    "                plt.scatter(data[:,0], data[:,1], c = labels)\n",
    "                plt.scatter(new_centroids[:,0], new_centroids[:,1], c = 'r')\n",
    "                plt.show()\n",
    "\n",
    "            #Cek apakah perbedaan posisi centroid sudah lebih kecil dari epsilon\n",
    "            if np.linalg.norm(new_centroids - centroids) < np.finfo(float).eps:\n",
    "                print(\"DONE!\")\n",
    "                plt.scatter(data[:,0], data[:,1], c = labels)\n",
    "                plt.scatter(new_centroids[:,0], new_centroids[:,1], c = 'r')\n",
    "                plt.show()\n",
    "                break\n",
    "\n",
    "        #Move centroid ke titik baru\n",
    "            centroids = new_centroids\n",
    "        self.centroids = centroids\n",
    "        self.labels = labels\n",
    "        if verbose == 1:\n",
    "            print(labels)\n",
    "            print(centroids)\n",
    "        return 1\n",
    "\n",
    "    def getAverageDistance(self, data):\n",
    "\n",
    "        dists = np.zeros((len(self.centroids),))\n",
    "        for ix, centroid in enumerate(self.centroids):\n",
    "            temp = data[self.labels == ix]\n",
    "            dist = 0\n",
    "            for i in temp:\n",
    "                dist += np.linalg.norm(i - centroid)\n",
    "            dists[ix] = math.sqrt(dist)\n",
    "        return dists\n",
    "\n",
    "    def getLabels(self):\n",
    "        return self.labels"
   ]
  },
  {
   "cell_type": "code",
   "execution_count": 5,
   "metadata": {},
   "outputs": [
    {
     "data": {
      "text/html": [
       "<div>\n",
       "<style scoped>\n",
       "    .dataframe tbody tr th:only-of-type {\n",
       "        vertical-align: middle;\n",
       "    }\n",
       "\n",
       "    .dataframe tbody tr th {\n",
       "        vertical-align: top;\n",
       "    }\n",
       "\n",
       "    .dataframe thead th {\n",
       "        text-align: right;\n",
       "    }\n",
       "</style>\n",
       "<table border=\"1\" class=\"dataframe\">\n",
       "  <thead>\n",
       "    <tr style=\"text-align: right;\">\n",
       "      <th></th>\n",
       "      <th>Longitude</th>\n",
       "      <th>Latitude</th>\n",
       "      <th>O3</th>\n",
       "      <th>SO2</th>\n",
       "      <th>NO2</th>\n",
       "      <th>CO</th>\n",
       "    </tr>\n",
       "  </thead>\n",
       "  <tbody>\n",
       "    <tr>\n",
       "      <th>14832</th>\n",
       "      <td>127.094023</td>\n",
       "      <td>37.584848</td>\n",
       "      <td>0.020870</td>\n",
       "      <td>0.004870</td>\n",
       "      <td>0.014913</td>\n",
       "      <td>0.300000</td>\n",
       "    </tr>\n",
       "    <tr>\n",
       "      <th>5935</th>\n",
       "      <td>126.994458</td>\n",
       "      <td>37.504547</td>\n",
       "      <td>0.007167</td>\n",
       "      <td>0.003083</td>\n",
       "      <td>0.035292</td>\n",
       "      <td>0.520833</td>\n",
       "    </tr>\n",
       "    <tr>\n",
       "      <th>7379</th>\n",
       "      <td>127.068505</td>\n",
       "      <td>37.658774</td>\n",
       "      <td>0.004600</td>\n",
       "      <td>0.005133</td>\n",
       "      <td>0.043467</td>\n",
       "      <td>0.853333</td>\n",
       "    </tr>\n",
       "    <tr>\n",
       "      <th>11247</th>\n",
       "      <td>126.934848</td>\n",
       "      <td>37.609823</td>\n",
       "      <td>0.019375</td>\n",
       "      <td>0.004083</td>\n",
       "      <td>0.029042</td>\n",
       "      <td>0.745833</td>\n",
       "    </tr>\n",
       "    <tr>\n",
       "      <th>11104</th>\n",
       "      <td>126.934848</td>\n",
       "      <td>37.609823</td>\n",
       "      <td>0.045000</td>\n",
       "      <td>0.002412</td>\n",
       "      <td>0.012471</td>\n",
       "      <td>0.335294</td>\n",
       "    </tr>\n",
       "  </tbody>\n",
       "</table>\n",
       "</div>"
      ],
      "text/plain": [
       "        Longitude   Latitude        O3       SO2       NO2        CO\n",
       "14832  127.094023  37.584848  0.020870  0.004870  0.014913  0.300000\n",
       "5935   126.994458  37.504547  0.007167  0.003083  0.035292  0.520833\n",
       "7379   127.068505  37.658774  0.004600  0.005133  0.043467  0.853333\n",
       "11247  126.934848  37.609823  0.019375  0.004083  0.029042  0.745833\n",
       "11104  126.934848  37.609823  0.045000  0.002412  0.012471  0.335294"
      ]
     },
     "execution_count": 5,
     "metadata": {},
     "output_type": "execute_result"
    }
   ],
   "source": [
    "x2 = X_after[['Longitude','Latitude', 'O3','SO2', 'NO2','CO']].copy()\n",
    "x2.head()"
   ]
  },
  {
   "cell_type": "code",
   "execution_count": 6,
   "metadata": {},
   "outputs": [
    {
     "data": {
      "text/plain": [
       "array([[1.27094023e+02, 3.75848485e+01, 2.08695652e-02, 4.86956522e-03,\n",
       "        1.49130435e-02, 3.00000000e-01],\n",
       "       [1.26994458e+02, 3.75045471e+01, 7.16666667e-03, 3.08333333e-03,\n",
       "        3.52916667e-02, 5.20833333e-01],\n",
       "       [1.27068505e+02, 3.76587743e+01, 4.60000000e-03, 5.13333333e-03,\n",
       "        4.34666667e-02, 8.53333333e-01],\n",
       "       ...,\n",
       "       [1.27011952e+02, 3.76479299e+01, 3.43043478e-02, 3.47826087e-03,\n",
       "        7.47826087e-03, 3.34782609e-01],\n",
       "       [1.26949679e+02, 3.75937421e+01, 2.08947368e-02, 2.63157895e-03,\n",
       "        2.03157895e-02, 6.89473684e-01],\n",
       "       [1.27027279e+02, 3.76067189e+01, 2.52500000e-02, 4.91666667e-03,\n",
       "        1.61666667e-02, 4.00000000e-01]])"
      ]
     },
     "execution_count": 6,
     "metadata": {},
     "output_type": "execute_result"
    }
   ],
   "source": [
    "x_array = np.array(x2)\n",
    "x_array"
   ]
  },
  {
   "cell_type": "code",
   "execution_count": 7,
   "metadata": {
    "scrolled": true
   },
   "outputs": [
    {
     "name": "stdout",
     "output_type": "stream",
     "text": [
      "DONE!\n"
     ]
    },
    {
     "data": {
      "image/png": "[encoded data removed]",
      "text/plain": [
       "<Figure size 432x288 with 1 Axes>"
      ]
     },
     "metadata": {
      "needs_background": "light"
     },
     "output_type": "display_data"
    },
    {
     "data": {
      "text/plain": [
       "1"
      ]
     },
     "execution_count": 7,
     "metadata": {},
     "output_type": "execute_result"
    }
   ],
   "source": [
    "clf = K_means()\n",
    "clf.train(x_array,3)"
   ]
  },
  {
   "cell_type": "code",
   "execution_count": 8,
   "metadata": {},
   "outputs": [
    {
     "data": {
      "text/plain": [
       "array([[ 1.32419864,  0.58495236, -0.25453217,  0.44136752, -1.21711928,\n",
       "        -1.30091033],\n",
       "       [ 0.06197242, -0.9160352 , -1.38725247, -0.87996802,  0.62247015,\n",
       "         0.05614982],\n",
       "       [ 1.00070319,  1.9667677 , -1.59942039,  0.63648563,  1.36043186,\n",
       "         2.09942151],\n",
       "       ...,\n",
       "       [ 0.28375079,  1.76406502,  0.85602491, -0.58782689, -1.88826116,\n",
       "        -1.087165  ],\n",
       "       [-0.50570997,  0.75119085, -0.25245141, -1.21414586, -0.72941045,\n",
       "         1.0924748 ],\n",
       "       [ 0.47806485,  0.99375219,  0.10756694,  0.47621004, -1.10395403,\n",
       "        -0.68639253]])"
      ]
     },
     "execution_count": 8,
     "metadata": {},
     "output_type": "execute_result"
    }
   ],
   "source": [
    "from sklearn import preprocessing\n",
    "x_scaled = preprocessing.scale(x_array)\n",
    "x_scaled"
   ]
  },
  {
   "cell_type": "code",
   "execution_count": 9,
   "metadata": {
    "scrolled": true
   },
   "outputs": [
    {
     "name": "stdout",
     "output_type": "stream",
     "text": [
      "DONE!\n"
     ]
    },
    {
     "data": {
      "image/png": "[encoded data removed]",
      "text/plain": [
       "<Figure size 432x288 with 1 Axes>"
      ]
     },
     "metadata": {
      "needs_background": "light"
     },
     "output_type": "display_data"
    },
    {
     "name": "stdout",
     "output_type": "stream",
     "text": [
      "DONE!\n"
     ]
    },
    {
     "data": {
      "image/png": "[encoded data removed]",
      "text/plain": [
       "<Figure size 432x288 with 1 Axes>"
      ]
     },
     "metadata": {
      "needs_background": "light"
     },
     "output_type": "display_data"
    },
    {
     "name": "stdout",
     "output_type": "stream",
     "text": [
      "DONE!\n"
     ]
    },
    {
     "data": {
      "image/png": "[encoded data removed]",
      "text/plain": [
       "<Figure size 432x288 with 1 Axes>"
      ]
     },
     "metadata": {
      "needs_background": "light"
     },
     "output_type": "display_data"
    },
    {
     "name": "stdout",
     "output_type": "stream",
     "text": [
      "DONE!\n"
     ]
    },
    {
     "data": {
      "image/png": "[encoded data removed]",
      "text/plain": [
       "<Figure size 432x288 with 1 Axes>"
      ]
     },
     "metadata": {
      "needs_background": "light"
     },
     "output_type": "display_data"
    },
    {
     "name": "stdout",
     "output_type": "stream",
     "text": [
      "DONE!\n"
     ]
    },
    {
     "data": {
      "image/png": "[encoded data removed]",
      "text/plain": [
       "<Figure size 432x288 with 1 Axes>"
      ]
     },
     "metadata": {
      "needs_background": "light"
     },
     "output_type": "display_data"
    },
    {
     "name": "stdout",
     "output_type": "stream",
     "text": [
      "DONE!\n"
     ]
    },
    {
     "data": {
      "image/png": "[encoded data removed]",
      "text/plain": [
       "<Figure size 432x288 with 1 Axes>"
      ]
     },
     "metadata": {
      "needs_background": "light"
     },
     "output_type": "display_data"
    },
    {
     "name": "stdout",
     "output_type": "stream",
     "text": [
      "DONE!\n"
     ]
    },
    {
     "data": {
      "image/png": "[encoded data removed]",
      "text/plain": [
       "<Figure size 432x288 with 1 Axes>"
      ]
     },
     "metadata": {
      "needs_background": "light"
     },
     "output_type": "display_data"
    },
    {
     "name": "stdout",
     "output_type": "stream",
     "text": [
      "DONE!\n"
     ]
    },
    {
     "data": {
      "image/png": "[encoded data removed]",
      "text/plain": [
       "<Figure size 432x288 with 1 Axes>"
      ]
     },
     "metadata": {
      "needs_background": "light"
     },
     "output_type": "display_data"
    },
    {
     "name": "stdout",
     "output_type": "stream",
     "text": [
      "DONE!\n"
     ]
    },
    {
     "data": {
      "image/png": "[encoded data removed]",
      "text/plain": [
       "<Figure size 432x288 with 1 Axes>"
      ]
     },
     "metadata": {
      "needs_background": "light"
     },
     "output_type": "display_data"
    },
    {
     "name": "stdout",
     "output_type": "stream",
     "text": [
      "DONE!\n"
     ]
    },
    {
     "data": {
      "image/png": "[encoded data removed]",
      "text/plain": [
       "<Figure size 432x288 with 1 Axes>"
      ]
     },
     "metadata": {
      "needs_background": "light"
     },
     "output_type": "display_data"
    },
    {
     "name": "stdout",
     "output_type": "stream",
     "text": [
      "[array([209.0386247]), array([157.20943938, 117.01478724]), array([102.85535735,  95.6859424 , 123.90581199]), array([93.90862404, 85.78947892, 95.81578261, 88.87486685]), array([77.32062746, 80.90902464, 81.20659064, 91.58638286, 67.66863606]), array([58.39332637, 74.03848672, 79.26830346, 78.46614884, 76.35018258,\n",
      "       61.74259579]), array([62.23298933, 70.91351951, 77.01869113, 59.87276135, 65.07857536,\n",
      "       59.81534721, 62.52570612]), array([63.49739633, 68.05509206, 54.56700904, 57.83938065, 59.04769581,\n",
      "       63.26006155, 57.64220617, 60.05846707]), array([52.72162985, 58.18763134, 51.35451659, 53.29261722, 65.08252914,\n",
      "       61.99155123, 50.40478482, 58.76746902, 55.8436988 ]), array([52.75059335, 52.30518351, 53.85674278, 48.39146674, 48.29819009,\n",
      "       56.60952977, 60.18442632, 48.72670213, 55.15340359, 52.57955414])]\n"
     ]
    }
   ],
   "source": [
    "list_distance = []\n",
    "for x in range(1,11):\n",
    "    clf.train(x_scaled,x)\n",
    "    list_distance.append(clf.getAverageDistance(x_scaled)) \n",
    "    \n",
    "print(list_distance)"
   ]
  },
  {
   "cell_type": "code",
   "execution_count": 10,
   "metadata": {},
   "outputs": [
    {
     "name": "stdout",
     "output_type": "stream",
     "text": [
      "[209.03862469796348, 137.11211330700093, 107.4823705775754, 91.09718810564938, 79.73825233284191, 71.37650729288839, 65.3510842858954, 60.495913586270916, 56.40515866778347, 52.88557924174903]\n"
     ]
    }
   ],
   "source": [
    "list_distance2 = []\n",
    "for x in range (0,len(list_distance)):\n",
    "    if len(list_distance[x]) > 1:\n",
    "        avg = sum(list_distance[x]) / len(list_distance[x]) \n",
    "        list_distance2.append(avg)\n",
    "    else:\n",
    "        avg = sum(list_distance[x])\n",
    "        list_distance2.append(avg)\n",
    "print(list_distance2)"
   ]
  },
  {
   "cell_type": "code",
   "execution_count": 11,
   "metadata": {
    "scrolled": false
   },
   "outputs": [
    {
     "data": {
      "text/plain": [
       "<function matplotlib.pyplot.show(*args, **kw)>"
      ]
     },
     "execution_count": 11,
     "metadata": {},
     "output_type": "execute_result"
    },
    {
     "data": {
      "image/png": "[encoded data removed]",
      "text/plain": [
       "<Figure size 432x288 with 1 Axes>"
      ]
     },
     "metadata": {
      "needs_background": "light"
     },
     "output_type": "display_data"
    }
   ],
   "source": [
    "number_of_clusters = range(1,11)\n",
    "plt.plot(number_of_clusters,list_distance2, marker='o')\n",
    "plt.xlabel('NUMBER OF CLUSTERS')\n",
    "plt.ylabel('WCSS value')\n",
    "plt.show"
   ]
  },
  {
   "cell_type": "markdown",
   "metadata": {},
   "source": [
    "Analisa : \n",
    "1. Warna Ungu daerah dengan polusi lebih tinggi\n",
    "<br>\n",
    "2. Warna Kuning daerah dengan polusi lebih rendah"
   ]
  },
  {
   "cell_type": "code",
   "execution_count": 15,
   "metadata": {},
   "outputs": [
    {
     "data": {
      "text/html": [
       "<div>\n",
       "<style scoped>\n",
       "    .dataframe tbody tr th:only-of-type {\n",
       "        vertical-align: middle;\n",
       "    }\n",
       "\n",
       "    .dataframe tbody tr th {\n",
       "        vertical-align: top;\n",
       "    }\n",
       "\n",
       "    .dataframe thead th {\n",
       "        text-align: right;\n",
       "    }\n",
       "</style>\n",
       "<table border=\"1\" class=\"dataframe\">\n",
       "  <thead>\n",
       "    <tr style=\"text-align: right;\">\n",
       "      <th></th>\n",
       "      <th>Longitude</th>\n",
       "      <th>Latitude</th>\n",
       "      <th>O3</th>\n",
       "      <th>SO2</th>\n",
       "      <th>NO2</th>\n",
       "      <th>CO</th>\n",
       "    </tr>\n",
       "  </thead>\n",
       "  <tbody>\n",
       "    <tr>\n",
       "      <th>16882</th>\n",
       "      <td>127.047470</td>\n",
       "      <td>37.517528</td>\n",
       "      <td>0.021250</td>\n",
       "      <td>0.005583</td>\n",
       "      <td>0.033000</td>\n",
       "      <td>0.425000</td>\n",
       "    </tr>\n",
       "    <tr>\n",
       "      <th>18203</th>\n",
       "      <td>126.889692</td>\n",
       "      <td>37.498498</td>\n",
       "      <td>0.035375</td>\n",
       "      <td>0.005833</td>\n",
       "      <td>0.013083</td>\n",
       "      <td>0.354167</td>\n",
       "    </tr>\n",
       "    <tr>\n",
       "      <th>26116</th>\n",
       "      <td>126.835151</td>\n",
       "      <td>37.544640</td>\n",
       "      <td>0.029059</td>\n",
       "      <td>0.002000</td>\n",
       "      <td>0.012529</td>\n",
       "      <td>0.300000</td>\n",
       "    </tr>\n",
       "    <tr>\n",
       "      <th>18198</th>\n",
       "      <td>126.889692</td>\n",
       "      <td>37.498498</td>\n",
       "      <td>0.040762</td>\n",
       "      <td>0.005143</td>\n",
       "      <td>0.012381</td>\n",
       "      <td>0.319048</td>\n",
       "    </tr>\n",
       "    <tr>\n",
       "      <th>7615</th>\n",
       "      <td>127.049659</td>\n",
       "      <td>37.541864</td>\n",
       "      <td>0.010043</td>\n",
       "      <td>0.003391</td>\n",
       "      <td>0.010043</td>\n",
       "      <td>0.447826</td>\n",
       "    </tr>\n",
       "  </tbody>\n",
       "</table>\n",
       "</div>"
      ],
      "text/plain": [
       "        Longitude   Latitude        O3       SO2       NO2        CO\n",
       "16882  127.047470  37.517528  0.021250  0.005583  0.033000  0.425000\n",
       "18203  126.889692  37.498498  0.035375  0.005833  0.013083  0.354167\n",
       "26116  126.835151  37.544640  0.029059  0.002000  0.012529  0.300000\n",
       "18198  126.889692  37.498498  0.040762  0.005143  0.012381  0.319048\n",
       "7615   127.049659  37.541864  0.010043  0.003391  0.010043  0.447826"
      ]
     },
     "execution_count": 15,
     "metadata": {},
     "output_type": "execute_result"
    }
   ],
   "source": [
    "x3 = test[['Longitude','Latitude', 'O3','SO2', 'NO2','CO']].copy()\n",
    "x3.head()"
   ]
  },
  {
   "cell_type": "code",
   "execution_count": 16,
   "metadata": {},
   "outputs": [
    {
     "data": {
      "text/plain": [
       "array([[1.27047470e+02, 3.75175282e+01, 2.12500000e-02, 5.58333333e-03,\n",
       "        3.30000000e-02, 4.25000000e-01],\n",
       "       [1.26889692e+02, 3.74984981e+01, 3.53750000e-02, 5.83333333e-03,\n",
       "        1.30833333e-02, 3.54166667e-01],\n",
       "       [1.26835151e+02, 3.75446400e+01, 2.90588235e-02, 2.00000000e-03,\n",
       "        1.25294118e-02, 3.00000000e-01],\n",
       "       ...,\n",
       "       [1.27092509e+02, 3.75026857e+01, 2.07083333e-02, 2.41666667e-03,\n",
       "        3.15833333e-02, 4.62500000e-01],\n",
       "       [1.26974676e+02, 3.75642629e+01, 1.66666667e-02, 3.57142857e-03,\n",
       "        4.64761905e-02, 6.76190476e-01],\n",
       "       [1.26897370e+02, 3.75250065e+01, 2.33333333e-02, 4.75000000e-03,\n",
       "        1.85833333e-02, 4.45833333e-01]])"
      ]
     },
     "execution_count": 16,
     "metadata": {},
     "output_type": "execute_result"
    }
   ],
   "source": [
    "x_test = np.array(x3)\n",
    "x_test"
   ]
  },
  {
   "cell_type": "code",
   "execution_count": 20,
   "metadata": {},
   "outputs": [
    {
     "data": {
      "text/plain": [
       "array([[ 0.73980406, -0.68552727, -0.21610248,  0.99648674,  0.41201976,\n",
       "        -0.52904154],\n",
       "       [-1.26856924, -1.03994318,  0.96505802,  1.18181563, -1.39020411,\n",
       "        -0.97621578],\n",
       "       [-1.96283994, -0.18059806,  0.43688682, -1.65989402, -1.44032749,\n",
       "        -1.31817255],\n",
       "       ...,\n",
       "       [ 1.31311602, -0.96195347, -0.26139772, -1.35101253,  0.2838281 ,\n",
       "        -0.29230224],\n",
       "       [-0.18680416,  0.18485814, -0.5993699 , -0.49496957,  1.63145636,\n",
       "         1.05673602],\n",
       "       [-1.17083356, -0.54625167, -0.04189001,  0.37872377, -0.89251886,\n",
       "        -0.3975197 ]])"
      ]
     },
     "execution_count": 20,
     "metadata": {},
     "output_type": "execute_result"
    }
   ],
   "source": [
    "from sklearn import preprocessing\n",
    "x_scaled = preprocessing.scale(x_test)\n",
    "x_scaled"
   ]
  },
  {
   "cell_type": "code",
   "execution_count": 21,
   "metadata": {},
   "outputs": [
    {
     "name": "stdout",
     "output_type": "stream",
     "text": [
      "DONE!\n"
     ]
    },
    {
     "data": {
      "image/png": "[encoded data removed]",
      "text/plain": [
       "<Figure size 432x288 with 1 Axes>"
      ]
     },
     "metadata": {
      "needs_background": "light"
     },
     "output_type": "display_data"
    },
    {
     "data": {
      "text/plain": [
       "1"
      ]
     },
     "execution_count": 21,
     "metadata": {},
     "output_type": "execute_result"
    }
   ],
   "source": [
    "clf = K_means()\n",
    "clf.train(x_scaled,2)"
   ]
  }
 ],
 "metadata": {
  "kernelspec": {
   "display_name": "Python 3",
   "language": "python",
   "name": "python3"
  },
  "language_info": {
   "codemirror_mode": {
    "name": "ipython",
    "version": 3
   },
   "file_extension": ".py",
   "mimetype": "text/x-python",
   "name": "python",
   "nbconvert_exporter": "python",
   "pygments_lexer": "ipython3",
   "version": "3.8.1"
  }
 },
 "nbformat": 4,
 "nbformat_minor": 2
}
