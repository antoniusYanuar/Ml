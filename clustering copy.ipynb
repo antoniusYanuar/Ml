{
 "cells": [
  {
   "cell_type": "code",
   "execution_count": 1,
   "metadata": {},
   "outputs": [],
   "source": [
    "import pandas as pd\n",
    "import numpy as np\n",
    "import matplotlib.pyplot as plt\n",
    "from sklearn import preprocessing  \n",
    "from sklearn.model_selection import train_test_split\n",
    "from sklearn.preprocessing import MinMaxScaler\n",
    "from sklearn.cluster import KMeans\n",
    "from pandas import DataFrame\n",
    "import operator\n",
    "import matplotlib.cm as cm"
   ]
  },
  {
   "cell_type": "code",
   "execution_count": 2,
   "metadata": {},
   "outputs": [],
   "source": [
    "x = pd.read_csv('data_cleaned_avg_cluster2.csv')\n",
    "x = x.drop(['date', 'Address',], axis=1)\n",
    "\n",
    "X_after, test = train_test_split(x, test_size=0.2, random_state=42)\n",
    "# test.to_csv(r'data_test_daily_c.csv', index = False, header=True)\n",
    "\n",
    "X_after, test_daily = train_test_split(X_after, test_size=0.125, random_state=42)\n",
    "# test.to_csv(r'data_test_final_c.csv', index = False, header=True)\n",
    "\n",
    "colors = 10*[\n",
    "    'green', 'red', 'cyan', 'blue', 'black', 'yellow', 'magenta'\n",
    "]"
   ]
  },
  {
   "cell_type": "code",
   "execution_count": 3,
   "metadata": {},
   "outputs": [
    {
     "data": {
      "text/html": [
       "<div>\n",
       "<style scoped>\n",
       "    .dataframe tbody tr th:only-of-type {\n",
       "        vertical-align: middle;\n",
       "    }\n",
       "\n",
       "    .dataframe tbody tr th {\n",
       "        vertical-align: top;\n",
       "    }\n",
       "\n",
       "    .dataframe thead th {\n",
       "        text-align: right;\n",
       "    }\n",
       "</style>\n",
       "<table border=\"1\" class=\"dataframe\">\n",
       "  <thead>\n",
       "    <tr style=\"text-align: right;\">\n",
       "      <th></th>\n",
       "      <th>Latitude</th>\n",
       "      <th>Longitude</th>\n",
       "      <th>SO2</th>\n",
       "      <th>NO2</th>\n",
       "      <th>O3</th>\n",
       "      <th>CO</th>\n",
       "      <th>PM10</th>\n",
       "      <th>PM2.5</th>\n",
       "    </tr>\n",
       "  </thead>\n",
       "  <tbody>\n",
       "    <tr>\n",
       "      <th>23066</th>\n",
       "      <td>37.544962</td>\n",
       "      <td>127.136792</td>\n",
       "      <td>0.003333</td>\n",
       "      <td>0.024833</td>\n",
       "      <td>0.030333</td>\n",
       "      <td>0.404167</td>\n",
       "      <td>24.458333</td>\n",
       "      <td>13.375000</td>\n",
       "    </tr>\n",
       "    <tr>\n",
       "      <th>3263</th>\n",
       "      <td>37.487355</td>\n",
       "      <td>126.927102</td>\n",
       "      <td>0.003583</td>\n",
       "      <td>0.032000</td>\n",
       "      <td>0.030583</td>\n",
       "      <td>0.625000</td>\n",
       "      <td>50.666667</td>\n",
       "      <td>45.458333</td>\n",
       "    </tr>\n",
       "    <tr>\n",
       "      <th>24329</th>\n",
       "      <td>37.480917</td>\n",
       "      <td>126.971481</td>\n",
       "      <td>0.004000</td>\n",
       "      <td>0.023556</td>\n",
       "      <td>0.020444</td>\n",
       "      <td>0.438889</td>\n",
       "      <td>40.611111</td>\n",
       "      <td>25.000000</td>\n",
       "    </tr>\n",
       "    <tr>\n",
       "      <th>3190</th>\n",
       "      <td>37.540033</td>\n",
       "      <td>127.004850</td>\n",
       "      <td>0.003000</td>\n",
       "      <td>0.033800</td>\n",
       "      <td>0.006333</td>\n",
       "      <td>0.600000</td>\n",
       "      <td>38.533333</td>\n",
       "      <td>29.133333</td>\n",
       "    </tr>\n",
       "    <tr>\n",
       "      <th>9665</th>\n",
       "      <td>37.452357</td>\n",
       "      <td>126.908296</td>\n",
       "      <td>0.005429</td>\n",
       "      <td>0.027429</td>\n",
       "      <td>0.070143</td>\n",
       "      <td>0.628571</td>\n",
       "      <td>85.285714</td>\n",
       "      <td>53.571429</td>\n",
       "    </tr>\n",
       "  </tbody>\n",
       "</table>\n",
       "</div>"
      ],
      "text/plain": [
       "        Latitude   Longitude       SO2       NO2        O3        CO  \\\n",
       "23066  37.544962  127.136792  0.003333  0.024833  0.030333  0.404167   \n",
       "3263   37.487355  126.927102  0.003583  0.032000  0.030583  0.625000   \n",
       "24329  37.480917  126.971481  0.004000  0.023556  0.020444  0.438889   \n",
       "3190   37.540033  127.004850  0.003000  0.033800  0.006333  0.600000   \n",
       "9665   37.452357  126.908296  0.005429  0.027429  0.070143  0.628571   \n",
       "\n",
       "            PM10      PM2.5  \n",
       "23066  24.458333  13.375000  \n",
       "3263   50.666667  45.458333  \n",
       "24329  40.611111  25.000000  \n",
       "3190   38.533333  29.133333  \n",
       "9665   85.285714  53.571429  "
      ]
     },
     "execution_count": 3,
     "metadata": {},
     "output_type": "execute_result"
    }
   ],
   "source": [
    "X_after.head()"
   ]
  },
  {
   "cell_type": "code",
   "execution_count": 4,
   "metadata": {},
   "outputs": [],
   "source": [
    "class K_means(object):\n",
    "\n",
    "#     def __init__(self, k=3):\n",
    "#         self.k = k\n",
    "\n",
    "    def train(self, data, k, verbose=0):\n",
    "\n",
    "        shape = data.shape\n",
    "\n",
    "        ranges = np.zeros((shape[1], 5))\n",
    "        centroids = np.zeros((shape[1], 5))\n",
    "\n",
    "        for dim in range(shape[1]):\n",
    "            ranges[dim, 0] = np.min(data[:,dim])\n",
    "            ranges[dim, 1] = np.max(data[:,dim])\n",
    "\n",
    "        if verbose == 1:\n",
    "            print('Ranges: ')\n",
    "            print(ranges)\n",
    "\n",
    "        centroids = np.zeros((k, shape[1]))\n",
    "        for i in range(k):\n",
    "            for dim in range(shape[1]):\n",
    "                centroids[i, dim] = np.random.uniform(ranges[dim, 0], ranges[dim, 1], 1)\n",
    "\n",
    "        if verbose == 1:\n",
    "            print('Centroids: ')\n",
    "            print(centroids)\n",
    "\n",
    "            plt.scatter(data[:,0], data[:,1])\n",
    "            plt.scatter(centroids[:,0], centroids[:,1], c = 'r')\n",
    "            plt.show()\n",
    "\n",
    "        count = 0\n",
    "        while True:\n",
    "            count += 1\n",
    "            if verbose == 1:\n",
    "                print('-----------------------------------------------')\n",
    "                print('Iteration: ', count)\n",
    "\n",
    "            distances = np.zeros((shape[0],k))\n",
    "            for ix, i in enumerate(data):\n",
    "                for ic, c in enumerate(centroids):\n",
    "                    distances[ix, ic] = np.sqrt(np.sum((i-c)**2))\n",
    "\n",
    "            labels = np.argmin(distances, axis = 1)\n",
    "\n",
    "            new_centroids = np.zeros((k, shape[1]))\n",
    "            for centroid in range(k):\n",
    "                temp = data[labels == centroid]\n",
    "                if len(temp) == 0:\n",
    "                    return 0\n",
    "                for dim in range(shape[1]): \n",
    "                    new_centroids[centroid, dim] = np.mean(temp[:,dim])\n",
    "\n",
    "            if verbose == 1:\n",
    "                plt.scatter(data[:,0], data[:,1], c = labels)\n",
    "                plt.scatter(new_centroids[:,0], new_centroids[:,1], c = 'r')\n",
    "                plt.show()\n",
    "\n",
    "            if np.linalg.norm(new_centroids - centroids) < np.finfo(float).eps:\n",
    "                print(\"DONE!\")\n",
    "                plt.scatter(data[:,0], data[:,1], c = labels)\n",
    "                plt.scatter(new_centroids[:,0], new_centroids[:,1], c = 'r')\n",
    "                plt.show()\n",
    "                break\n",
    "\n",
    "            centroids = new_centroids\n",
    "        self.centroids = centroids\n",
    "        self.labels = labels\n",
    "        if verbose == 1:\n",
    "            print(labels)\n",
    "            print(centroids)\n",
    "        return 1\n",
    "\n",
    "    def getAverageDistance(self, data):\n",
    "\n",
    "        dists = np.zeros((len(self.centroids),))\n",
    "        for ix, centroid in enumerate(self.centroids):\n",
    "            temp = data[self.labels == ix]\n",
    "            dist = 0\n",
    "            for i in temp:\n",
    "                dist += np.linalg.norm(i - centroid)\n",
    "            dists[ix] = dist/len(temp)\n",
    "        return dists\n",
    "\n",
    "    def getLabels(self):\n",
    "        return self.labels"
   ]
  },
  {
   "cell_type": "code",
   "execution_count": 5,
   "metadata": {},
   "outputs": [
    {
     "data": {
      "text/html": [
       "<div>\n",
       "<style scoped>\n",
       "    .dataframe tbody tr th:only-of-type {\n",
       "        vertical-align: middle;\n",
       "    }\n",
       "\n",
       "    .dataframe tbody tr th {\n",
       "        vertical-align: top;\n",
       "    }\n",
       "\n",
       "    .dataframe thead th {\n",
       "        text-align: right;\n",
       "    }\n",
       "</style>\n",
       "<table border=\"1\" class=\"dataframe\">\n",
       "  <thead>\n",
       "    <tr style=\"text-align: right;\">\n",
       "      <th></th>\n",
       "      <th>Latitude</th>\n",
       "      <th>Longitude</th>\n",
       "      <th>O3</th>\n",
       "      <th>SO2</th>\n",
       "      <th>NO2</th>\n",
       "    </tr>\n",
       "  </thead>\n",
       "  <tbody>\n",
       "    <tr>\n",
       "      <th>23066</th>\n",
       "      <td>37.544962</td>\n",
       "      <td>127.136792</td>\n",
       "      <td>0.030333</td>\n",
       "      <td>0.003333</td>\n",
       "      <td>0.024833</td>\n",
       "    </tr>\n",
       "    <tr>\n",
       "      <th>3263</th>\n",
       "      <td>37.487355</td>\n",
       "      <td>126.927102</td>\n",
       "      <td>0.030583</td>\n",
       "      <td>0.003583</td>\n",
       "      <td>0.032000</td>\n",
       "    </tr>\n",
       "    <tr>\n",
       "      <th>24329</th>\n",
       "      <td>37.480917</td>\n",
       "      <td>126.971481</td>\n",
       "      <td>0.020444</td>\n",
       "      <td>0.004000</td>\n",
       "      <td>0.023556</td>\n",
       "    </tr>\n",
       "    <tr>\n",
       "      <th>3190</th>\n",
       "      <td>37.540033</td>\n",
       "      <td>127.004850</td>\n",
       "      <td>0.006333</td>\n",
       "      <td>0.003000</td>\n",
       "      <td>0.033800</td>\n",
       "    </tr>\n",
       "    <tr>\n",
       "      <th>9665</th>\n",
       "      <td>37.452357</td>\n",
       "      <td>126.908296</td>\n",
       "      <td>0.070143</td>\n",
       "      <td>0.005429</td>\n",
       "      <td>0.027429</td>\n",
       "    </tr>\n",
       "  </tbody>\n",
       "</table>\n",
       "</div>"
      ],
      "text/plain": [
       "        Latitude   Longitude        O3       SO2       NO2\n",
       "23066  37.544962  127.136792  0.030333  0.003333  0.024833\n",
       "3263   37.487355  126.927102  0.030583  0.003583  0.032000\n",
       "24329  37.480917  126.971481  0.020444  0.004000  0.023556\n",
       "3190   37.540033  127.004850  0.006333  0.003000  0.033800\n",
       "9665   37.452357  126.908296  0.070143  0.005429  0.027429"
      ]
     },
     "execution_count": 5,
     "metadata": {},
     "output_type": "execute_result"
    }
   ],
   "source": [
    "x2 = X_after[['Latitude','Longitude', 'O3','SO2', 'NO2' ]].copy()\n",
    "x2.head()"
   ]
  },
  {
   "cell_type": "code",
   "execution_count": 6,
   "metadata": {},
   "outputs": [
    {
     "data": {
      "text/plain": [
       "array([[3.75449625e+01, 1.27136792e+02, 3.03333333e-02, 3.33333333e-03,\n",
       "        2.48333333e-02],\n",
       "       [3.74873546e+01, 1.26927102e+02, 3.05833333e-02, 3.58333333e-03,\n",
       "        3.20000000e-02],\n",
       "       [3.74809167e+01, 1.26971481e+02, 2.04444444e-02, 4.00000000e-03,\n",
       "        2.35555556e-02],\n",
       "       ...,\n",
       "       [3.75259388e+01, 1.26856603e+02, 2.81250000e-02, 3.58333333e-03,\n",
       "        2.69583333e-02],\n",
       "       [3.75259388e+01, 1.26856603e+02, 2.80476190e-02, 7.23809524e-03,\n",
       "        4.94761905e-02],\n",
       "       [3.75642629e+01, 1.26974676e+02, 2.00555556e-02, 4.88888889e-03,\n",
       "        5.38333333e-02]])"
      ]
     },
     "execution_count": 6,
     "metadata": {},
     "output_type": "execute_result"
    }
   ],
   "source": [
    "x_array = np.array(x2)\n",
    "x_array"
   ]
  },
  {
   "cell_type": "code",
   "execution_count": null,
   "metadata": {},
   "outputs": [],
   "source": []
  },
  {
   "cell_type": "code",
   "execution_count": 7,
   "metadata": {
    "scrolled": true
   },
   "outputs": [
    {
     "name": "stdout",
     "output_type": "stream",
     "text": [
      "DONE!\n"
     ]
    },
    {
     "data": {
      "image/png": "[encoded data removed]",
      "text/plain": [
       "<Figure size 432x288 with 1 Axes>"
      ]
     },
     "metadata": {
      "needs_background": "light"
     },
     "output_type": "display_data"
    },
    {
     "data": {
      "text/plain": [
       "1"
      ]
     },
     "execution_count": 7,
     "metadata": {},
     "output_type": "execute_result"
    }
   ],
   "source": [
    "clf = K_means()\n",
    "clf.train(x_array,3)"
   ]
  },
  {
   "cell_type": "code",
   "execution_count": 8,
   "metadata": {},
   "outputs": [
    {
     "data": {
      "text/plain": [
       "array([[-0.16595002,  1.86931965,  0.52780193, -0.69323812, -0.32624002],\n",
       "       [-1.24396612, -0.79047987,  0.54846494, -0.50885886,  0.32403727],\n",
       "       [-1.36443848, -0.22756026, -0.28953474, -0.20156009, -0.44218094],\n",
       "       ...,\n",
       "       [-0.52194034, -1.68472252,  0.34527872, -0.50885886, -0.13342525],\n",
       "       [-0.52194034, -1.68472252,  0.33888302,  2.18659032,  1.9097633 ],\n",
       "       [ 0.19521819, -0.18703343, -0.32167719,  0.45401061,  2.30511461]])"
      ]
     },
     "execution_count": 8,
     "metadata": {},
     "output_type": "execute_result"
    }
   ],
   "source": [
    "from sklearn import preprocessing\n",
    "x_scaled = preprocessing.scale(x_array)\n",
    "x_scaled"
   ]
  },
  {
   "cell_type": "code",
   "execution_count": 9,
   "metadata": {},
   "outputs": [],
   "source": [
    "wcss = []\n",
    "\n",
    "for i in range(1,11):\n",
    "    kmeans = KMeans(i)\n",
    "    kmeans.fit(x_scaled)\n",
    "    wcss_iteration = kmeans.inertia_\n",
    "    wcss.append(wcss_iteration)"
   ]
  },
  {
   "cell_type": "code",
   "execution_count": 10,
   "metadata": {},
   "outputs": [
    {
     "data": {
      "text/plain": [
       "[92969.99999999999,\n",
       " 73033.30971437103,\n",
       " 60065.16308300031,\n",
       " 53930.2502138849,\n",
       " 49016.60187495039,\n",
       " 45046.70893923662,\n",
       " 41942.3661106971,\n",
       " 39565.9832288574,\n",
       " 37670.38159175383,\n",
       " 36097.454756350926]"
      ]
     },
     "execution_count": 10,
     "metadata": {},
     "output_type": "execute_result"
    }
   ],
   "source": [
    "wcss"
   ]
  },
  {
   "cell_type": "code",
   "execution_count": 11,
   "metadata": {
    "scrolled": true
   },
   "outputs": [
    {
     "data": {
      "text/plain": [
       "<function matplotlib.pyplot.show(*args, **kw)>"
      ]
     },
     "execution_count": 11,
     "metadata": {},
     "output_type": "execute_result"
    },
    {
     "data": {
      "image/png": "[encoded data removed]",
      "text/plain": [
       "<Figure size 432x288 with 1 Axes>"
      ]
     },
     "metadata": {
      "needs_background": "light"
     },
     "output_type": "display_data"
    }
   ],
   "source": [
    "number_of_clusters = range(1,11)\n",
    "plt.plot(number_of_clusters,wcss, marker='x')\n",
    "plt.xlabel('NUMBER OF CLUSTERS')\n",
    "plt.ylabel('WCSS value')\n",
    "plt.show"
   ]
  },
  {
   "cell_type": "code",
   "execution_count": 12,
   "metadata": {
    "scrolled": true
   },
   "outputs": [
    {
     "name": "stdout",
     "output_type": "stream",
     "text": [
      "DONE!\n"
     ]
    },
    {
     "data": {
      "image/png": "[encoded data removed]",
      "text/plain": [
       "<Figure size 432x288 with 1 Axes>"
      ]
     },
     "metadata": {
      "needs_background": "light"
     },
     "output_type": "display_data"
    },
    {
     "data": {
      "text/plain": [
       "1"
      ]
     },
     "execution_count": 12,
     "metadata": {},
     "output_type": "execute_result"
    }
   ],
   "source": [
    "clf2 = K_means()\n",
    "clf2.train(x_scaled,2)"
   ]
  }
 ],
 "metadata": {
  "kernelspec": {
   "display_name": "Python 3",
   "language": "python",
   "name": "python3"
  },
  "language_info": {
   "codemirror_mode": {
    "name": "ipython",
    "version": 3
   },
   "file_extension": ".py",
   "mimetype": "text/x-python",
   "name": "python",
   "nbconvert_exporter": "python",
   "pygments_lexer": "ipython3",
   "version": "3.7.2"
  }
 },
 "nbformat": 4,
 "nbformat_minor": 2
}
