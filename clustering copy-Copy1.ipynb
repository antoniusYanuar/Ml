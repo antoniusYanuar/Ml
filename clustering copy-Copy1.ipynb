{
 "cells": [
  {
   "cell_type": "code",
   "execution_count": 1,
   "metadata": {},
   "outputs": [],
   "source": [
    "import pandas as pd\n",
    "import numpy as np\n",
    "import matplotlib.pyplot as plt\n",
    "from sklearn import preprocessing  \n",
    "from sklearn.model_selection import train_test_split\n",
    "from sklearn.preprocessing import MinMaxScaler\n",
    "from sklearn.cluster import KMeans\n",
    "from pandas import DataFrame\n",
    "import operator\n",
    "import matplotlib.cm as cm\n",
    "import math"
   ]
  },
  {
   "cell_type": "code",
   "execution_count": 2,
   "metadata": {},
   "outputs": [],
   "source": [
    "x = pd.read_csv('data_cleaned_avg_cluster2.csv')\n",
    "x = x.drop(['date', 'Address',], axis=1)\n",
    "\n",
    "X_after, test_daily = train_test_split(x, test_size=0.2, random_state=123)\n",
    "# test.to_csv(r'data_test_daily_c.csv', index = False, header=True)\n",
    "\n",
    "X_after, test = train_test_split(X_after, test_size=0.125, random_state=123)\n",
    "# test.to_csv(r'data_test_final_c.csv', index = False, header=True)\n",
    "\n",
    "colors = 10*[\n",
    "    'green', 'red', 'cyan', 'blue', 'black', 'yellow', 'magenta'\n",
    "]"
   ]
  },
  {
   "cell_type": "code",
   "execution_count": 3,
   "metadata": {},
   "outputs": [
    {
     "data": {
      "text/html": [
       "<div>\n",
       "<style scoped>\n",
       "    .dataframe tbody tr th:only-of-type {\n",
       "        vertical-align: middle;\n",
       "    }\n",
       "\n",
       "    .dataframe tbody tr th {\n",
       "        vertical-align: top;\n",
       "    }\n",
       "\n",
       "    .dataframe thead th {\n",
       "        text-align: right;\n",
       "    }\n",
       "</style>\n",
       "<table border=\"1\" class=\"dataframe\">\n",
       "  <thead>\n",
       "    <tr style=\"text-align: right;\">\n",
       "      <th></th>\n",
       "      <th>Latitude</th>\n",
       "      <th>Longitude</th>\n",
       "      <th>SO2</th>\n",
       "      <th>NO2</th>\n",
       "      <th>O3</th>\n",
       "      <th>CO</th>\n",
       "      <th>PM10</th>\n",
       "      <th>PM2.5</th>\n",
       "    </tr>\n",
       "  </thead>\n",
       "  <tbody>\n",
       "    <tr>\n",
       "      <th>14832</th>\n",
       "      <td>37.584848</td>\n",
       "      <td>127.094023</td>\n",
       "      <td>0.004870</td>\n",
       "      <td>0.014913</td>\n",
       "      <td>0.020870</td>\n",
       "      <td>0.300000</td>\n",
       "      <td>46.652174</td>\n",
       "      <td>13.260870</td>\n",
       "    </tr>\n",
       "    <tr>\n",
       "      <th>5935</th>\n",
       "      <td>37.504547</td>\n",
       "      <td>126.994458</td>\n",
       "      <td>0.003083</td>\n",
       "      <td>0.035292</td>\n",
       "      <td>0.007167</td>\n",
       "      <td>0.520833</td>\n",
       "      <td>51.666667</td>\n",
       "      <td>39.125000</td>\n",
       "    </tr>\n",
       "    <tr>\n",
       "      <th>7379</th>\n",
       "      <td>37.658774</td>\n",
       "      <td>127.068505</td>\n",
       "      <td>0.005133</td>\n",
       "      <td>0.043467</td>\n",
       "      <td>0.004600</td>\n",
       "      <td>0.853333</td>\n",
       "      <td>31.066667</td>\n",
       "      <td>25.133333</td>\n",
       "    </tr>\n",
       "    <tr>\n",
       "      <th>11247</th>\n",
       "      <td>37.609823</td>\n",
       "      <td>126.934848</td>\n",
       "      <td>0.004083</td>\n",
       "      <td>0.029042</td>\n",
       "      <td>0.019375</td>\n",
       "      <td>0.745833</td>\n",
       "      <td>32.291667</td>\n",
       "      <td>18.458333</td>\n",
       "    </tr>\n",
       "    <tr>\n",
       "      <th>11104</th>\n",
       "      <td>37.609823</td>\n",
       "      <td>126.934848</td>\n",
       "      <td>0.002412</td>\n",
       "      <td>0.012471</td>\n",
       "      <td>0.045000</td>\n",
       "      <td>0.335294</td>\n",
       "      <td>25.705882</td>\n",
       "      <td>11.647059</td>\n",
       "    </tr>\n",
       "  </tbody>\n",
       "</table>\n",
       "</div>"
      ],
      "text/plain": [
       "        Latitude   Longitude       SO2       NO2        O3        CO  \\\n",
       "14832  37.584848  127.094023  0.004870  0.014913  0.020870  0.300000   \n",
       "5935   37.504547  126.994458  0.003083  0.035292  0.007167  0.520833   \n",
       "7379   37.658774  127.068505  0.005133  0.043467  0.004600  0.853333   \n",
       "11247  37.609823  126.934848  0.004083  0.029042  0.019375  0.745833   \n",
       "11104  37.609823  126.934848  0.002412  0.012471  0.045000  0.335294   \n",
       "\n",
       "            PM10      PM2.5  \n",
       "14832  46.652174  13.260870  \n",
       "5935   51.666667  39.125000  \n",
       "7379   31.066667  25.133333  \n",
       "11247  32.291667  18.458333  \n",
       "11104  25.705882  11.647059  "
      ]
     },
     "execution_count": 3,
     "metadata": {},
     "output_type": "execute_result"
    }
   ],
   "source": [
    "X_after.head()"
   ]
  },
  {
   "cell_type": "code",
   "execution_count": 4,
   "metadata": {},
   "outputs": [],
   "source": [
    "class K_means(object):\n",
    "\n",
    "    def train(self, data, k, verbose=0):\n",
    "\n",
    "        shape = data.shape\n",
    "        \n",
    "        #initialize new array of zero untuk centroid\n",
    "        ranges = np.zeros((shape[1], 6))\n",
    "        centroids = np.zeros((shape[1], 6))\n",
    "\n",
    "        for dim in range(shape[1]):\n",
    "            ranges[dim, 0] = np.min(data[:,dim])\n",
    "            ranges[dim, 1] = np.max(data[:,dim])\n",
    "\n",
    "        if verbose == 1:\n",
    "            print('Ranges: ')\n",
    "            print(ranges)\n",
    "\n",
    "        #change array centroid shape sesuai cluster\n",
    "        centroids = np.zeros((k, shape[1]))\n",
    "        for i in range(k):\n",
    "            for dim in range(shape[1]):\n",
    "                centroids[i, dim] = np.random.uniform(ranges[dim, 0], ranges[dim, 1], 1)\n",
    "\n",
    "        if verbose == 1:\n",
    "            print('Centroids: ')\n",
    "            print(centroids)\n",
    "\n",
    "            plt.scatter(data[:,0], data[:,1])\n",
    "            plt.scatter(centroids[:,0], centroids[:,1], c = 'r')\n",
    "            plt.show()\n",
    "\n",
    "        count = 0\n",
    "        while True:\n",
    "            count += 1\n",
    "            if verbose == 1:\n",
    "                print('-----------------------------------------------')\n",
    "                print('Iteration: ', count)\n",
    "\n",
    "            #hitung jarak\n",
    "            distances = np.zeros((shape[0],k))\n",
    "            for ix, i in enumerate(data):\n",
    "                for ic, c in enumerate(centroids):\n",
    "                    distances[ix, ic] = np.sqrt(np.sum((i-c)**2))\n",
    "\n",
    "            #assign ke centroid terdekat\n",
    "            labels = np.argmin(distances, axis = 1)\n",
    "\n",
    "            #calculate posisi centroid baru\n",
    "            new_centroids = np.zeros((k, shape[1]))\n",
    "            for centroid in range(k):\n",
    "                temp = data[labels == centroid]\n",
    "                if len(temp) == 0:\n",
    "                    return 0\n",
    "                for dim in range(shape[1]): \n",
    "                    new_centroids[centroid, dim] = np.mean(temp[:,dim])\n",
    "\n",
    "            if verbose == 1:\n",
    "                plt.scatter(data[:,0], data[:,1], c = labels)\n",
    "                plt.scatter(new_centroids[:,0], new_centroids[:,1], c = 'r')\n",
    "                plt.show()\n",
    "\n",
    "            #Cek apakah perbedaan posisi centroid sudah lebih kecil dari epsilon\n",
    "            if np.linalg.norm(new_centroids - centroids) < np.finfo(float).eps:\n",
    "                print(\"DONE!\")\n",
    "                plt.scatter(data[:,0], data[:,1], c = labels)\n",
    "                plt.scatter(new_centroids[:,0], new_centroids[:,1], c = 'r')\n",
    "                plt.show()\n",
    "                break\n",
    "\n",
    "        #Move centroid ke titik baru\n",
    "            centroids = new_centroids\n",
    "        self.centroids = centroids\n",
    "        self.labels = labels\n",
    "        if verbose == 1:\n",
    "            print(labels)\n",
    "            print(centroids)\n",
    "        return 1\n",
    "\n",
    "    def getAverageDistance(self, data):\n",
    "\n",
    "        dists = np.zeros((len(self.centroids),))\n",
    "        for ix, centroid in enumerate(self.centroids):\n",
    "            temp = data[self.labels == ix]\n",
    "            dist = 0\n",
    "            for i in temp:\n",
    "                dist += np.linalg.norm(i - centroid)\n",
    "            dists[ix] = math.sqrt(dist)\n",
    "        return dists\n",
    "\n",
    "    def getLabels(self):\n",
    "        return self.labels"
   ]
  },
  {
   "cell_type": "code",
   "execution_count": 5,
   "metadata": {},
   "outputs": [
    {
     "data": {
      "text/html": [
       "<div>\n",
       "<style scoped>\n",
       "    .dataframe tbody tr th:only-of-type {\n",
       "        vertical-align: middle;\n",
       "    }\n",
       "\n",
       "    .dataframe tbody tr th {\n",
       "        vertical-align: top;\n",
       "    }\n",
       "\n",
       "    .dataframe thead th {\n",
       "        text-align: right;\n",
       "    }\n",
       "</style>\n",
       "<table border=\"1\" class=\"dataframe\">\n",
       "  <thead>\n",
       "    <tr style=\"text-align: right;\">\n",
       "      <th></th>\n",
       "      <th>Longitude</th>\n",
       "      <th>Latitude</th>\n",
       "      <th>O3</th>\n",
       "      <th>SO2</th>\n",
       "      <th>NO2</th>\n",
       "      <th>CO</th>\n",
       "    </tr>\n",
       "  </thead>\n",
       "  <tbody>\n",
       "    <tr>\n",
       "      <th>14832</th>\n",
       "      <td>127.094023</td>\n",
       "      <td>37.584848</td>\n",
       "      <td>0.020870</td>\n",
       "      <td>0.004870</td>\n",
       "      <td>0.014913</td>\n",
       "      <td>0.300000</td>\n",
       "    </tr>\n",
       "    <tr>\n",
       "      <th>5935</th>\n",
       "      <td>126.994458</td>\n",
       "      <td>37.504547</td>\n",
       "      <td>0.007167</td>\n",
       "      <td>0.003083</td>\n",
       "      <td>0.035292</td>\n",
       "      <td>0.520833</td>\n",
       "    </tr>\n",
       "    <tr>\n",
       "      <th>7379</th>\n",
       "      <td>127.068505</td>\n",
       "      <td>37.658774</td>\n",
       "      <td>0.004600</td>\n",
       "      <td>0.005133</td>\n",
       "      <td>0.043467</td>\n",
       "      <td>0.853333</td>\n",
       "    </tr>\n",
       "    <tr>\n",
       "      <th>11247</th>\n",
       "      <td>126.934848</td>\n",
       "      <td>37.609823</td>\n",
       "      <td>0.019375</td>\n",
       "      <td>0.004083</td>\n",
       "      <td>0.029042</td>\n",
       "      <td>0.745833</td>\n",
       "    </tr>\n",
       "    <tr>\n",
       "      <th>11104</th>\n",
       "      <td>126.934848</td>\n",
       "      <td>37.609823</td>\n",
       "      <td>0.045000</td>\n",
       "      <td>0.002412</td>\n",
       "      <td>0.012471</td>\n",
       "      <td>0.335294</td>\n",
       "    </tr>\n",
       "  </tbody>\n",
       "</table>\n",
       "</div>"
      ],
      "text/plain": [
       "        Longitude   Latitude        O3       SO2       NO2        CO\n",
       "14832  127.094023  37.584848  0.020870  0.004870  0.014913  0.300000\n",
       "5935   126.994458  37.504547  0.007167  0.003083  0.035292  0.520833\n",
       "7379   127.068505  37.658774  0.004600  0.005133  0.043467  0.853333\n",
       "11247  126.934848  37.609823  0.019375  0.004083  0.029042  0.745833\n",
       "11104  126.934848  37.609823  0.045000  0.002412  0.012471  0.335294"
      ]
     },
     "execution_count": 5,
     "metadata": {},
     "output_type": "execute_result"
    }
   ],
   "source": [
    "x2 = X_after[['Longitude','Latitude', 'O3','SO2', 'NO2','CO']].copy()\n",
    "x2.head()"
   ]
  },
  {
   "cell_type": "code",
   "execution_count": 6,
   "metadata": {},
   "outputs": [
    {
     "data": {
      "text/plain": [
       "array([[1.27094023e+02, 3.75848485e+01, 2.08695652e-02, 4.86956522e-03,\n",
       "        1.49130435e-02, 3.00000000e-01],\n",
       "       [1.26994458e+02, 3.75045471e+01, 7.16666667e-03, 3.08333333e-03,\n",
       "        3.52916667e-02, 5.20833333e-01],\n",
       "       [1.27068505e+02, 3.76587743e+01, 4.60000000e-03, 5.13333333e-03,\n",
       "        4.34666667e-02, 8.53333333e-01],\n",
       "       ...,\n",
       "       [1.27011952e+02, 3.76479299e+01, 3.43043478e-02, 3.47826087e-03,\n",
       "        7.47826087e-03, 3.34782609e-01],\n",
       "       [1.26949679e+02, 3.75937421e+01, 2.08947368e-02, 2.63157895e-03,\n",
       "        2.03157895e-02, 6.89473684e-01],\n",
       "       [1.27027279e+02, 3.76067189e+01, 2.52500000e-02, 4.91666667e-03,\n",
       "        1.61666667e-02, 4.00000000e-01]])"
      ]
     },
     "execution_count": 6,
     "metadata": {},
     "output_type": "execute_result"
    }
   ],
   "source": [
    "x_array = np.array(x2)\n",
    "x_array"
   ]
  },
  {
   "cell_type": "code",
   "execution_count": null,
   "metadata": {
    "scrolled": true
   },
   "outputs": [],
   "source": [
    "clf = K_means()\n",
    "clf.train(x_array,3)"
   ]
  },
  {
   "cell_type": "code",
   "execution_count": null,
   "metadata": {},
   "outputs": [],
   "source": [
    "from sklearn import preprocessing\n",
    "x_scaled = preprocessing.scale(x_array)\n",
    "x_scaled"
   ]
  },
  {
   "cell_type": "code",
   "execution_count": null,
   "metadata": {
    "scrolled": true
   },
   "outputs": [],
   "source": [
    "list_distance = []\n",
    "for x in range(1,11):\n",
    "    clf.train(x_scaled,x)\n",
    "    list_distance.append(clf.getAverageDistance(x_scaled)) \n",
    "    \n",
    "print(list_distance)"
   ]
  },
  {
   "cell_type": "code",
   "execution_count": null,
   "metadata": {},
   "outputs": [],
   "source": [
    "list_distance2 = []\n",
    "for x in range (0,len(list_distance)):\n",
    "    if len(list_distance[x]) > 1:\n",
    "        avg = sum(list_distance[x]) / len(list_distance[x]) \n",
    "        list_distance2.append(avg)\n",
    "    else:\n",
    "        avg = sum(list_distance[x])\n",
    "        list_distance2.append(avg)\n",
    "print(list_distance2)"
   ]
  },
  {
   "cell_type": "code",
   "execution_count": null,
   "metadata": {
    "scrolled": false
   },
   "outputs": [],
   "source": [
    "number_of_clusters = range(1,11)\n",
    "plt.plot(number_of_clusters,list_distance2, marker='o')\n",
    "plt.xlabel('NUMBER OF CLUSTERS')\n",
    "plt.ylabel('WCSS value')\n",
    "plt.show"
   ]
  },
  {
   "cell_type": "markdown",
   "metadata": {},
   "source": [
    "Analisa : \n",
    "1. Warna Ungu daerah dengan polusi lebih tinggi\n",
    "<br>\n",
    "2. Warna Kuning daerah dengan polusi lebih rendah"
   ]
  },
  {
   "cell_type": "code",
   "execution_count": null,
   "metadata": {},
   "outputs": [],
   "source": [
    "x3 = test_daily[['Longitude','Latitude', 'O3','SO2', 'NO2','CO']].copy()\n",
    "x3.head()"
   ]
  },
  {
   "cell_type": "code",
   "execution_count": null,
   "metadata": {},
   "outputs": [],
   "source": [
    "x_test = np.array(x3)\n",
    "x_test"
   ]
  },
  {
   "cell_type": "code",
   "execution_count": null,
   "metadata": {},
   "outputs": [],
   "source": [
    "from sklearn import preprocessing\n",
    "x_scaled = preprocessing.scale(x_test)\n",
    "x_scaled"
   ]
  },
  {
   "cell_type": "code",
   "execution_count": null,
   "metadata": {},
   "outputs": [],
   "source": [
    "clf = K_means()\n",
    "clf.train(x_scaled,2)"
   ]
  }
 ],
 "metadata": {
  "kernelspec": {
   "display_name": "Python 3",
   "language": "python",
   "name": "python3"
  },
  "language_info": {
   "codemirror_mode": {
    "name": "ipython",
    "version": 3
   },
   "file_extension": ".py",
   "mimetype": "text/x-python",
   "name": "python",
   "nbconvert_exporter": "python",
   "pygments_lexer": "ipython3",
   "version": "3.8.1"
  }
 },
 "nbformat": 4,
 "nbformat_minor": 2
}
