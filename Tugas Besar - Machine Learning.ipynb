{
 "cells": [
  {
   "cell_type": "markdown",
   "metadata": {},
   "source": [
    "# NIM - Nama\n",
    "## 1117009 - Michael Nathaniel Sutanto\n",
    "## 1117017 - Richard William \n",
    "## 1117025 - Antonius Yanuar Kristianto\n",
    "## 1117039 - Kevin Suwanda"
   ]
  },
  {
   "cell_type": "markdown",
   "metadata": {},
   "source": [
    "<h1> Import Library </h1>"
   ]
  },
  {
   "cell_type": "code",
   "execution_count": 1,
   "metadata": {},
   "outputs": [],
   "source": [
    "import pandas as pd\n",
    "import numpy as np\n",
    "import seaborn as sns\n",
    "import matplotlib.pyplot as plt\n",
    "from sklearn.linear_model import LinearRegression\n",
    "import warnings \n",
    "from statsmodels.stats.outliers_influence import variance_inflation_factor\n",
    "from sklearn.decomposition import PCA"
   ]
  },
  {
   "cell_type": "markdown",
   "metadata": {},
   "source": [
    "# Eksplorasi Data"
   ]
  },
  {
   "cell_type": "markdown",
   "metadata": {},
   "source": [
    "## Load Data"
   ]
  },
  {
   "cell_type": "code",
   "execution_count": 2,
   "metadata": {},
   "outputs": [
    {
     "data": {
      "text/html": [
       "<div>\n",
       "<style scoped>\n",
       "    .dataframe tbody tr th:only-of-type {\n",
       "        vertical-align: middle;\n",
       "    }\n",
       "\n",
       "    .dataframe tbody tr th {\n",
       "        vertical-align: top;\n",
       "    }\n",
       "\n",
       "    .dataframe thead th {\n",
       "        text-align: right;\n",
       "    }\n",
       "</style>\n",
       "<table border=\"1\" class=\"dataframe\">\n",
       "  <thead>\n",
       "    <tr style=\"text-align: right;\">\n",
       "      <th></th>\n",
       "      <th>Measurement date</th>\n",
       "      <th>Station code</th>\n",
       "      <th>Address</th>\n",
       "      <th>Latitude</th>\n",
       "      <th>Longitude</th>\n",
       "      <th>SO2</th>\n",
       "      <th>NO2</th>\n",
       "      <th>O3</th>\n",
       "      <th>CO</th>\n",
       "      <th>PM10</th>\n",
       "      <th>PM2.5</th>\n",
       "    </tr>\n",
       "  </thead>\n",
       "  <tbody>\n",
       "    <tr>\n",
       "      <th>0</th>\n",
       "      <td>2017-01-01 00:00</td>\n",
       "      <td>101</td>\n",
       "      <td>19, Jong-ro 35ga-gil, Jongno-gu, Seoul, Republ...</td>\n",
       "      <td>37.572016</td>\n",
       "      <td>127.005007</td>\n",
       "      <td>0.004</td>\n",
       "      <td>0.059</td>\n",
       "      <td>0.002</td>\n",
       "      <td>1.2</td>\n",
       "      <td>73.0</td>\n",
       "      <td>57.0</td>\n",
       "    </tr>\n",
       "    <tr>\n",
       "      <th>1</th>\n",
       "      <td>2017-01-01 01:00</td>\n",
       "      <td>101</td>\n",
       "      <td>19, Jong-ro 35ga-gil, Jongno-gu, Seoul, Republ...</td>\n",
       "      <td>37.572016</td>\n",
       "      <td>127.005007</td>\n",
       "      <td>0.004</td>\n",
       "      <td>0.058</td>\n",
       "      <td>0.002</td>\n",
       "      <td>1.2</td>\n",
       "      <td>71.0</td>\n",
       "      <td>59.0</td>\n",
       "    </tr>\n",
       "    <tr>\n",
       "      <th>2</th>\n",
       "      <td>2017-01-01 02:00</td>\n",
       "      <td>101</td>\n",
       "      <td>19, Jong-ro 35ga-gil, Jongno-gu, Seoul, Republ...</td>\n",
       "      <td>37.572016</td>\n",
       "      <td>127.005007</td>\n",
       "      <td>0.004</td>\n",
       "      <td>0.056</td>\n",
       "      <td>0.002</td>\n",
       "      <td>1.2</td>\n",
       "      <td>70.0</td>\n",
       "      <td>59.0</td>\n",
       "    </tr>\n",
       "    <tr>\n",
       "      <th>3</th>\n",
       "      <td>2017-01-01 03:00</td>\n",
       "      <td>101</td>\n",
       "      <td>19, Jong-ro 35ga-gil, Jongno-gu, Seoul, Republ...</td>\n",
       "      <td>37.572016</td>\n",
       "      <td>127.005007</td>\n",
       "      <td>0.004</td>\n",
       "      <td>0.056</td>\n",
       "      <td>0.002</td>\n",
       "      <td>1.2</td>\n",
       "      <td>70.0</td>\n",
       "      <td>58.0</td>\n",
       "    </tr>\n",
       "    <tr>\n",
       "      <th>4</th>\n",
       "      <td>2017-01-01 04:00</td>\n",
       "      <td>101</td>\n",
       "      <td>19, Jong-ro 35ga-gil, Jongno-gu, Seoul, Republ...</td>\n",
       "      <td>37.572016</td>\n",
       "      <td>127.005007</td>\n",
       "      <td>0.003</td>\n",
       "      <td>0.051</td>\n",
       "      <td>0.002</td>\n",
       "      <td>1.2</td>\n",
       "      <td>69.0</td>\n",
       "      <td>61.0</td>\n",
       "    </tr>\n",
       "  </tbody>\n",
       "</table>\n",
       "</div>"
      ],
      "text/plain": [
       "   Measurement date  Station code  \\\n",
       "0  2017-01-01 00:00           101   \n",
       "1  2017-01-01 01:00           101   \n",
       "2  2017-01-01 02:00           101   \n",
       "3  2017-01-01 03:00           101   \n",
       "4  2017-01-01 04:00           101   \n",
       "\n",
       "                                             Address   Latitude   Longitude  \\\n",
       "0  19, Jong-ro 35ga-gil, Jongno-gu, Seoul, Republ...  37.572016  127.005007   \n",
       "1  19, Jong-ro 35ga-gil, Jongno-gu, Seoul, Republ...  37.572016  127.005007   \n",
       "2  19, Jong-ro 35ga-gil, Jongno-gu, Seoul, Republ...  37.572016  127.005007   \n",
       "3  19, Jong-ro 35ga-gil, Jongno-gu, Seoul, Republ...  37.572016  127.005007   \n",
       "4  19, Jong-ro 35ga-gil, Jongno-gu, Seoul, Republ...  37.572016  127.005007   \n",
       "\n",
       "     SO2    NO2     O3   CO  PM10  PM2.5  \n",
       "0  0.004  0.059  0.002  1.2  73.0   57.0  \n",
       "1  0.004  0.058  0.002  1.2  71.0   59.0  \n",
       "2  0.004  0.056  0.002  1.2  70.0   59.0  \n",
       "3  0.004  0.056  0.002  1.2  70.0   58.0  \n",
       "4  0.003  0.051  0.002  1.2  69.0   61.0  "
      ]
     },
     "execution_count": 2,
     "metadata": {},
     "output_type": "execute_result"
    }
   ],
   "source": [
    "#path komputer masing2\n",
    "polusi_udara = pd.read_csv('Measurement_summary.csv')\n",
    "polusi_udara.head()"
   ]
  },
  {
   "cell_type": "markdown",
   "metadata": {},
   "source": [
    "Dataset yang digunakan merupakan data rekap dari hasil pengukuran yang dilakukan di Seoul, Korea Selatan.<br>\n",
    "berikut adalah fitur dari data tersebut:\n",
    "\n",
    "<table>\n",
    "    <tr>\n",
    "        <th>Nama Fitur</th>\n",
    "        <th>Keterangan</th>\n",
    "    </tr>\n",
    "    <tr>\n",
    "        <td>Measurement date</td>\n",
    "        <td>Menunjukkan tanggal pengukuran data</td>\n",
    "    </tr>\n",
    "    <tr>\n",
    "        <td>Station Code</td>\n",
    "        <td>Menunjukkan kode station pengukuran</td>\n",
    "    </tr>\n",
    "    <tr>\n",
    "        <td>Instrument</td>\n",
    "        <td>Menunjukkan alat pengukuran</td>\n",
    "    </tr>\n",
    "    <tr>\n",
    "        <td>Address</td>\n",
    "        <td>Alamat dari station pengukuran</td>\n",
    "    </tr>\n",
    "    <tr>\n",
    "        <td>Latitude</td>\n",
    "        <td>Garis lintang</td>\n",
    "    </tr>\n",
    "    <tr>\n",
    "        <td>Longitude</td>\n",
    "        <td>Garis bujur</td>\n",
    "    </tr>\n",
    "    <tr>\n",
    "        <td>SO2</td>\n",
    "        <td>Sulfur Oksida</td>\n",
    "    </tr>\n",
    "    <tr>\n",
    "        <td>NO2</td>\n",
    "        <td>Nitrogen Oksida</td>\n",
    "    </tr>\n",
    "    <tr>\n",
    "        <td>O3</td>\n",
    "        <td>Ozon</td>\n",
    "    </tr>\n",
    "    <tr>\n",
    "        <td>CO</td>\n",
    "        <td>Karbon Monoksida</td>\n",
    "    </tr>\n",
    "    <tr>\n",
    "        <td>PM10</td>\n",
    "        <td>Partikulat (PM10) adalah Partikel udara yang berukuran lebih kecil dari 10 mikron (mikrometer).</td>\n",
    "    </tr>\n",
    "    <tr>\n",
    "        <td>PM2.5</td>\n",
    "        <td>Partikulat (PM2.5) adalah Partikel udara yang berukuran lebih kecil dari 2.5 mikron (mikrometer).</td>\n",
    "    </tr>\n",
    "</table>\n",
    "\n",
    "Semua fitur pada dataset yang dijelaskan di atas merupakan variable numerikal."
   ]
  },
  {
   "cell_type": "markdown",
   "metadata": {},
   "source": [
    "Pada data yang digunakan, tidak terdapat label yang menunjukkan kelas polusi udara (rendah/menengah/tinggi).\n",
    "Karena itu, data yang digunakan termasuk sebagai data unsupervised."
   ]
  },
  {
   "cell_type": "markdown",
   "metadata": {},
   "source": [
    "## Analisis Statistik Deskriptif"
   ]
  },
  {
   "cell_type": "code",
   "execution_count": 3,
   "metadata": {},
   "outputs": [
    {
     "data": {
      "text/html": [
       "<div>\n",
       "<style scoped>\n",
       "    .dataframe tbody tr th:only-of-type {\n",
       "        vertical-align: middle;\n",
       "    }\n",
       "\n",
       "    .dataframe tbody tr th {\n",
       "        vertical-align: top;\n",
       "    }\n",
       "\n",
       "    .dataframe thead th {\n",
       "        text-align: right;\n",
       "    }\n",
       "</style>\n",
       "<table border=\"1\" class=\"dataframe\">\n",
       "  <thead>\n",
       "    <tr style=\"text-align: right;\">\n",
       "      <th></th>\n",
       "      <th>Measurement date</th>\n",
       "      <th>Station code</th>\n",
       "      <th>Address</th>\n",
       "      <th>Latitude</th>\n",
       "      <th>Longitude</th>\n",
       "      <th>SO2</th>\n",
       "      <th>NO2</th>\n",
       "      <th>O3</th>\n",
       "      <th>CO</th>\n",
       "      <th>PM10</th>\n",
       "      <th>PM2.5</th>\n",
       "    </tr>\n",
       "  </thead>\n",
       "  <tbody>\n",
       "    <tr>\n",
       "      <th>count</th>\n",
       "      <td>647511</td>\n",
       "      <td>647511.000000</td>\n",
       "      <td>647511</td>\n",
       "      <td>647511.000000</td>\n",
       "      <td>647511.000000</td>\n",
       "      <td>647511.000000</td>\n",
       "      <td>647511.000000</td>\n",
       "      <td>647511.000000</td>\n",
       "      <td>647511.000000</td>\n",
       "      <td>647511.000000</td>\n",
       "      <td>647511.000000</td>\n",
       "    </tr>\n",
       "    <tr>\n",
       "      <th>unique</th>\n",
       "      <td>25906</td>\n",
       "      <td>NaN</td>\n",
       "      <td>25</td>\n",
       "      <td>NaN</td>\n",
       "      <td>NaN</td>\n",
       "      <td>NaN</td>\n",
       "      <td>NaN</td>\n",
       "      <td>NaN</td>\n",
       "      <td>NaN</td>\n",
       "      <td>NaN</td>\n",
       "      <td>NaN</td>\n",
       "    </tr>\n",
       "    <tr>\n",
       "      <th>top</th>\n",
       "      <td>2018-08-11 07:00</td>\n",
       "      <td>NaN</td>\n",
       "      <td>71, Gangseo-ro 45da-gil, Gangseo-gu, Seoul, Re...</td>\n",
       "      <td>NaN</td>\n",
       "      <td>NaN</td>\n",
       "      <td>NaN</td>\n",
       "      <td>NaN</td>\n",
       "      <td>NaN</td>\n",
       "      <td>NaN</td>\n",
       "      <td>NaN</td>\n",
       "      <td>NaN</td>\n",
       "    </tr>\n",
       "    <tr>\n",
       "      <th>freq</th>\n",
       "      <td>25</td>\n",
       "      <td>NaN</td>\n",
       "      <td>25906</td>\n",
       "      <td>NaN</td>\n",
       "      <td>NaN</td>\n",
       "      <td>NaN</td>\n",
       "      <td>NaN</td>\n",
       "      <td>NaN</td>\n",
       "      <td>NaN</td>\n",
       "      <td>NaN</td>\n",
       "      <td>NaN</td>\n",
       "    </tr>\n",
       "    <tr>\n",
       "      <th>mean</th>\n",
       "      <td>NaN</td>\n",
       "      <td>113.000221</td>\n",
       "      <td>NaN</td>\n",
       "      <td>37.553484</td>\n",
       "      <td>126.989340</td>\n",
       "      <td>-0.001795</td>\n",
       "      <td>0.022519</td>\n",
       "      <td>0.017979</td>\n",
       "      <td>0.509197</td>\n",
       "      <td>43.708051</td>\n",
       "      <td>25.411995</td>\n",
       "    </tr>\n",
       "    <tr>\n",
       "      <th>std</th>\n",
       "      <td>NaN</td>\n",
       "      <td>7.211315</td>\n",
       "      <td>NaN</td>\n",
       "      <td>0.053273</td>\n",
       "      <td>0.078790</td>\n",
       "      <td>0.078832</td>\n",
       "      <td>0.115153</td>\n",
       "      <td>0.099308</td>\n",
       "      <td>0.405319</td>\n",
       "      <td>71.137342</td>\n",
       "      <td>43.924595</td>\n",
       "    </tr>\n",
       "    <tr>\n",
       "      <th>min</th>\n",
       "      <td>NaN</td>\n",
       "      <td>101.000000</td>\n",
       "      <td>NaN</td>\n",
       "      <td>37.452357</td>\n",
       "      <td>126.835151</td>\n",
       "      <td>-1.000000</td>\n",
       "      <td>-1.000000</td>\n",
       "      <td>-1.000000</td>\n",
       "      <td>-1.000000</td>\n",
       "      <td>-1.000000</td>\n",
       "      <td>-1.000000</td>\n",
       "    </tr>\n",
       "    <tr>\n",
       "      <th>25%</th>\n",
       "      <td>NaN</td>\n",
       "      <td>107.000000</td>\n",
       "      <td>NaN</td>\n",
       "      <td>37.517528</td>\n",
       "      <td>126.927102</td>\n",
       "      <td>0.003000</td>\n",
       "      <td>0.016000</td>\n",
       "      <td>0.008000</td>\n",
       "      <td>0.300000</td>\n",
       "      <td>22.000000</td>\n",
       "      <td>11.000000</td>\n",
       "    </tr>\n",
       "    <tr>\n",
       "      <th>50%</th>\n",
       "      <td>NaN</td>\n",
       "      <td>113.000000</td>\n",
       "      <td>NaN</td>\n",
       "      <td>37.544962</td>\n",
       "      <td>127.004850</td>\n",
       "      <td>0.004000</td>\n",
       "      <td>0.025000</td>\n",
       "      <td>0.021000</td>\n",
       "      <td>0.500000</td>\n",
       "      <td>35.000000</td>\n",
       "      <td>19.000000</td>\n",
       "    </tr>\n",
       "    <tr>\n",
       "      <th>75%</th>\n",
       "      <td>NaN</td>\n",
       "      <td>119.000000</td>\n",
       "      <td>NaN</td>\n",
       "      <td>37.584848</td>\n",
       "      <td>127.047470</td>\n",
       "      <td>0.005000</td>\n",
       "      <td>0.038000</td>\n",
       "      <td>0.034000</td>\n",
       "      <td>0.600000</td>\n",
       "      <td>53.000000</td>\n",
       "      <td>31.000000</td>\n",
       "    </tr>\n",
       "    <tr>\n",
       "      <th>max</th>\n",
       "      <td>NaN</td>\n",
       "      <td>125.000000</td>\n",
       "      <td>NaN</td>\n",
       "      <td>37.658774</td>\n",
       "      <td>127.136792</td>\n",
       "      <td>3.736000</td>\n",
       "      <td>38.445000</td>\n",
       "      <td>33.600000</td>\n",
       "      <td>71.700000</td>\n",
       "      <td>3586.000000</td>\n",
       "      <td>6256.000000</td>\n",
       "    </tr>\n",
       "  </tbody>\n",
       "</table>\n",
       "</div>"
      ],
      "text/plain": [
       "        Measurement date   Station code  \\\n",
       "count             647511  647511.000000   \n",
       "unique             25906            NaN   \n",
       "top     2018-08-11 07:00            NaN   \n",
       "freq                  25            NaN   \n",
       "mean                 NaN     113.000221   \n",
       "std                  NaN       7.211315   \n",
       "min                  NaN     101.000000   \n",
       "25%                  NaN     107.000000   \n",
       "50%                  NaN     113.000000   \n",
       "75%                  NaN     119.000000   \n",
       "max                  NaN     125.000000   \n",
       "\n",
       "                                                  Address       Latitude  \\\n",
       "count                                              647511  647511.000000   \n",
       "unique                                                 25            NaN   \n",
       "top     71, Gangseo-ro 45da-gil, Gangseo-gu, Seoul, Re...            NaN   \n",
       "freq                                                25906            NaN   \n",
       "mean                                                  NaN      37.553484   \n",
       "std                                                   NaN       0.053273   \n",
       "min                                                   NaN      37.452357   \n",
       "25%                                                   NaN      37.517528   \n",
       "50%                                                   NaN      37.544962   \n",
       "75%                                                   NaN      37.584848   \n",
       "max                                                   NaN      37.658774   \n",
       "\n",
       "            Longitude            SO2            NO2             O3  \\\n",
       "count   647511.000000  647511.000000  647511.000000  647511.000000   \n",
       "unique            NaN            NaN            NaN            NaN   \n",
       "top               NaN            NaN            NaN            NaN   \n",
       "freq              NaN            NaN            NaN            NaN   \n",
       "mean       126.989340      -0.001795       0.022519       0.017979   \n",
       "std          0.078790       0.078832       0.115153       0.099308   \n",
       "min        126.835151      -1.000000      -1.000000      -1.000000   \n",
       "25%        126.927102       0.003000       0.016000       0.008000   \n",
       "50%        127.004850       0.004000       0.025000       0.021000   \n",
       "75%        127.047470       0.005000       0.038000       0.034000   \n",
       "max        127.136792       3.736000      38.445000      33.600000   \n",
       "\n",
       "                   CO           PM10          PM2.5  \n",
       "count   647511.000000  647511.000000  647511.000000  \n",
       "unique            NaN            NaN            NaN  \n",
       "top               NaN            NaN            NaN  \n",
       "freq              NaN            NaN            NaN  \n",
       "mean         0.509197      43.708051      25.411995  \n",
       "std          0.405319      71.137342      43.924595  \n",
       "min         -1.000000      -1.000000      -1.000000  \n",
       "25%          0.300000      22.000000      11.000000  \n",
       "50%          0.500000      35.000000      19.000000  \n",
       "75%          0.600000      53.000000      31.000000  \n",
       "max         71.700000    3586.000000    6256.000000  "
      ]
     },
     "execution_count": 3,
     "metadata": {},
     "output_type": "execute_result"
    }
   ],
   "source": [
    "polusi_udara.describe(include=\"all\")"
   ]
  },
  {
   "cell_type": "markdown",
   "metadata": {},
   "source": [
    "## Missing Value"
   ]
  },
  {
   "cell_type": "code",
   "execution_count": 4,
   "metadata": {},
   "outputs": [
    {
     "data": {
      "text/plain": [
       "Measurement date    0\n",
       "Station code        0\n",
       "Address             0\n",
       "Latitude            0\n",
       "Longitude           0\n",
       "SO2                 0\n",
       "NO2                 0\n",
       "O3                  0\n",
       "CO                  0\n",
       "PM10                0\n",
       "PM2.5               0\n",
       "dtype: int64"
      ]
     },
     "execution_count": 4,
     "metadata": {},
     "output_type": "execute_result"
    }
   ],
   "source": [
    "polusi_udara.isnull().sum()"
   ]
  },
  {
   "cell_type": "markdown",
   "metadata": {},
   "source": [
    "## Duplicate values"
   ]
  },
  {
   "cell_type": "code",
   "execution_count": 5,
   "metadata": {},
   "outputs": [
    {
     "name": "stdout",
     "output_type": "stream",
     "text": [
      "Empty DataFrame\n",
      "Columns: [Measurement date, Station code, Address, Latitude, Longitude, SO2, NO2, O3, CO, PM10, PM2.5]\n",
      "Index: []\n"
     ]
    }
   ],
   "source": [
    "duplicateRow = polusi_udara[polusi_udara.duplicated()]\n",
    "print(duplicateRow)"
   ]
  },
  {
   "cell_type": "markdown",
   "metadata": {},
   "source": [
    "Missing values dan Duplicate values tidak ada, karena data didapatkan dari station yang terus beroperasi dengan alat yang baik."
   ]
  },
  {
   "cell_type": "markdown",
   "metadata": {},
   "source": [
    "## Outlier "
   ]
  },
  {
   "cell_type": "markdown",
   "metadata": {},
   "source": [
    "## SO2"
   ]
  },
  {
   "cell_type": "code",
   "execution_count": 6,
   "metadata": {},
   "outputs": [
    {
     "data": {
      "text/plain": [
       "<matplotlib.axes._subplots.AxesSubplot at 0x211281be2e0>"
      ]
     },
     "execution_count": 6,
     "metadata": {},
     "output_type": "execute_result"
    },
    {
     "data": {
      "image/png": "[encoded data removed]",
      "text/plain": [
       "<Figure size 432x288 with 1 Axes>"
      ]
     },
     "metadata": {
      "needs_background": "light"
     },
     "output_type": "display_data"
    }
   ],
   "source": [
    "sns.distplot(polusi_udara['SO2'])"
   ]
  },
  {
   "cell_type": "code",
   "execution_count": 7,
   "metadata": {},
   "outputs": [
    {
     "data": {
      "text/plain": [
       "0.01"
      ]
     },
     "execution_count": 7,
     "metadata": {},
     "output_type": "execute_result"
    }
   ],
   "source": [
    "q = polusi_udara['SO2'].quantile(0.99)\n",
    "q"
   ]
  },
  {
   "cell_type": "code",
   "execution_count": 8,
   "metadata": {},
   "outputs": [
    {
     "data": {
      "text/plain": [
       "<matplotlib.axes._subplots.AxesSubplot at 0x21128ccd400>"
      ]
     },
     "execution_count": 8,
     "metadata": {},
     "output_type": "execute_result"
    },
    {
     "data": {
      "image/png": "[encoded data removed]",
      "text/plain": [
       "<Figure size 432x288 with 1 Axes>"
      ]
     },
     "metadata": {
      "needs_background": "light"
     },
     "output_type": "display_data"
    }
   ],
   "source": [
    "data_1 = polusi_udara[polusi_udara['SO2'] < q]\n",
    "sns.distplot(data_1['SO2'])"
   ]
  },
  {
   "cell_type": "code",
   "execution_count": 9,
   "metadata": {},
   "outputs": [
    {
     "data": {
      "text/plain": [
       "0.0"
      ]
     },
     "execution_count": 9,
     "metadata": {},
     "output_type": "execute_result"
    }
   ],
   "source": [
    "q = data_1['SO2'].quantile(0.01)\n",
    "q"
   ]
  },
  {
   "cell_type": "code",
   "execution_count": 10,
   "metadata": {},
   "outputs": [
    {
     "data": {
      "text/plain": [
       "6952781"
      ]
     },
     "execution_count": 10,
     "metadata": {},
     "output_type": "execute_result"
    },
    {
     "data": {
      "image/png": "[encoded data removed]",
      "text/plain": [
       "<Figure size 432x288 with 1 Axes>"
      ]
     },
     "metadata": {
      "needs_background": "light"
     },
     "output_type": "display_data"
    }
   ],
   "source": [
    "data_2 = data_1[data_1['SO2'] > q]\n",
    "sns.distplot(data_2['SO2'])\n",
    "data_2.size"
   ]
  },
  {
   "cell_type": "markdown",
   "metadata": {},
   "source": [
    "## NO2"
   ]
  },
  {
   "cell_type": "code",
   "execution_count": 11,
   "metadata": {},
   "outputs": [
    {
     "data": {
      "text/plain": [
       "<matplotlib.axes._subplots.AxesSubplot at 0x2112896f970>"
      ]
     },
     "execution_count": 11,
     "metadata": {},
     "output_type": "execute_result"
    },
    {
     "data": {
      "image/png": "[encoded data removed]",
      "text/plain": [
       "<Figure size 432x288 with 1 Axes>"
      ]
     },
     "metadata": {
      "needs_background": "light"
     },
     "output_type": "display_data"
    }
   ],
   "source": [
    "sns.distplot(polusi_udara['NO2'])"
   ]
  },
  {
   "cell_type": "code",
   "execution_count": 12,
   "metadata": {},
   "outputs": [
    {
     "data": {
      "text/plain": [
       "0.067"
      ]
     },
     "execution_count": 12,
     "metadata": {},
     "output_type": "execute_result"
    }
   ],
   "source": [
    "q = data_2['NO2'].quantile(0.98)\n",
    "q"
   ]
  },
  {
   "cell_type": "code",
   "execution_count": 13,
   "metadata": {},
   "outputs": [
    {
     "data": {
      "text/plain": [
       "<matplotlib.axes._subplots.AxesSubplot at 0x21128a45130>"
      ]
     },
     "execution_count": 13,
     "metadata": {},
     "output_type": "execute_result"
    },
    {
     "data": {
      "image/png": "[encoded data removed]",
      "text/plain": [
       "<Figure size 432x288 with 1 Axes>"
      ]
     },
     "metadata": {
      "needs_background": "light"
     },
     "output_type": "display_data"
    }
   ],
   "source": [
    "data_3 = data_2[data_2['NO2'] < q]\n",
    "sns.distplot(data_3['NO2'])"
   ]
  },
  {
   "cell_type": "code",
   "execution_count": 14,
   "metadata": {},
   "outputs": [
    {
     "data": {
      "text/plain": [
       "0.005"
      ]
     },
     "execution_count": 14,
     "metadata": {},
     "output_type": "execute_result"
    }
   ],
   "source": [
    "q = data_3['NO2'].quantile(0.01)\n",
    "q"
   ]
  },
  {
   "cell_type": "code",
   "execution_count": 15,
   "metadata": {},
   "outputs": [
    {
     "data": {
      "text/plain": [
       "<matplotlib.axes._subplots.AxesSubplot at 0x21128b28340>"
      ]
     },
     "execution_count": 15,
     "metadata": {},
     "output_type": "execute_result"
    },
    {
     "data": {
      "image/png": "[encoded data removed]",
      "text/plain": [
       "<Figure size 432x288 with 1 Axes>"
      ]
     },
     "metadata": {
      "needs_background": "light"
     },
     "output_type": "display_data"
    }
   ],
   "source": [
    "data_4 = data_3[data_3['NO2'] > q]\n",
    "sns.distplot(data_4['NO2'])"
   ]
  },
  {
   "cell_type": "markdown",
   "metadata": {},
   "source": [
    "## O3"
   ]
  },
  {
   "cell_type": "code",
   "execution_count": 16,
   "metadata": {},
   "outputs": [
    {
     "data": {
      "text/plain": [
       "<matplotlib.axes._subplots.AxesSubplot at 0x21128c029a0>"
      ]
     },
     "execution_count": 16,
     "metadata": {},
     "output_type": "execute_result"
    },
    {
     "data": {
      "image/png": "[encoded data removed]",
      "text/plain": [
       "<Figure size 432x288 with 1 Axes>"
      ]
     },
     "metadata": {
      "needs_background": "light"
     },
     "output_type": "display_data"
    }
   ],
   "source": [
    "sns.distplot(polusi_udara['O3'])"
   ]
  },
  {
   "cell_type": "code",
   "execution_count": 17,
   "metadata": {},
   "outputs": [
    {
     "data": {
      "text/plain": [
       "0.084"
      ]
     },
     "execution_count": 17,
     "metadata": {},
     "output_type": "execute_result"
    }
   ],
   "source": [
    "q = data_4['O3'].quantile(0.99)\n",
    "q"
   ]
  },
  {
   "cell_type": "code",
   "execution_count": 18,
   "metadata": {},
   "outputs": [
    {
     "data": {
      "text/plain": [
       "<matplotlib.axes._subplots.AxesSubplot at 0x211292721c0>"
      ]
     },
     "execution_count": 18,
     "metadata": {},
     "output_type": "execute_result"
    },
    {
     "data": {
      "image/png": "[encoded data removed]",
      "text/plain": [
       "<Figure size 432x288 with 1 Axes>"
      ]
     },
     "metadata": {
      "needs_background": "light"
     },
     "output_type": "display_data"
    }
   ],
   "source": [
    "data_5 = data_4[data_4['O3'] < q]\n",
    "sns.distplot(data_5['O3'])"
   ]
  },
  {
   "cell_type": "code",
   "execution_count": 19,
   "metadata": {},
   "outputs": [
    {
     "data": {
      "text/plain": [
       "0.001"
      ]
     },
     "execution_count": 19,
     "metadata": {},
     "output_type": "execute_result"
    }
   ],
   "source": [
    "q = data_5['O3'].quantile(0.01)\n",
    "q"
   ]
  },
  {
   "cell_type": "code",
   "execution_count": 20,
   "metadata": {},
   "outputs": [
    {
     "data": {
      "text/plain": [
       "<matplotlib.axes._subplots.AxesSubplot at 0x21128d52ac0>"
      ]
     },
     "execution_count": 20,
     "metadata": {},
     "output_type": "execute_result"
    },
    {
     "data": {
      "image/png": "[encoded data removed]",
      "text/plain": [
       "<Figure size 432x288 with 1 Axes>"
      ]
     },
     "metadata": {
      "needs_background": "light"
     },
     "output_type": "display_data"
    }
   ],
   "source": [
    "data_6 = data_5[data_5['O3'] > q]\n",
    "sns.distplot(data_6['O3'])"
   ]
  },
  {
   "cell_type": "markdown",
   "metadata": {},
   "source": [
    "## CO"
   ]
  },
  {
   "cell_type": "code",
   "execution_count": 21,
   "metadata": {},
   "outputs": [
    {
     "data": {
      "text/plain": [
       "<matplotlib.axes._subplots.AxesSubplot at 0x21128e32250>"
      ]
     },
     "execution_count": 21,
     "metadata": {},
     "output_type": "execute_result"
    },
    {
     "data": {
      "image/png": "[encoded data removed]",
      "text/plain": [
       "<Figure size 432x288 with 1 Axes>"
      ]
     },
     "metadata": {
      "needs_background": "light"
     },
     "output_type": "display_data"
    }
   ],
   "source": [
    "sns.distplot(polusi_udara['CO'])"
   ]
  },
  {
   "cell_type": "code",
   "execution_count": 22,
   "metadata": {},
   "outputs": [
    {
     "data": {
      "text/plain": [
       "1.2"
      ]
     },
     "execution_count": 22,
     "metadata": {},
     "output_type": "execute_result"
    }
   ],
   "source": [
    "q = data_6['CO'].quantile(0.99)\n",
    "q"
   ]
  },
  {
   "cell_type": "code",
   "execution_count": 23,
   "metadata": {
    "scrolled": true
   },
   "outputs": [
    {
     "data": {
      "text/plain": [
       "<matplotlib.axes._subplots.AxesSubplot at 0x211288e7b20>"
      ]
     },
     "execution_count": 23,
     "metadata": {},
     "output_type": "execute_result"
    },
    {
     "data": {
      "image/png": "[encoded data removed]",
      "text/plain": [
       "<Figure size 432x288 with 1 Axes>"
      ]
     },
     "metadata": {
      "needs_background": "light"
     },
     "output_type": "display_data"
    }
   ],
   "source": [
    "data_7 = data_6[data_6['CO'] < q]\n",
    "sns.distplot(data_6['CO'])"
   ]
  },
  {
   "cell_type": "code",
   "execution_count": 24,
   "metadata": {},
   "outputs": [
    {
     "data": {
      "text/plain": [
       "0.2"
      ]
     },
     "execution_count": 24,
     "metadata": {},
     "output_type": "execute_result"
    }
   ],
   "source": [
    "q = data_7['CO'].quantile(0.01)\n",
    "q"
   ]
  },
  {
   "cell_type": "code",
   "execution_count": 25,
   "metadata": {},
   "outputs": [
    {
     "data": {
      "text/plain": [
       "<matplotlib.axes._subplots.AxesSubplot at 0x21128efc190>"
      ]
     },
     "execution_count": 25,
     "metadata": {},
     "output_type": "execute_result"
    },
    {
     "data": {
      "image/png": "[encoded data removed]",
      "text/plain": [
       "<Figure size 432x288 with 1 Axes>"
      ]
     },
     "metadata": {
      "needs_background": "light"
     },
     "output_type": "display_data"
    }
   ],
   "source": [
    "data_8 = data_7[data_7['CO'] > q]\n",
    "sns.distplot(data_8['CO'])"
   ]
  },
  {
   "cell_type": "code",
   "execution_count": 26,
   "metadata": {},
   "outputs": [
    {
     "name": "stdout",
     "output_type": "stream",
     "text": [
      "Jumlah data clean 6031575\n",
      "Jumlah data asli 7122621\n"
     ]
    }
   ],
   "source": [
    "data_cleaned = data_8.reset_index(drop=True)\n",
    "print (\"Jumlah data clean\", data_cleaned.size)\n",
    "print (\"Jumlah data asli\", polusi_udara.size)"
   ]
  },
  {
   "cell_type": "code",
   "execution_count": 27,
   "metadata": {},
   "outputs": [
    {
     "data": {
      "text/html": [
       "<div>\n",
       "<style scoped>\n",
       "    .dataframe tbody tr th:only-of-type {\n",
       "        vertical-align: middle;\n",
       "    }\n",
       "\n",
       "    .dataframe tbody tr th {\n",
       "        vertical-align: top;\n",
       "    }\n",
       "\n",
       "    .dataframe thead th {\n",
       "        text-align: right;\n",
       "    }\n",
       "</style>\n",
       "<table border=\"1\" class=\"dataframe\">\n",
       "  <thead>\n",
       "    <tr style=\"text-align: right;\">\n",
       "      <th></th>\n",
       "      <th>Station code</th>\n",
       "      <th>Latitude</th>\n",
       "      <th>Longitude</th>\n",
       "      <th>SO2</th>\n",
       "      <th>NO2</th>\n",
       "      <th>O3</th>\n",
       "      <th>CO</th>\n",
       "      <th>PM10</th>\n",
       "      <th>PM2.5</th>\n",
       "    </tr>\n",
       "  </thead>\n",
       "  <tbody>\n",
       "    <tr>\n",
       "      <th>count</th>\n",
       "      <td>548325.000000</td>\n",
       "      <td>548325.000000</td>\n",
       "      <td>548325.000000</td>\n",
       "      <td>548325.000000</td>\n",
       "      <td>548325.000000</td>\n",
       "      <td>548325.000000</td>\n",
       "      <td>548325.000000</td>\n",
       "      <td>548325.000000</td>\n",
       "      <td>548325.000000</td>\n",
       "    </tr>\n",
       "    <tr>\n",
       "      <th>mean</th>\n",
       "      <td>112.957175</td>\n",
       "      <td>37.554352</td>\n",
       "      <td>126.991545</td>\n",
       "      <td>0.004243</td>\n",
       "      <td>0.028040</td>\n",
       "      <td>0.024132</td>\n",
       "      <td>0.510364</td>\n",
       "      <td>43.135039</td>\n",
       "      <td>24.811448</td>\n",
       "    </tr>\n",
       "    <tr>\n",
       "      <th>std</th>\n",
       "      <td>7.239513</td>\n",
       "      <td>0.053373</td>\n",
       "      <td>0.078939</td>\n",
       "      <td>0.001510</td>\n",
       "      <td>0.013813</td>\n",
       "      <td>0.017505</td>\n",
       "      <td>0.184715</td>\n",
       "      <td>66.653610</td>\n",
       "      <td>41.679247</td>\n",
       "    </tr>\n",
       "    <tr>\n",
       "      <th>min</th>\n",
       "      <td>101.000000</td>\n",
       "      <td>37.452357</td>\n",
       "      <td>126.835151</td>\n",
       "      <td>0.001000</td>\n",
       "      <td>0.006000</td>\n",
       "      <td>0.002000</td>\n",
       "      <td>0.300000</td>\n",
       "      <td>-1.000000</td>\n",
       "      <td>-1.000000</td>\n",
       "    </tr>\n",
       "    <tr>\n",
       "      <th>25%</th>\n",
       "      <td>107.000000</td>\n",
       "      <td>37.517528</td>\n",
       "      <td>126.927102</td>\n",
       "      <td>0.003000</td>\n",
       "      <td>0.017000</td>\n",
       "      <td>0.010000</td>\n",
       "      <td>0.400000</td>\n",
       "      <td>23.000000</td>\n",
       "      <td>12.000000</td>\n",
       "    </tr>\n",
       "    <tr>\n",
       "      <th>50%</th>\n",
       "      <td>113.000000</td>\n",
       "      <td>37.544962</td>\n",
       "      <td>127.004850</td>\n",
       "      <td>0.004000</td>\n",
       "      <td>0.026000</td>\n",
       "      <td>0.021000</td>\n",
       "      <td>0.500000</td>\n",
       "      <td>35.000000</td>\n",
       "      <td>19.000000</td>\n",
       "    </tr>\n",
       "    <tr>\n",
       "      <th>75%</th>\n",
       "      <td>119.000000</td>\n",
       "      <td>37.584848</td>\n",
       "      <td>127.047470</td>\n",
       "      <td>0.005000</td>\n",
       "      <td>0.037000</td>\n",
       "      <td>0.034000</td>\n",
       "      <td>0.600000</td>\n",
       "      <td>52.000000</td>\n",
       "      <td>30.000000</td>\n",
       "    </tr>\n",
       "    <tr>\n",
       "      <th>max</th>\n",
       "      <td>125.000000</td>\n",
       "      <td>37.658774</td>\n",
       "      <td>127.136792</td>\n",
       "      <td>0.009000</td>\n",
       "      <td>0.066000</td>\n",
       "      <td>0.083000</td>\n",
       "      <td>1.100000</td>\n",
       "      <td>3586.000000</td>\n",
       "      <td>6256.000000</td>\n",
       "    </tr>\n",
       "  </tbody>\n",
       "</table>\n",
       "</div>"
      ],
      "text/plain": [
       "        Station code       Latitude      Longitude            SO2  \\\n",
       "count  548325.000000  548325.000000  548325.000000  548325.000000   \n",
       "mean      112.957175      37.554352     126.991545       0.004243   \n",
       "std         7.239513       0.053373       0.078939       0.001510   \n",
       "min       101.000000      37.452357     126.835151       0.001000   \n",
       "25%       107.000000      37.517528     126.927102       0.003000   \n",
       "50%       113.000000      37.544962     127.004850       0.004000   \n",
       "75%       119.000000      37.584848     127.047470       0.005000   \n",
       "max       125.000000      37.658774     127.136792       0.009000   \n",
       "\n",
       "                 NO2             O3             CO           PM10  \\\n",
       "count  548325.000000  548325.000000  548325.000000  548325.000000   \n",
       "mean        0.028040       0.024132       0.510364      43.135039   \n",
       "std         0.013813       0.017505       0.184715      66.653610   \n",
       "min         0.006000       0.002000       0.300000      -1.000000   \n",
       "25%         0.017000       0.010000       0.400000      23.000000   \n",
       "50%         0.026000       0.021000       0.500000      35.000000   \n",
       "75%         0.037000       0.034000       0.600000      52.000000   \n",
       "max         0.066000       0.083000       1.100000    3586.000000   \n",
       "\n",
       "               PM2.5  \n",
       "count  548325.000000  \n",
       "mean       24.811448  \n",
       "std        41.679247  \n",
       "min        -1.000000  \n",
       "25%        12.000000  \n",
       "50%        19.000000  \n",
       "75%        30.000000  \n",
       "max      6256.000000  "
      ]
     },
     "execution_count": 27,
     "metadata": {},
     "output_type": "execute_result"
    }
   ],
   "source": [
    "data_cleaned.describe()"
   ]
  },
  {
   "cell_type": "markdown",
   "metadata": {},
   "source": [
    "## Korelasi Antar Variable menggunakan Pearson Correlation"
   ]
  },
  {
   "cell_type": "code",
   "execution_count": 28,
   "metadata": {},
   "outputs": [
    {
     "data": {
      "text/html": [
       "<div>\n",
       "<style scoped>\n",
       "    .dataframe tbody tr th:only-of-type {\n",
       "        vertical-align: middle;\n",
       "    }\n",
       "\n",
       "    .dataframe tbody tr th {\n",
       "        vertical-align: top;\n",
       "    }\n",
       "\n",
       "    .dataframe thead th {\n",
       "        text-align: right;\n",
       "    }\n",
       "</style>\n",
       "<table border=\"1\" class=\"dataframe\">\n",
       "  <thead>\n",
       "    <tr style=\"text-align: right;\">\n",
       "      <th></th>\n",
       "      <th>Station code</th>\n",
       "      <th>Latitude</th>\n",
       "      <th>Longitude</th>\n",
       "      <th>SO2</th>\n",
       "      <th>NO2</th>\n",
       "      <th>O3</th>\n",
       "      <th>CO</th>\n",
       "      <th>PM10</th>\n",
       "      <th>PM2.5</th>\n",
       "    </tr>\n",
       "  </thead>\n",
       "  <tbody>\n",
       "    <tr>\n",
       "      <th>Station code</th>\n",
       "      <td>1.000000</td>\n",
       "      <td>-0.478379</td>\n",
       "      <td>0.065208</td>\n",
       "      <td>0.070437</td>\n",
       "      <td>0.037608</td>\n",
       "      <td>-0.034636</td>\n",
       "      <td>-0.077804</td>\n",
       "      <td>0.031389</td>\n",
       "      <td>0.019272</td>\n",
       "    </tr>\n",
       "    <tr>\n",
       "      <th>Latitude</th>\n",
       "      <td>-0.478379</td>\n",
       "      <td>1.000000</td>\n",
       "      <td>0.301133</td>\n",
       "      <td>-0.032694</td>\n",
       "      <td>-0.123985</td>\n",
       "      <td>0.056274</td>\n",
       "      <td>0.103224</td>\n",
       "      <td>-0.024839</td>\n",
       "      <td>-0.025448</td>\n",
       "    </tr>\n",
       "    <tr>\n",
       "      <th>Longitude</th>\n",
       "      <td>0.065208</td>\n",
       "      <td>0.301133</td>\n",
       "      <td>1.000000</td>\n",
       "      <td>0.006271</td>\n",
       "      <td>-0.019416</td>\n",
       "      <td>-0.033605</td>\n",
       "      <td>0.043382</td>\n",
       "      <td>-0.024811</td>\n",
       "      <td>-0.022434</td>\n",
       "    </tr>\n",
       "    <tr>\n",
       "      <th>SO2</th>\n",
       "      <td>0.070437</td>\n",
       "      <td>-0.032694</td>\n",
       "      <td>0.006271</td>\n",
       "      <td>1.000000</td>\n",
       "      <td>0.241622</td>\n",
       "      <td>0.006073</td>\n",
       "      <td>0.245695</td>\n",
       "      <td>0.129452</td>\n",
       "      <td>0.127558</td>\n",
       "    </tr>\n",
       "    <tr>\n",
       "      <th>NO2</th>\n",
       "      <td>0.037608</td>\n",
       "      <td>-0.123985</td>\n",
       "      <td>-0.019416</td>\n",
       "      <td>0.241622</td>\n",
       "      <td>1.000000</td>\n",
       "      <td>-0.500221</td>\n",
       "      <td>0.601323</td>\n",
       "      <td>0.142619</td>\n",
       "      <td>0.163560</td>\n",
       "    </tr>\n",
       "    <tr>\n",
       "      <th>O3</th>\n",
       "      <td>-0.034636</td>\n",
       "      <td>0.056274</td>\n",
       "      <td>-0.033605</td>\n",
       "      <td>0.006073</td>\n",
       "      <td>-0.500221</td>\n",
       "      <td>1.000000</td>\n",
       "      <td>-0.347595</td>\n",
       "      <td>0.027341</td>\n",
       "      <td>0.012303</td>\n",
       "    </tr>\n",
       "    <tr>\n",
       "      <th>CO</th>\n",
       "      <td>-0.077804</td>\n",
       "      <td>0.103224</td>\n",
       "      <td>0.043382</td>\n",
       "      <td>0.245695</td>\n",
       "      <td>0.601323</td>\n",
       "      <td>-0.347595</td>\n",
       "      <td>1.000000</td>\n",
       "      <td>0.177387</td>\n",
       "      <td>0.213514</td>\n",
       "    </tr>\n",
       "    <tr>\n",
       "      <th>PM10</th>\n",
       "      <td>0.031389</td>\n",
       "      <td>-0.024839</td>\n",
       "      <td>-0.024811</td>\n",
       "      <td>0.129452</td>\n",
       "      <td>0.142619</td>\n",
       "      <td>0.027341</td>\n",
       "      <td>0.177387</td>\n",
       "      <td>1.000000</td>\n",
       "      <td>0.202350</td>\n",
       "    </tr>\n",
       "    <tr>\n",
       "      <th>PM2.5</th>\n",
       "      <td>0.019272</td>\n",
       "      <td>-0.025448</td>\n",
       "      <td>-0.022434</td>\n",
       "      <td>0.127558</td>\n",
       "      <td>0.163560</td>\n",
       "      <td>0.012303</td>\n",
       "      <td>0.213514</td>\n",
       "      <td>0.202350</td>\n",
       "      <td>1.000000</td>\n",
       "    </tr>\n",
       "  </tbody>\n",
       "</table>\n",
       "</div>"
      ],
      "text/plain": [
       "              Station code  Latitude  Longitude       SO2       NO2        O3  \\\n",
       "Station code      1.000000 -0.478379   0.065208  0.070437  0.037608 -0.034636   \n",
       "Latitude         -0.478379  1.000000   0.301133 -0.032694 -0.123985  0.056274   \n",
       "Longitude         0.065208  0.301133   1.000000  0.006271 -0.019416 -0.033605   \n",
       "SO2               0.070437 -0.032694   0.006271  1.000000  0.241622  0.006073   \n",
       "NO2               0.037608 -0.123985  -0.019416  0.241622  1.000000 -0.500221   \n",
       "O3               -0.034636  0.056274  -0.033605  0.006073 -0.500221  1.000000   \n",
       "CO               -0.077804  0.103224   0.043382  0.245695  0.601323 -0.347595   \n",
       "PM10              0.031389 -0.024839  -0.024811  0.129452  0.142619  0.027341   \n",
       "PM2.5             0.019272 -0.025448  -0.022434  0.127558  0.163560  0.012303   \n",
       "\n",
       "                    CO      PM10     PM2.5  \n",
       "Station code -0.077804  0.031389  0.019272  \n",
       "Latitude      0.103224 -0.024839 -0.025448  \n",
       "Longitude     0.043382 -0.024811 -0.022434  \n",
       "SO2           0.245695  0.129452  0.127558  \n",
       "NO2           0.601323  0.142619  0.163560  \n",
       "O3           -0.347595  0.027341  0.012303  \n",
       "CO            1.000000  0.177387  0.213514  \n",
       "PM10          0.177387  1.000000  0.202350  \n",
       "PM2.5         0.213514  0.202350  1.000000  "
      ]
     },
     "execution_count": 28,
     "metadata": {},
     "output_type": "execute_result"
    }
   ],
   "source": [
    "data_cleaned.corr(method='pearson')"
   ]
  },
  {
   "cell_type": "code",
   "execution_count": 29,
   "metadata": {},
   "outputs": [
    {
     "data": {
      "text/html": [
       "<div>\n",
       "<style scoped>\n",
       "    .dataframe tbody tr th:only-of-type {\n",
       "        vertical-align: middle;\n",
       "    }\n",
       "\n",
       "    .dataframe tbody tr th {\n",
       "        vertical-align: top;\n",
       "    }\n",
       "\n",
       "    .dataframe thead th {\n",
       "        text-align: right;\n",
       "    }\n",
       "</style>\n",
       "<table border=\"1\" class=\"dataframe\">\n",
       "  <thead>\n",
       "    <tr style=\"text-align: right;\">\n",
       "      <th></th>\n",
       "      <th>Measurement date</th>\n",
       "      <th>Station code</th>\n",
       "      <th>Address</th>\n",
       "      <th>Latitude</th>\n",
       "      <th>Longitude</th>\n",
       "      <th>SO2</th>\n",
       "      <th>NO2</th>\n",
       "      <th>O3</th>\n",
       "      <th>CO</th>\n",
       "      <th>PM10</th>\n",
       "      <th>PM2.5</th>\n",
       "    </tr>\n",
       "  </thead>\n",
       "  <tbody>\n",
       "    <tr>\n",
       "      <th>0</th>\n",
       "      <td>2017-01-01 05:00</td>\n",
       "      <td>101</td>\n",
       "      <td>19, Jong-ro 35ga-gil, Jongno-gu, Seoul, Republ...</td>\n",
       "      <td>37.572016</td>\n",
       "      <td>127.005007</td>\n",
       "      <td>0.003</td>\n",
       "      <td>0.046</td>\n",
       "      <td>0.002</td>\n",
       "      <td>1.1</td>\n",
       "      <td>70.0</td>\n",
       "      <td>61.0</td>\n",
       "    </tr>\n",
       "    <tr>\n",
       "      <th>1</th>\n",
       "      <td>2017-01-01 06:00</td>\n",
       "      <td>101</td>\n",
       "      <td>19, Jong-ro 35ga-gil, Jongno-gu, Seoul, Republ...</td>\n",
       "      <td>37.572016</td>\n",
       "      <td>127.005007</td>\n",
       "      <td>0.003</td>\n",
       "      <td>0.049</td>\n",
       "      <td>0.002</td>\n",
       "      <td>1.1</td>\n",
       "      <td>66.0</td>\n",
       "      <td>57.0</td>\n",
       "    </tr>\n",
       "    <tr>\n",
       "      <th>2</th>\n",
       "      <td>2017-01-01 07:00</td>\n",
       "      <td>101</td>\n",
       "      <td>19, Jong-ro 35ga-gil, Jongno-gu, Seoul, Republ...</td>\n",
       "      <td>37.572016</td>\n",
       "      <td>127.005007</td>\n",
       "      <td>0.003</td>\n",
       "      <td>0.045</td>\n",
       "      <td>0.002</td>\n",
       "      <td>1.0</td>\n",
       "      <td>71.0</td>\n",
       "      <td>60.0</td>\n",
       "    </tr>\n",
       "    <tr>\n",
       "      <th>3</th>\n",
       "      <td>2017-01-01 08:00</td>\n",
       "      <td>101</td>\n",
       "      <td>19, Jong-ro 35ga-gil, Jongno-gu, Seoul, Republ...</td>\n",
       "      <td>37.572016</td>\n",
       "      <td>127.005007</td>\n",
       "      <td>0.004</td>\n",
       "      <td>0.047</td>\n",
       "      <td>0.002</td>\n",
       "      <td>1.1</td>\n",
       "      <td>72.0</td>\n",
       "      <td>60.0</td>\n",
       "    </tr>\n",
       "    <tr>\n",
       "      <th>4</th>\n",
       "      <td>2017-01-01 09:00</td>\n",
       "      <td>101</td>\n",
       "      <td>19, Jong-ro 35ga-gil, Jongno-gu, Seoul, Republ...</td>\n",
       "      <td>37.572016</td>\n",
       "      <td>127.005007</td>\n",
       "      <td>0.003</td>\n",
       "      <td>0.047</td>\n",
       "      <td>0.002</td>\n",
       "      <td>1.1</td>\n",
       "      <td>74.0</td>\n",
       "      <td>63.0</td>\n",
       "    </tr>\n",
       "    <tr>\n",
       "      <th>...</th>\n",
       "      <td>...</td>\n",
       "      <td>...</td>\n",
       "      <td>...</td>\n",
       "      <td>...</td>\n",
       "      <td>...</td>\n",
       "      <td>...</td>\n",
       "      <td>...</td>\n",
       "      <td>...</td>\n",
       "      <td>...</td>\n",
       "      <td>...</td>\n",
       "      <td>...</td>\n",
       "    </tr>\n",
       "    <tr>\n",
       "      <th>548320</th>\n",
       "      <td>2019-12-31 19:00</td>\n",
       "      <td>125</td>\n",
       "      <td>59, Gucheonmyeon-ro 42-gil, Gangdong-gu, Seoul...</td>\n",
       "      <td>37.544962</td>\n",
       "      <td>127.136792</td>\n",
       "      <td>0.003</td>\n",
       "      <td>0.028</td>\n",
       "      <td>0.013</td>\n",
       "      <td>0.5</td>\n",
       "      <td>23.0</td>\n",
       "      <td>17.0</td>\n",
       "    </tr>\n",
       "    <tr>\n",
       "      <th>548321</th>\n",
       "      <td>2019-12-31 20:00</td>\n",
       "      <td>125</td>\n",
       "      <td>59, Gucheonmyeon-ro 42-gil, Gangdong-gu, Seoul...</td>\n",
       "      <td>37.544962</td>\n",
       "      <td>127.136792</td>\n",
       "      <td>0.003</td>\n",
       "      <td>0.025</td>\n",
       "      <td>0.015</td>\n",
       "      <td>0.4</td>\n",
       "      <td>25.0</td>\n",
       "      <td>19.0</td>\n",
       "    </tr>\n",
       "    <tr>\n",
       "      <th>548322</th>\n",
       "      <td>2019-12-31 21:00</td>\n",
       "      <td>125</td>\n",
       "      <td>59, Gucheonmyeon-ro 42-gil, Gangdong-gu, Seoul...</td>\n",
       "      <td>37.544962</td>\n",
       "      <td>127.136792</td>\n",
       "      <td>0.003</td>\n",
       "      <td>0.023</td>\n",
       "      <td>0.015</td>\n",
       "      <td>0.4</td>\n",
       "      <td>24.0</td>\n",
       "      <td>17.0</td>\n",
       "    </tr>\n",
       "    <tr>\n",
       "      <th>548323</th>\n",
       "      <td>2019-12-31 22:00</td>\n",
       "      <td>125</td>\n",
       "      <td>59, Gucheonmyeon-ro 42-gil, Gangdong-gu, Seoul...</td>\n",
       "      <td>37.544962</td>\n",
       "      <td>127.136792</td>\n",
       "      <td>0.003</td>\n",
       "      <td>0.040</td>\n",
       "      <td>0.004</td>\n",
       "      <td>0.5</td>\n",
       "      <td>25.0</td>\n",
       "      <td>18.0</td>\n",
       "    </tr>\n",
       "    <tr>\n",
       "      <th>548324</th>\n",
       "      <td>2019-12-31 23:00</td>\n",
       "      <td>125</td>\n",
       "      <td>59, Gucheonmyeon-ro 42-gil, Gangdong-gu, Seoul...</td>\n",
       "      <td>37.544962</td>\n",
       "      <td>127.136792</td>\n",
       "      <td>0.003</td>\n",
       "      <td>0.037</td>\n",
       "      <td>0.005</td>\n",
       "      <td>0.5</td>\n",
       "      <td>27.0</td>\n",
       "      <td>18.0</td>\n",
       "    </tr>\n",
       "  </tbody>\n",
       "</table>\n",
       "<p>548325 rows × 11 columns</p>\n",
       "</div>"
      ],
      "text/plain": [
       "        Measurement date  Station code  \\\n",
       "0       2017-01-01 05:00           101   \n",
       "1       2017-01-01 06:00           101   \n",
       "2       2017-01-01 07:00           101   \n",
       "3       2017-01-01 08:00           101   \n",
       "4       2017-01-01 09:00           101   \n",
       "...                  ...           ...   \n",
       "548320  2019-12-31 19:00           125   \n",
       "548321  2019-12-31 20:00           125   \n",
       "548322  2019-12-31 21:00           125   \n",
       "548323  2019-12-31 22:00           125   \n",
       "548324  2019-12-31 23:00           125   \n",
       "\n",
       "                                                  Address   Latitude  \\\n",
       "0       19, Jong-ro 35ga-gil, Jongno-gu, Seoul, Republ...  37.572016   \n",
       "1       19, Jong-ro 35ga-gil, Jongno-gu, Seoul, Republ...  37.572016   \n",
       "2       19, Jong-ro 35ga-gil, Jongno-gu, Seoul, Republ...  37.572016   \n",
       "3       19, Jong-ro 35ga-gil, Jongno-gu, Seoul, Republ...  37.572016   \n",
       "4       19, Jong-ro 35ga-gil, Jongno-gu, Seoul, Republ...  37.572016   \n",
       "...                                                   ...        ...   \n",
       "548320  59, Gucheonmyeon-ro 42-gil, Gangdong-gu, Seoul...  37.544962   \n",
       "548321  59, Gucheonmyeon-ro 42-gil, Gangdong-gu, Seoul...  37.544962   \n",
       "548322  59, Gucheonmyeon-ro 42-gil, Gangdong-gu, Seoul...  37.544962   \n",
       "548323  59, Gucheonmyeon-ro 42-gil, Gangdong-gu, Seoul...  37.544962   \n",
       "548324  59, Gucheonmyeon-ro 42-gil, Gangdong-gu, Seoul...  37.544962   \n",
       "\n",
       "         Longitude    SO2    NO2     O3   CO  PM10  PM2.5  \n",
       "0       127.005007  0.003  0.046  0.002  1.1  70.0   61.0  \n",
       "1       127.005007  0.003  0.049  0.002  1.1  66.0   57.0  \n",
       "2       127.005007  0.003  0.045  0.002  1.0  71.0   60.0  \n",
       "3       127.005007  0.004  0.047  0.002  1.1  72.0   60.0  \n",
       "4       127.005007  0.003  0.047  0.002  1.1  74.0   63.0  \n",
       "...            ...    ...    ...    ...  ...   ...    ...  \n",
       "548320  127.136792  0.003  0.028  0.013  0.5  23.0   17.0  \n",
       "548321  127.136792  0.003  0.025  0.015  0.4  25.0   19.0  \n",
       "548322  127.136792  0.003  0.023  0.015  0.4  24.0   17.0  \n",
       "548323  127.136792  0.003  0.040  0.004  0.5  25.0   18.0  \n",
       "548324  127.136792  0.003  0.037  0.005  0.5  27.0   18.0  \n",
       "\n",
       "[548325 rows x 11 columns]"
      ]
     },
     "execution_count": 29,
     "metadata": {},
     "output_type": "execute_result"
    }
   ],
   "source": [
    "data_cleaned"
   ]
  },
  {
   "cell_type": "code",
   "execution_count": null,
   "metadata": {},
   "outputs": [],
   "source": []
  },
  {
   "cell_type": "code",
   "execution_count": 30,
   "metadata": {},
   "outputs": [
    {
     "data": {
      "text/plain": [
       "(548325, 6)"
      ]
     },
     "execution_count": 30,
     "metadata": {},
     "output_type": "execute_result"
    }
   ],
   "source": [
    "data_particle = data_cleaned.copy()\n",
    "data_particle = data_particle.drop(['Measurement date', 'Address', 'Station code', 'Latitude', 'Longitude'], axis=1)\n",
    "\n",
    "data_particle.shape"
   ]
  },
  {
   "cell_type": "code",
   "execution_count": 31,
   "metadata": {},
   "outputs": [],
   "source": [
    "# sns.pairplot(data_particle)"
   ]
  },
  {
   "cell_type": "markdown",
   "metadata": {},
   "source": [
    "## Feature encoding terhadap semua variabel kategorikal"
   ]
  },
  {
   "cell_type": "markdown",
   "metadata": {},
   "source": [
    "Karena data non-numerik (Measurement Date, Station Code, Latitude, Longitude) sudah tidak digunakan, jadi tidak perlu dilakukan Feature Encoding lagi."
   ]
  },
  {
   "cell_type": "markdown",
   "metadata": {},
   "source": [
    "# Feature Selection"
   ]
  },
  {
   "cell_type": "markdown",
   "metadata": {},
   "source": [
    "## Information Gain menggunakan Entropy"
   ]
  },
  {
   "cell_type": "markdown",
   "metadata": {},
   "source": [
    "Information gain ditujukan data supervised, sehingga tidak dapat digunakan untuk data unsupervised.\n",
    "Karena itu information gain tidak dilakukan. <br>\n",
    "\n",
    "Referensi : https://datascience.stackexchange.com/questions/29572/is-it-possible-to-do-feature-selection-for-unsupervised-machine-learning-problem"
   ]
  },
  {
   "cell_type": "code",
   "execution_count": 32,
   "metadata": {},
   "outputs": [],
   "source": [
    "temporary_data = data_particle.copy()\n",
    "variables = temporary_data\n",
    "vif = pd.DataFrame()\n",
    "\n",
    "vif[\"VIF\"] = [variance_inflation_factor(variables.values, i) for i in range(variables.shape[1])]\n",
    "vif[\"Features\"] = variables.columns"
   ]
  },
  {
   "cell_type": "code",
   "execution_count": 33,
   "metadata": {},
   "outputs": [
    {
     "data": {
      "text/html": [
       "<div>\n",
       "<style scoped>\n",
       "    .dataframe tbody tr th:only-of-type {\n",
       "        vertical-align: middle;\n",
       "    }\n",
       "\n",
       "    .dataframe tbody tr th {\n",
       "        vertical-align: top;\n",
       "    }\n",
       "\n",
       "    .dataframe thead th {\n",
       "        text-align: right;\n",
       "    }\n",
       "</style>\n",
       "<table border=\"1\" class=\"dataframe\">\n",
       "  <thead>\n",
       "    <tr style=\"text-align: right;\">\n",
       "      <th></th>\n",
       "      <th>VIF</th>\n",
       "      <th>Features</th>\n",
       "    </tr>\n",
       "  </thead>\n",
       "  <tbody>\n",
       "    <tr>\n",
       "      <th>0</th>\n",
       "      <td>8.450210</td>\n",
       "      <td>SO2</td>\n",
       "    </tr>\n",
       "    <tr>\n",
       "      <th>1</th>\n",
       "      <td>9.066116</td>\n",
       "      <td>NO2</td>\n",
       "    </tr>\n",
       "    <tr>\n",
       "      <th>2</th>\n",
       "      <td>2.694118</td>\n",
       "      <td>O3</td>\n",
       "    </tr>\n",
       "    <tr>\n",
       "      <th>3</th>\n",
       "      <td>11.708997</td>\n",
       "      <td>CO</td>\n",
       "    </tr>\n",
       "    <tr>\n",
       "      <th>4</th>\n",
       "      <td>1.528260</td>\n",
       "      <td>PM10</td>\n",
       "    </tr>\n",
       "    <tr>\n",
       "      <th>5</th>\n",
       "      <td>1.469968</td>\n",
       "      <td>PM2.5</td>\n",
       "    </tr>\n",
       "  </tbody>\n",
       "</table>\n",
       "</div>"
      ],
      "text/plain": [
       "         VIF Features\n",
       "0   8.450210      SO2\n",
       "1   9.066116      NO2\n",
       "2   2.694118       O3\n",
       "3  11.708997       CO\n",
       "4   1.528260     PM10\n",
       "5   1.469968    PM2.5"
      ]
     },
     "execution_count": 33,
     "metadata": {},
     "output_type": "execute_result"
    }
   ],
   "source": [
    "vif"
   ]
  },
  {
   "cell_type": "code",
   "execution_count": 34,
   "metadata": {},
   "outputs": [],
   "source": [
    "temporary_data = temporary_data.drop(['CO'], axis=1)\n",
    "variables = temporary_data\n",
    "vif = pd.DataFrame()\n",
    "\n",
    "vif[\"VIF\"] = [variance_inflation_factor(variables.values, i) for i in range(variables.shape[1])]\n",
    "vif[\"Features\"] = variables.columns"
   ]
  },
  {
   "cell_type": "code",
   "execution_count": 35,
   "metadata": {},
   "outputs": [
    {
     "data": {
      "text/html": [
       "<div>\n",
       "<style scoped>\n",
       "    .dataframe tbody tr th:only-of-type {\n",
       "        vertical-align: middle;\n",
       "    }\n",
       "\n",
       "    .dataframe tbody tr th {\n",
       "        vertical-align: top;\n",
       "    }\n",
       "\n",
       "    .dataframe thead th {\n",
       "        text-align: right;\n",
       "    }\n",
       "</style>\n",
       "<table border=\"1\" class=\"dataframe\">\n",
       "  <thead>\n",
       "    <tr style=\"text-align: right;\">\n",
       "      <th></th>\n",
       "      <th>VIF</th>\n",
       "      <th>Features</th>\n",
       "    </tr>\n",
       "  </thead>\n",
       "  <tbody>\n",
       "    <tr>\n",
       "      <th>0</th>\n",
       "      <td>7.433132</td>\n",
       "      <td>SO2</td>\n",
       "    </tr>\n",
       "    <tr>\n",
       "      <th>1</th>\n",
       "      <td>5.009485</td>\n",
       "      <td>NO2</td>\n",
       "    </tr>\n",
       "    <tr>\n",
       "      <th>2</th>\n",
       "      <td>2.602302</td>\n",
       "      <td>O3</td>\n",
       "    </tr>\n",
       "    <tr>\n",
       "      <th>3</th>\n",
       "      <td>1.519830</td>\n",
       "      <td>PM10</td>\n",
       "    </tr>\n",
       "    <tr>\n",
       "      <th>4</th>\n",
       "      <td>1.455355</td>\n",
       "      <td>PM2.5</td>\n",
       "    </tr>\n",
       "  </tbody>\n",
       "</table>\n",
       "</div>"
      ],
      "text/plain": [
       "        VIF Features\n",
       "0  7.433132      SO2\n",
       "1  5.009485      NO2\n",
       "2  2.602302       O3\n",
       "3  1.519830     PM10\n",
       "4  1.455355    PM2.5"
      ]
     },
     "execution_count": 35,
     "metadata": {},
     "output_type": "execute_result"
    }
   ],
   "source": [
    "vif"
   ]
  },
  {
   "cell_type": "markdown",
   "metadata": {},
   "source": [
    "## Principal Component Analysis"
   ]
  },
  {
   "cell_type": "code",
   "execution_count": 36,
   "metadata": {},
   "outputs": [
    {
     "data": {
      "text/html": [
       "<div>\n",
       "<style scoped>\n",
       "    .dataframe tbody tr th:only-of-type {\n",
       "        vertical-align: middle;\n",
       "    }\n",
       "\n",
       "    .dataframe tbody tr th {\n",
       "        vertical-align: top;\n",
       "    }\n",
       "\n",
       "    .dataframe thead th {\n",
       "        text-align: right;\n",
       "    }\n",
       "</style>\n",
       "<table border=\"1\" class=\"dataframe\">\n",
       "  <thead>\n",
       "    <tr style=\"text-align: right;\">\n",
       "      <th></th>\n",
       "      <th>SO2</th>\n",
       "      <th>NO2</th>\n",
       "      <th>O3</th>\n",
       "      <th>CO</th>\n",
       "      <th>PM10</th>\n",
       "      <th>PM2.5</th>\n",
       "    </tr>\n",
       "  </thead>\n",
       "  <tbody>\n",
       "    <tr>\n",
       "      <th>0</th>\n",
       "      <td>-0.823270</td>\n",
       "      <td>1.300268</td>\n",
       "      <td>-1.264295</td>\n",
       "      <td>3.192135</td>\n",
       "      <td>0.403053</td>\n",
       "      <td>0.868263</td>\n",
       "    </tr>\n",
       "    <tr>\n",
       "      <th>1</th>\n",
       "      <td>-0.823270</td>\n",
       "      <td>1.517457</td>\n",
       "      <td>-1.264295</td>\n",
       "      <td>3.192135</td>\n",
       "      <td>0.343042</td>\n",
       "      <td>0.772292</td>\n",
       "    </tr>\n",
       "    <tr>\n",
       "      <th>2</th>\n",
       "      <td>-0.823270</td>\n",
       "      <td>1.227871</td>\n",
       "      <td>-1.264295</td>\n",
       "      <td>2.650761</td>\n",
       "      <td>0.418056</td>\n",
       "      <td>0.844270</td>\n",
       "    </tr>\n",
       "    <tr>\n",
       "      <th>3</th>\n",
       "      <td>-0.160979</td>\n",
       "      <td>1.372664</td>\n",
       "      <td>-1.264295</td>\n",
       "      <td>3.192135</td>\n",
       "      <td>0.433059</td>\n",
       "      <td>0.844270</td>\n",
       "    </tr>\n",
       "    <tr>\n",
       "      <th>4</th>\n",
       "      <td>-0.823270</td>\n",
       "      <td>1.372664</td>\n",
       "      <td>-1.264295</td>\n",
       "      <td>3.192135</td>\n",
       "      <td>0.463065</td>\n",
       "      <td>0.916249</td>\n",
       "    </tr>\n",
       "    <tr>\n",
       "      <th>...</th>\n",
       "      <td>...</td>\n",
       "      <td>...</td>\n",
       "      <td>...</td>\n",
       "      <td>...</td>\n",
       "      <td>...</td>\n",
       "      <td>...</td>\n",
       "    </tr>\n",
       "    <tr>\n",
       "      <th>548320</th>\n",
       "      <td>-0.823270</td>\n",
       "      <td>-0.002869</td>\n",
       "      <td>-0.635918</td>\n",
       "      <td>-0.056109</td>\n",
       "      <td>-0.302085</td>\n",
       "      <td>-0.187418</td>\n",
       "    </tr>\n",
       "    <tr>\n",
       "      <th>548321</th>\n",
       "      <td>-0.823270</td>\n",
       "      <td>-0.220058</td>\n",
       "      <td>-0.521667</td>\n",
       "      <td>-0.597483</td>\n",
       "      <td>-0.272079</td>\n",
       "      <td>-0.139433</td>\n",
       "    </tr>\n",
       "    <tr>\n",
       "      <th>548322</th>\n",
       "      <td>-0.823270</td>\n",
       "      <td>-0.364851</td>\n",
       "      <td>-0.521667</td>\n",
       "      <td>-0.597483</td>\n",
       "      <td>-0.287082</td>\n",
       "      <td>-0.187418</td>\n",
       "    </tr>\n",
       "    <tr>\n",
       "      <th>548323</th>\n",
       "      <td>-0.823270</td>\n",
       "      <td>0.865889</td>\n",
       "      <td>-1.150044</td>\n",
       "      <td>-0.056109</td>\n",
       "      <td>-0.272079</td>\n",
       "      <td>-0.163425</td>\n",
       "    </tr>\n",
       "    <tr>\n",
       "      <th>548324</th>\n",
       "      <td>-0.823270</td>\n",
       "      <td>0.648699</td>\n",
       "      <td>-1.092919</td>\n",
       "      <td>-0.056109</td>\n",
       "      <td>-0.242073</td>\n",
       "      <td>-0.163425</td>\n",
       "    </tr>\n",
       "  </tbody>\n",
       "</table>\n",
       "<p>548325 rows × 6 columns</p>\n",
       "</div>"
      ],
      "text/plain": [
       "             SO2       NO2        O3        CO      PM10     PM2.5\n",
       "0      -0.823270  1.300268 -1.264295  3.192135  0.403053  0.868263\n",
       "1      -0.823270  1.517457 -1.264295  3.192135  0.343042  0.772292\n",
       "2      -0.823270  1.227871 -1.264295  2.650761  0.418056  0.844270\n",
       "3      -0.160979  1.372664 -1.264295  3.192135  0.433059  0.844270\n",
       "4      -0.823270  1.372664 -1.264295  3.192135  0.463065  0.916249\n",
       "...          ...       ...       ...       ...       ...       ...\n",
       "548320 -0.823270 -0.002869 -0.635918 -0.056109 -0.302085 -0.187418\n",
       "548321 -0.823270 -0.220058 -0.521667 -0.597483 -0.272079 -0.139433\n",
       "548322 -0.823270 -0.364851 -0.521667 -0.597483 -0.287082 -0.187418\n",
       "548323 -0.823270  0.865889 -1.150044 -0.056109 -0.272079 -0.163425\n",
       "548324 -0.823270  0.648699 -1.092919 -0.056109 -0.242073 -0.163425\n",
       "\n",
       "[548325 rows x 6 columns]"
      ]
     },
     "execution_count": 36,
     "metadata": {},
     "output_type": "execute_result"
    }
   ],
   "source": [
    "matrix_normalization = (data_particle - data_particle.mean()) / data_particle.std()\n",
    "df_normalization = pd.DataFrame(matrix_normalization)\n",
    "df_normalization"
   ]
  },
  {
   "cell_type": "code",
   "execution_count": 37,
   "metadata": {},
   "outputs": [
    {
     "data": {
      "text/html": [
       "<div>\n",
       "<style scoped>\n",
       "    .dataframe tbody tr th:only-of-type {\n",
       "        vertical-align: middle;\n",
       "    }\n",
       "\n",
       "    .dataframe tbody tr th {\n",
       "        vertical-align: top;\n",
       "    }\n",
       "\n",
       "    .dataframe thead th {\n",
       "        text-align: right;\n",
       "    }\n",
       "</style>\n",
       "<table border=\"1\" class=\"dataframe\">\n",
       "  <thead>\n",
       "    <tr style=\"text-align: right;\">\n",
       "      <th></th>\n",
       "      <th>0</th>\n",
       "      <th>1</th>\n",
       "      <th>2</th>\n",
       "      <th>3</th>\n",
       "      <th>4</th>\n",
       "      <th>5</th>\n",
       "    </tr>\n",
       "  </thead>\n",
       "  <tbody>\n",
       "    <tr>\n",
       "      <th>0</th>\n",
       "      <td>1.000000</td>\n",
       "      <td>0.241622</td>\n",
       "      <td>0.006073</td>\n",
       "      <td>0.245695</td>\n",
       "      <td>0.129452</td>\n",
       "      <td>0.127558</td>\n",
       "    </tr>\n",
       "    <tr>\n",
       "      <th>1</th>\n",
       "      <td>0.241622</td>\n",
       "      <td>1.000000</td>\n",
       "      <td>-0.500221</td>\n",
       "      <td>0.601323</td>\n",
       "      <td>0.142619</td>\n",
       "      <td>0.163560</td>\n",
       "    </tr>\n",
       "    <tr>\n",
       "      <th>2</th>\n",
       "      <td>0.006073</td>\n",
       "      <td>-0.500221</td>\n",
       "      <td>1.000000</td>\n",
       "      <td>-0.347595</td>\n",
       "      <td>0.027341</td>\n",
       "      <td>0.012303</td>\n",
       "    </tr>\n",
       "    <tr>\n",
       "      <th>3</th>\n",
       "      <td>0.245695</td>\n",
       "      <td>0.601323</td>\n",
       "      <td>-0.347595</td>\n",
       "      <td>1.000000</td>\n",
       "      <td>0.177387</td>\n",
       "      <td>0.213514</td>\n",
       "    </tr>\n",
       "    <tr>\n",
       "      <th>4</th>\n",
       "      <td>0.129452</td>\n",
       "      <td>0.142619</td>\n",
       "      <td>0.027341</td>\n",
       "      <td>0.177387</td>\n",
       "      <td>1.000000</td>\n",
       "      <td>0.202350</td>\n",
       "    </tr>\n",
       "    <tr>\n",
       "      <th>5</th>\n",
       "      <td>0.127558</td>\n",
       "      <td>0.163560</td>\n",
       "      <td>0.012303</td>\n",
       "      <td>0.213514</td>\n",
       "      <td>0.202350</td>\n",
       "      <td>1.000000</td>\n",
       "    </tr>\n",
       "  </tbody>\n",
       "</table>\n",
       "</div>"
      ],
      "text/plain": [
       "          0         1         2         3         4         5\n",
       "0  1.000000  0.241622  0.006073  0.245695  0.129452  0.127558\n",
       "1  0.241622  1.000000 -0.500221  0.601323  0.142619  0.163560\n",
       "2  0.006073 -0.500221  1.000000 -0.347595  0.027341  0.012303\n",
       "3  0.245695  0.601323 -0.347595  1.000000  0.177387  0.213514\n",
       "4  0.129452  0.142619  0.027341  0.177387  1.000000  0.202350\n",
       "5  0.127558  0.163560  0.012303  0.213514  0.202350  1.000000"
      ]
     },
     "execution_count": 37,
     "metadata": {},
     "output_type": "execute_result"
    }
   ],
   "source": [
    "covarianceMatrix = np.cov(df_normalization.T)\n",
    "dfCov = pd.DataFrame(covarianceMatrix)\n",
    "dfCov"
   ]
  },
  {
   "cell_type": "code",
   "execution_count": 38,
   "metadata": {},
   "outputs": [
    {
     "name": "stdout",
     "output_type": "stream",
     "text": [
      "Eigenvector \n",
      "          0         1         2         3         4         5\n",
      "0 -0.285851 -0.350392  0.099602  0.315232  0.828312  0.011029\n",
      "1 -0.579370  0.187278 -0.786588 -0.100146  0.012231 -0.018898\n",
      "2  0.403932 -0.537321 -0.344118 -0.625111  0.190703  0.050759\n",
      "3 -0.556521  0.035596  0.502073 -0.660394  0.013622  0.025181\n",
      "4 -0.220077 -0.540954  0.026939  0.142182 -0.352589 -0.716711\n",
      "5 -0.247607 -0.509452  0.011758  0.208564 -0.390995  0.694720\n",
      "\n",
      "Eigenvalue \n",
      "[2.16964463 1.24052599 0.35941825 0.53926156 0.89369053 0.79745903]\n",
      "\n"
     ]
    }
   ],
   "source": [
    "eigenvalue, eigenvector = np.linalg.eig(covarianceMatrix)\n",
    "dfEV = pd.DataFrame(eigenvector)\n",
    "print('Eigenvector \\n%s\\n' %dfEV)\n",
    "print('Eigenvalue \\n%s\\n' %eigenvalue)"
   ]
  },
  {
   "cell_type": "code",
   "execution_count": 39,
   "metadata": {},
   "outputs": [
    {
     "data": {
      "image/png": "[encoded data removed]",
      "text/plain": [
       "<Figure size 432x288 with 1 Axes>"
      ]
     },
     "metadata": {
      "needs_background": "light"
     },
     "output_type": "display_data"
    }
   ],
   "source": [
    "plt.semilogy(eigenvalue.real, '-o')\n",
    "plt.title(\"Log-plot of Eigenvalues\")\n",
    "plt.xlabel( \"Eigenvalue Index\" )\n",
    "plt.ylabel( \"Eigenvalue Magnitude\" )\n",
    "plt.grid()\n",
    "plt.show()"
   ]
  },
  {
   "cell_type": "code",
   "execution_count": 40,
   "metadata": {},
   "outputs": [
    {
     "name": "stdout",
     "output_type": "stream",
     "text": [
      "          0\n",
      "0  2.169645\n",
      "1  1.240526\n",
      "2  0.359418\n",
      "3  0.539262\n",
      "4  0.893691\n",
      "5  0.797459\n"
     ]
    }
   ],
   "source": [
    "dfEVal = pd.DataFrame(eigenvalue)\n",
    "print(dfEVal)"
   ]
  },
  {
   "cell_type": "markdown",
   "metadata": {},
   "source": [
    "Karena eigen value memiliki delta paling besar pada nilai fitur ke 0 dan 1, maka jumlah component optimum berada pada nilai 1. Tetapi karena jumlah data ada 6, lebih baik menjadi 2 karena kalau hanya 1 component, tidak akan bisa dilakukan visualisasi."
   ]
  },
  {
   "cell_type": "code",
   "execution_count": 41,
   "metadata": {},
   "outputs": [
    {
     "data": {
      "text/plain": [
       "(548325, 2)"
      ]
     },
     "execution_count": 41,
     "metadata": {},
     "output_type": "execute_result"
    }
   ],
   "source": [
    "nPrincipal = 2\n",
    "\n",
    "pca = PCA(n_components=nPrincipal)\n",
    "principalComponents = pca.fit_transform(data_particle)\n",
    "principalDf = pd.DataFrame(data = principalComponents, columns = ['principal component 1', 'principal component 2'])\n",
    "\n",
    "principalDf.shape"
   ]
  },
  {
   "cell_type": "code",
   "execution_count": 42,
   "metadata": {},
   "outputs": [
    {
     "name": "stdout",
     "output_type": "stream",
     "text": [
      "Explained variation per principal component: [0.73704366 0.26295109]\n"
     ]
    }
   ],
   "source": [
    "df = principalComponents\n",
    "\n",
    "print('Explained variation per principal component: {}'.format(pca.explained_variance_ratio_))"
   ]
  },
  {
   "cell_type": "code",
   "execution_count": 43,
   "metadata": {},
   "outputs": [],
   "source": [
    "# sns.pairplot(principalDf, kind=\"reg\")"
   ]
  },
  {
   "cell_type": "markdown",
   "metadata": {},
   "source": [
    "Berdasarkan visualisasi di atas, data terkesan linear. (dapat direpresentasikan dengan menggunakan garis lurus) <br>\n",
    "Karena data linear, kemungkinan besar data tidak perlu dilakukan Manifold learning karena tidak akan saling bertumpuk satu sama lain."
   ]
  },
  {
   "cell_type": "markdown",
   "metadata": {},
   "source": [
    "# Tujuan Tugas Besar"
   ]
  },
  {
   "cell_type": "markdown",
   "metadata": {},
   "source": [
    "Melakukan Clustering terhadap data yang ada untuk menentukan polusi atau tidak.\n",
    "\n",
    "Melakukan Regresi (prediksi) untuk menentukan data masukkan (input) termasuk polusi atau tidak."
   ]
  },
  {
   "cell_type": "markdown",
   "metadata": {},
   "source": [
    "# Tentukan metode yang akan dipakai untuk mencapai setiap tujuan.\n"
   ]
  },
  {
   "cell_type": "markdown",
   "metadata": {},
   "source": [
    "Menggunakan metode K-Means untuk melakukan Clustering yang dapat membantu mendapatkan solusi / kelas dari masing-masing data.\n",
    "\n",
    "Setelah mengetahui kelas/ solusi dari Clustering, akan dilakukan regresi untuk mengetahui prediksi dari kelas tersebut."
   ]
  },
  {
   "cell_type": "code",
   "execution_count": 44,
   "metadata": {
    "scrolled": true
   },
   "outputs": [
    {
     "data": {
      "text/plain": [
       "Address                                                            Station code\n",
       "10, Poeun-ro 6-gil, Mapo-gu, Seoul, Republic of Korea              106             22038\n",
       "11, Yangsan-ro 23-gil, Yeongdeungpo-gu, Seoul, Republic of Korea   119             22360\n",
       "136, Hannam-daero, Yongsan-gu, Seoul, Republic of Korea            103             21620\n",
       "14, Sillimdong-gil, Gwanak-gu, Seoul, Republic of Korea            121             18706\n",
       "15, Deoksugung-gil, Jung-gu, Seoul, Republic of Korea              102             22260\n",
       "16, Sinbanpo-ro 15-gil, Seocho-gu, Seoul, Republic of Korea        122             19904\n",
       "17, Sanggye-ro 23-gil, Nowon-gu, Seoul, Republic of Korea          114             22965\n",
       "18, Ttukseom-ro 3-gil, Seongdong-gu, Seoul, Republic of Korea      107             22263\n",
       "19, Jong-ro 35ga-gil, Jongno-gu, Seoul, Republic of Korea          101             23710\n",
       "20, Geumha-ro 21-gil, Geumcheon-gu, Seoul, Republic of Korea       118             22763\n",
       "215, Jinheung-ro, Eunpyeong-gu, Seoul, Republic of Korea           104             20955\n",
       "236, Baekjegobun-ro, Songpa-gu, Seoul, Republic of Korea           124             22964\n",
       "32, Segeomjeong-ro 4-gil, Seodaemun-gu, Seoul, Republic of Korea   105             21197\n",
       "34, Sirubong-ro 2-gil, Dobong-gu, Seoul, Republic of Korea         113             22408\n",
       "369, Yongmasan-ro, Jungnang-gu, Seoul, Republic of Korea           110             22660\n",
       "426, Hakdong-ro, Gangnam-gu, Seoul, Republic of Korea              123             22552\n",
       "43, Cheonho-daero 13-gil, Dongdaemun-gu, Seoul, Republic of Korea  109             21557\n",
       "45, Gamasan-ro 27-gil, Guro-gu, Seoul, Republic of Korea           117             18547\n",
       "49, Samyang-ro 139-gil, Gangbuk-gu, Seoul, Republic of Korea       112             22357\n",
       "56, Jungang-ro 52-gil, Yangcheon-gu, Seoul, Republic of Korea      115             22445\n",
       "571, Gwangnaru-ro, Gwangjin-gu, Seoul, Republic of Korea           108             22108\n",
       "59, Gucheonmyeon-ro 42-gil, Gangdong-gu, Seoul, Republic of Korea  125             23602\n",
       "6, Sadang-ro 16a-gil, Dongjak-gu, Seoul, Republic of Korea         120             22534\n",
       "70, Samyang-ro 2-gil, Seongbuk-gu, Seoul, Republic of Korea        111             22844\n",
       "71, Gangseo-ro 45da-gil, Gangseo-gu, Seoul, Republic of Korea      116             21006\n",
       "Name: Measurement date, dtype: int64"
      ]
     },
     "execution_count": 44,
     "metadata": {},
     "output_type": "execute_result"
    }
   ],
   "source": [
    "data_cleaned.groupby(['Address','Station code'])['Measurement date'].count()"
   ]
  },
  {
   "cell_type": "code",
   "execution_count": 45,
   "metadata": {},
   "outputs": [],
   "source": [
    "from datetime import datetime \n",
    "date = []\n",
    "time = []\n",
    "for i in range(0,548325):\n",
    "    x = data_cleaned['Measurement date'][i][0:11]\n",
    "    y = data_cleaned['Measurement date'][i][11:16]\n",
    "    date.append(x)\n",
    "    time.append(y)"
   ]
  },
  {
   "cell_type": "code",
   "execution_count": 46,
   "metadata": {},
   "outputs": [
    {
     "data": {
      "text/html": [
       "<div>\n",
       "<style scoped>\n",
       "    .dataframe tbody tr th:only-of-type {\n",
       "        vertical-align: middle;\n",
       "    }\n",
       "\n",
       "    .dataframe tbody tr th {\n",
       "        vertical-align: top;\n",
       "    }\n",
       "\n",
       "    .dataframe thead th {\n",
       "        text-align: right;\n",
       "    }\n",
       "</style>\n",
       "<table border=\"1\" class=\"dataframe\">\n",
       "  <thead>\n",
       "    <tr style=\"text-align: right;\">\n",
       "      <th></th>\n",
       "      <th>Station code</th>\n",
       "      <th>Address</th>\n",
       "      <th>Latitude</th>\n",
       "      <th>Longitude</th>\n",
       "      <th>SO2</th>\n",
       "      <th>NO2</th>\n",
       "      <th>O3</th>\n",
       "      <th>CO</th>\n",
       "      <th>PM10</th>\n",
       "      <th>PM2.5</th>\n",
       "      <th>date</th>\n",
       "      <th>time</th>\n",
       "    </tr>\n",
       "  </thead>\n",
       "  <tbody>\n",
       "    <tr>\n",
       "      <th>0</th>\n",
       "      <td>101</td>\n",
       "      <td>19, Jong-ro 35ga-gil, Jongno-gu, Seoul, Republ...</td>\n",
       "      <td>37.572016</td>\n",
       "      <td>127.005007</td>\n",
       "      <td>0.003</td>\n",
       "      <td>0.046</td>\n",
       "      <td>0.002</td>\n",
       "      <td>1.1</td>\n",
       "      <td>70.0</td>\n",
       "      <td>61.0</td>\n",
       "      <td>2017-01-01</td>\n",
       "      <td>05:00</td>\n",
       "    </tr>\n",
       "    <tr>\n",
       "      <th>1</th>\n",
       "      <td>101</td>\n",
       "      <td>19, Jong-ro 35ga-gil, Jongno-gu, Seoul, Republ...</td>\n",
       "      <td>37.572016</td>\n",
       "      <td>127.005007</td>\n",
       "      <td>0.003</td>\n",
       "      <td>0.049</td>\n",
       "      <td>0.002</td>\n",
       "      <td>1.1</td>\n",
       "      <td>66.0</td>\n",
       "      <td>57.0</td>\n",
       "      <td>2017-01-01</td>\n",
       "      <td>06:00</td>\n",
       "    </tr>\n",
       "    <tr>\n",
       "      <th>2</th>\n",
       "      <td>101</td>\n",
       "      <td>19, Jong-ro 35ga-gil, Jongno-gu, Seoul, Republ...</td>\n",
       "      <td>37.572016</td>\n",
       "      <td>127.005007</td>\n",
       "      <td>0.003</td>\n",
       "      <td>0.045</td>\n",
       "      <td>0.002</td>\n",
       "      <td>1.0</td>\n",
       "      <td>71.0</td>\n",
       "      <td>60.0</td>\n",
       "      <td>2017-01-01</td>\n",
       "      <td>07:00</td>\n",
       "    </tr>\n",
       "    <tr>\n",
       "      <th>3</th>\n",
       "      <td>101</td>\n",
       "      <td>19, Jong-ro 35ga-gil, Jongno-gu, Seoul, Republ...</td>\n",
       "      <td>37.572016</td>\n",
       "      <td>127.005007</td>\n",
       "      <td>0.004</td>\n",
       "      <td>0.047</td>\n",
       "      <td>0.002</td>\n",
       "      <td>1.1</td>\n",
       "      <td>72.0</td>\n",
       "      <td>60.0</td>\n",
       "      <td>2017-01-01</td>\n",
       "      <td>08:00</td>\n",
       "    </tr>\n",
       "    <tr>\n",
       "      <th>4</th>\n",
       "      <td>101</td>\n",
       "      <td>19, Jong-ro 35ga-gil, Jongno-gu, Seoul, Republ...</td>\n",
       "      <td>37.572016</td>\n",
       "      <td>127.005007</td>\n",
       "      <td>0.003</td>\n",
       "      <td>0.047</td>\n",
       "      <td>0.002</td>\n",
       "      <td>1.1</td>\n",
       "      <td>74.0</td>\n",
       "      <td>63.0</td>\n",
       "      <td>2017-01-01</td>\n",
       "      <td>09:00</td>\n",
       "    </tr>\n",
       "  </tbody>\n",
       "</table>\n",
       "</div>"
      ],
      "text/plain": [
       "   Station code                                            Address   Latitude  \\\n",
       "0           101  19, Jong-ro 35ga-gil, Jongno-gu, Seoul, Republ...  37.572016   \n",
       "1           101  19, Jong-ro 35ga-gil, Jongno-gu, Seoul, Republ...  37.572016   \n",
       "2           101  19, Jong-ro 35ga-gil, Jongno-gu, Seoul, Republ...  37.572016   \n",
       "3           101  19, Jong-ro 35ga-gil, Jongno-gu, Seoul, Republ...  37.572016   \n",
       "4           101  19, Jong-ro 35ga-gil, Jongno-gu, Seoul, Republ...  37.572016   \n",
       "\n",
       "    Longitude    SO2    NO2     O3   CO  PM10  PM2.5         date   time  \n",
       "0  127.005007  0.003  0.046  0.002  1.1  70.0   61.0  2017-01-01   05:00  \n",
       "1  127.005007  0.003  0.049  0.002  1.1  66.0   57.0  2017-01-01   06:00  \n",
       "2  127.005007  0.003  0.045  0.002  1.0  71.0   60.0  2017-01-01   07:00  \n",
       "3  127.005007  0.004  0.047  0.002  1.1  72.0   60.0  2017-01-01   08:00  \n",
       "4  127.005007  0.003  0.047  0.002  1.1  74.0   63.0  2017-01-01   09:00  "
      ]
     },
     "execution_count": 46,
     "metadata": {},
     "output_type": "execute_result"
    }
   ],
   "source": [
    "data_cleaned['date'] = date\n",
    "data_cleaned['time'] = time\n",
    "data_cleaned = data_cleaned.drop(['Measurement date'], axis=1)\n",
    "data_cleaned.head()"
   ]
  },
  {
   "cell_type": "code",
   "execution_count": 47,
   "metadata": {},
   "outputs": [],
   "source": [
    "data_cleaned_avg = data_cleaned.groupby(['Address','date'], as_index=False).agg({\n",
    "    \"Longitude\" : \"max\",\n",
    "    \"Latitude\" : \"max\",\n",
    "    \"SO2\" : \"mean\",\n",
    "    \"NO2\" : \"mean\",\n",
    "    \"O3\": \"mean\",\n",
    "    \"CO\" : \"mean\",\n",
    "    \"PM10\" : \"mean\",\n",
    "    \"PM2.5\" : \"mean\"\n",
    "})"
   ]
  },
  {
   "cell_type": "code",
   "execution_count": 48,
   "metadata": {},
   "outputs": [
    {
     "data": {
      "text/html": [
       "<div>\n",
       "<style scoped>\n",
       "    .dataframe tbody tr th:only-of-type {\n",
       "        vertical-align: middle;\n",
       "    }\n",
       "\n",
       "    .dataframe tbody tr th {\n",
       "        vertical-align: top;\n",
       "    }\n",
       "\n",
       "    .dataframe thead th {\n",
       "        text-align: right;\n",
       "    }\n",
       "</style>\n",
       "<table border=\"1\" class=\"dataframe\">\n",
       "  <thead>\n",
       "    <tr style=\"text-align: right;\">\n",
       "      <th></th>\n",
       "      <th>Address</th>\n",
       "      <th>date</th>\n",
       "      <th>Longitude</th>\n",
       "      <th>Latitude</th>\n",
       "      <th>SO2</th>\n",
       "      <th>NO2</th>\n",
       "      <th>O3</th>\n",
       "      <th>CO</th>\n",
       "      <th>PM10</th>\n",
       "      <th>PM2.5</th>\n",
       "    </tr>\n",
       "  </thead>\n",
       "  <tbody>\n",
       "    <tr>\n",
       "      <th>0</th>\n",
       "      <td>10, Poeun-ro 6-gil, Mapo-gu, Seoul, Republic o...</td>\n",
       "      <td>2017-01-01</td>\n",
       "      <td>126.905598</td>\n",
       "      <td>37.55558</td>\n",
       "      <td>0.005071</td>\n",
       "      <td>0.052786</td>\n",
       "      <td>0.004714</td>\n",
       "      <td>1.042857</td>\n",
       "      <td>78.642857</td>\n",
       "      <td>70.142857</td>\n",
       "    </tr>\n",
       "    <tr>\n",
       "      <th>1</th>\n",
       "      <td>10, Poeun-ro 6-gil, Mapo-gu, Seoul, Republic o...</td>\n",
       "      <td>2017-01-02</td>\n",
       "      <td>126.905598</td>\n",
       "      <td>37.55558</td>\n",
       "      <td>0.005375</td>\n",
       "      <td>0.043000</td>\n",
       "      <td>0.017188</td>\n",
       "      <td>1.006250</td>\n",
       "      <td>101.750000</td>\n",
       "      <td>88.875000</td>\n",
       "    </tr>\n",
       "    <tr>\n",
       "      <th>2</th>\n",
       "      <td>10, Poeun-ro 6-gil, Mapo-gu, Seoul, Republic o...</td>\n",
       "      <td>2017-01-03</td>\n",
       "      <td>126.905598</td>\n",
       "      <td>37.55558</td>\n",
       "      <td>0.005222</td>\n",
       "      <td>0.041556</td>\n",
       "      <td>0.015556</td>\n",
       "      <td>0.866667</td>\n",
       "      <td>72.833333</td>\n",
       "      <td>60.500000</td>\n",
       "    </tr>\n",
       "    <tr>\n",
       "      <th>3</th>\n",
       "      <td>10, Poeun-ro 6-gil, Mapo-gu, Seoul, Republic o...</td>\n",
       "      <td>2017-01-04</td>\n",
       "      <td>126.905598</td>\n",
       "      <td>37.55558</td>\n",
       "      <td>0.005167</td>\n",
       "      <td>0.053722</td>\n",
       "      <td>0.010833</td>\n",
       "      <td>0.944444</td>\n",
       "      <td>48.833333</td>\n",
       "      <td>39.444444</td>\n",
       "    </tr>\n",
       "    <tr>\n",
       "      <th>4</th>\n",
       "      <td>10, Poeun-ro 6-gil, Mapo-gu, Seoul, Republic o...</td>\n",
       "      <td>2017-01-05</td>\n",
       "      <td>126.905598</td>\n",
       "      <td>37.55558</td>\n",
       "      <td>0.003905</td>\n",
       "      <td>0.039571</td>\n",
       "      <td>0.012143</td>\n",
       "      <td>0.680952</td>\n",
       "      <td>29.000000</td>\n",
       "      <td>22.285714</td>\n",
       "    </tr>\n",
       "    <tr>\n",
       "      <th>...</th>\n",
       "      <td>...</td>\n",
       "      <td>...</td>\n",
       "      <td>...</td>\n",
       "      <td>...</td>\n",
       "      <td>...</td>\n",
       "      <td>...</td>\n",
       "      <td>...</td>\n",
       "      <td>...</td>\n",
       "      <td>...</td>\n",
       "      <td>...</td>\n",
       "    </tr>\n",
       "    <tr>\n",
       "      <th>26559</th>\n",
       "      <td>71, Gangseo-ro 45da-gil, Gangseo-gu, Seoul, Re...</td>\n",
       "      <td>2019-12-27</td>\n",
       "      <td>126.835151</td>\n",
       "      <td>37.54464</td>\n",
       "      <td>0.004773</td>\n",
       "      <td>0.028909</td>\n",
       "      <td>0.020545</td>\n",
       "      <td>0.509091</td>\n",
       "      <td>39.818182</td>\n",
       "      <td>22.772727</td>\n",
       "    </tr>\n",
       "    <tr>\n",
       "      <th>26560</th>\n",
       "      <td>71, Gangseo-ro 45da-gil, Gangseo-gu, Seoul, Re...</td>\n",
       "      <td>2019-12-28</td>\n",
       "      <td>126.835151</td>\n",
       "      <td>37.54464</td>\n",
       "      <td>0.004636</td>\n",
       "      <td>0.049364</td>\n",
       "      <td>0.006091</td>\n",
       "      <td>0.681818</td>\n",
       "      <td>49.727273</td>\n",
       "      <td>23.636364</td>\n",
       "    </tr>\n",
       "    <tr>\n",
       "      <th>26561</th>\n",
       "      <td>71, Gangseo-ro 45da-gil, Gangseo-gu, Seoul, Re...</td>\n",
       "      <td>2019-12-29</td>\n",
       "      <td>126.835151</td>\n",
       "      <td>37.54464</td>\n",
       "      <td>0.003750</td>\n",
       "      <td>0.044958</td>\n",
       "      <td>0.005542</td>\n",
       "      <td>0.625000</td>\n",
       "      <td>52.166667</td>\n",
       "      <td>26.458333</td>\n",
       "    </tr>\n",
       "    <tr>\n",
       "      <th>26562</th>\n",
       "      <td>71, Gangseo-ro 45da-gil, Gangseo-gu, Seoul, Re...</td>\n",
       "      <td>2019-12-30</td>\n",
       "      <td>126.835151</td>\n",
       "      <td>37.54464</td>\n",
       "      <td>0.004417</td>\n",
       "      <td>0.031792</td>\n",
       "      <td>0.014167</td>\n",
       "      <td>0.579167</td>\n",
       "      <td>41.625000</td>\n",
       "      <td>24.666667</td>\n",
       "    </tr>\n",
       "    <tr>\n",
       "      <th>26563</th>\n",
       "      <td>71, Gangseo-ro 45da-gil, Gangseo-gu, Seoul, Re...</td>\n",
       "      <td>2019-12-31</td>\n",
       "      <td>126.835151</td>\n",
       "      <td>37.54464</td>\n",
       "      <td>0.003875</td>\n",
       "      <td>0.016792</td>\n",
       "      <td>0.022583</td>\n",
       "      <td>0.362500</td>\n",
       "      <td>27.666667</td>\n",
       "      <td>15.125000</td>\n",
       "    </tr>\n",
       "  </tbody>\n",
       "</table>\n",
       "<p>26564 rows × 10 columns</p>\n",
       "</div>"
      ],
      "text/plain": [
       "                                                 Address         date  \\\n",
       "0      10, Poeun-ro 6-gil, Mapo-gu, Seoul, Republic o...  2017-01-01    \n",
       "1      10, Poeun-ro 6-gil, Mapo-gu, Seoul, Republic o...  2017-01-02    \n",
       "2      10, Poeun-ro 6-gil, Mapo-gu, Seoul, Republic o...  2017-01-03    \n",
       "3      10, Poeun-ro 6-gil, Mapo-gu, Seoul, Republic o...  2017-01-04    \n",
       "4      10, Poeun-ro 6-gil, Mapo-gu, Seoul, Republic o...  2017-01-05    \n",
       "...                                                  ...          ...   \n",
       "26559  71, Gangseo-ro 45da-gil, Gangseo-gu, Seoul, Re...  2019-12-27    \n",
       "26560  71, Gangseo-ro 45da-gil, Gangseo-gu, Seoul, Re...  2019-12-28    \n",
       "26561  71, Gangseo-ro 45da-gil, Gangseo-gu, Seoul, Re...  2019-12-29    \n",
       "26562  71, Gangseo-ro 45da-gil, Gangseo-gu, Seoul, Re...  2019-12-30    \n",
       "26563  71, Gangseo-ro 45da-gil, Gangseo-gu, Seoul, Re...  2019-12-31    \n",
       "\n",
       "        Longitude  Latitude       SO2       NO2        O3        CO  \\\n",
       "0      126.905598  37.55558  0.005071  0.052786  0.004714  1.042857   \n",
       "1      126.905598  37.55558  0.005375  0.043000  0.017188  1.006250   \n",
       "2      126.905598  37.55558  0.005222  0.041556  0.015556  0.866667   \n",
       "3      126.905598  37.55558  0.005167  0.053722  0.010833  0.944444   \n",
       "4      126.905598  37.55558  0.003905  0.039571  0.012143  0.680952   \n",
       "...           ...       ...       ...       ...       ...       ...   \n",
       "26559  126.835151  37.54464  0.004773  0.028909  0.020545  0.509091   \n",
       "26560  126.835151  37.54464  0.004636  0.049364  0.006091  0.681818   \n",
       "26561  126.835151  37.54464  0.003750  0.044958  0.005542  0.625000   \n",
       "26562  126.835151  37.54464  0.004417  0.031792  0.014167  0.579167   \n",
       "26563  126.835151  37.54464  0.003875  0.016792  0.022583  0.362500   \n",
       "\n",
       "             PM10      PM2.5  \n",
       "0       78.642857  70.142857  \n",
       "1      101.750000  88.875000  \n",
       "2       72.833333  60.500000  \n",
       "3       48.833333  39.444444  \n",
       "4       29.000000  22.285714  \n",
       "...           ...        ...  \n",
       "26559   39.818182  22.772727  \n",
       "26560   49.727273  23.636364  \n",
       "26561   52.166667  26.458333  \n",
       "26562   41.625000  24.666667  \n",
       "26563   27.666667  15.125000  \n",
       "\n",
       "[26564 rows x 10 columns]"
      ]
     },
     "execution_count": 48,
     "metadata": {},
     "output_type": "execute_result"
    }
   ],
   "source": [
    "data_cleaned_avg"
   ]
  },
  {
   "cell_type": "code",
   "execution_count": 49,
   "metadata": {},
   "outputs": [],
   "source": [
    "month = []\n",
    "total = []\n",
    "for i in range(0,26564):\n",
    "    x = int(data_cleaned_avg['date'][i][0:4])\n",
    "    y = data_cleaned_avg['date'][i][5:7]\n",
    "    z = int(data_cleaned_avg['date'][i][8:10])\n",
    "    if(y == '01'):\n",
    "        month = 0\n",
    "    elif (y == '02'):\n",
    "        month = 31\n",
    "    elif (y == '03'):\n",
    "        month = 59\n",
    "    elif (y == '04'):\n",
    "        month = 90\n",
    "    elif (y == '05'):\n",
    "        month = 120\n",
    "    elif (y == '06'):\n",
    "        month = 151\n",
    "    elif (y == '07' ):\n",
    "        month = 181\n",
    "    elif (y == '08'):\n",
    "        month = 212\n",
    "    elif (y == '09'):\n",
    "        month = 243\n",
    "    elif (y == '10'):\n",
    "        month = 273\n",
    "    elif (y == '11'):\n",
    "        month = 304\n",
    "    elif (y == '12'):\n",
    "        month = 334\n",
    "    k = x*365+month+z\n",
    "    total.append(k)"
   ]
  },
  {
   "cell_type": "code",
   "execution_count": 50,
   "metadata": {},
   "outputs": [
    {
     "data": {
      "text/html": [
       "<div>\n",
       "<style scoped>\n",
       "    .dataframe tbody tr th:only-of-type {\n",
       "        vertical-align: middle;\n",
       "    }\n",
       "\n",
       "    .dataframe tbody tr th {\n",
       "        vertical-align: top;\n",
       "    }\n",
       "\n",
       "    .dataframe thead th {\n",
       "        text-align: right;\n",
       "    }\n",
       "</style>\n",
       "<table border=\"1\" class=\"dataframe\">\n",
       "  <thead>\n",
       "    <tr style=\"text-align: right;\">\n",
       "      <th></th>\n",
       "      <th>Address</th>\n",
       "      <th>Longitude</th>\n",
       "      <th>Latitude</th>\n",
       "      <th>SO2</th>\n",
       "      <th>NO2</th>\n",
       "      <th>O3</th>\n",
       "      <th>CO</th>\n",
       "      <th>PM10</th>\n",
       "      <th>PM2.5</th>\n",
       "      <th>Date</th>\n",
       "    </tr>\n",
       "  </thead>\n",
       "  <tbody>\n",
       "    <tr>\n",
       "      <th>0</th>\n",
       "      <td>10, Poeun-ro 6-gil, Mapo-gu, Seoul, Republic o...</td>\n",
       "      <td>126.905598</td>\n",
       "      <td>37.55558</td>\n",
       "      <td>0.005071</td>\n",
       "      <td>0.052786</td>\n",
       "      <td>0.004714</td>\n",
       "      <td>1.042857</td>\n",
       "      <td>78.642857</td>\n",
       "      <td>70.142857</td>\n",
       "      <td>736206</td>\n",
       "    </tr>\n",
       "    <tr>\n",
       "      <th>1</th>\n",
       "      <td>10, Poeun-ro 6-gil, Mapo-gu, Seoul, Republic o...</td>\n",
       "      <td>126.905598</td>\n",
       "      <td>37.55558</td>\n",
       "      <td>0.005375</td>\n",
       "      <td>0.043000</td>\n",
       "      <td>0.017188</td>\n",
       "      <td>1.006250</td>\n",
       "      <td>101.750000</td>\n",
       "      <td>88.875000</td>\n",
       "      <td>736207</td>\n",
       "    </tr>\n",
       "    <tr>\n",
       "      <th>2</th>\n",
       "      <td>10, Poeun-ro 6-gil, Mapo-gu, Seoul, Republic o...</td>\n",
       "      <td>126.905598</td>\n",
       "      <td>37.55558</td>\n",
       "      <td>0.005222</td>\n",
       "      <td>0.041556</td>\n",
       "      <td>0.015556</td>\n",
       "      <td>0.866667</td>\n",
       "      <td>72.833333</td>\n",
       "      <td>60.500000</td>\n",
       "      <td>736208</td>\n",
       "    </tr>\n",
       "    <tr>\n",
       "      <th>3</th>\n",
       "      <td>10, Poeun-ro 6-gil, Mapo-gu, Seoul, Republic o...</td>\n",
       "      <td>126.905598</td>\n",
       "      <td>37.55558</td>\n",
       "      <td>0.005167</td>\n",
       "      <td>0.053722</td>\n",
       "      <td>0.010833</td>\n",
       "      <td>0.944444</td>\n",
       "      <td>48.833333</td>\n",
       "      <td>39.444444</td>\n",
       "      <td>736209</td>\n",
       "    </tr>\n",
       "    <tr>\n",
       "      <th>4</th>\n",
       "      <td>10, Poeun-ro 6-gil, Mapo-gu, Seoul, Republic o...</td>\n",
       "      <td>126.905598</td>\n",
       "      <td>37.55558</td>\n",
       "      <td>0.003905</td>\n",
       "      <td>0.039571</td>\n",
       "      <td>0.012143</td>\n",
       "      <td>0.680952</td>\n",
       "      <td>29.000000</td>\n",
       "      <td>22.285714</td>\n",
       "      <td>736210</td>\n",
       "    </tr>\n",
       "  </tbody>\n",
       "</table>\n",
       "</div>"
      ],
      "text/plain": [
       "                                             Address   Longitude  Latitude  \\\n",
       "0  10, Poeun-ro 6-gil, Mapo-gu, Seoul, Republic o...  126.905598  37.55558   \n",
       "1  10, Poeun-ro 6-gil, Mapo-gu, Seoul, Republic o...  126.905598  37.55558   \n",
       "2  10, Poeun-ro 6-gil, Mapo-gu, Seoul, Republic o...  126.905598  37.55558   \n",
       "3  10, Poeun-ro 6-gil, Mapo-gu, Seoul, Republic o...  126.905598  37.55558   \n",
       "4  10, Poeun-ro 6-gil, Mapo-gu, Seoul, Republic o...  126.905598  37.55558   \n",
       "\n",
       "        SO2       NO2        O3        CO        PM10      PM2.5    Date  \n",
       "0  0.005071  0.052786  0.004714  1.042857   78.642857  70.142857  736206  \n",
       "1  0.005375  0.043000  0.017188  1.006250  101.750000  88.875000  736207  \n",
       "2  0.005222  0.041556  0.015556  0.866667   72.833333  60.500000  736208  \n",
       "3  0.005167  0.053722  0.010833  0.944444   48.833333  39.444444  736209  \n",
       "4  0.003905  0.039571  0.012143  0.680952   29.000000  22.285714  736210  "
      ]
     },
     "execution_count": 50,
     "metadata": {},
     "output_type": "execute_result"
    }
   ],
   "source": [
    "data_cleaned_avg = data_cleaned_avg.drop(['date'], axis=1)\n",
    "data_cleaned_avg['Date'] = total\n",
    "data_cleaned_avg.head()"
   ]
  },
  {
   "cell_type": "code",
   "execution_count": 51,
   "metadata": {},
   "outputs": [],
   "source": [
    "data_cleaned_avg.to_csv(r'data_cleaned_avg_date.csv', index = False, header=True)"
   ]
  },
  {
   "cell_type": "code",
   "execution_count": 52,
   "metadata": {},
   "outputs": [
    {
     "data": {
      "text/html": [
       "<div>\n",
       "<style scoped>\n",
       "    .dataframe tbody tr th:only-of-type {\n",
       "        vertical-align: middle;\n",
       "    }\n",
       "\n",
       "    .dataframe tbody tr th {\n",
       "        vertical-align: top;\n",
       "    }\n",
       "\n",
       "    .dataframe thead th {\n",
       "        text-align: right;\n",
       "    }\n",
       "</style>\n",
       "<table border=\"1\" class=\"dataframe\">\n",
       "  <thead>\n",
       "    <tr style=\"text-align: right;\">\n",
       "      <th></th>\n",
       "      <th>Longitude</th>\n",
       "      <th>Latitude</th>\n",
       "      <th>SO2</th>\n",
       "      <th>NO2</th>\n",
       "      <th>O3</th>\n",
       "      <th>CO</th>\n",
       "      <th>PM10</th>\n",
       "      <th>PM2.5</th>\n",
       "      <th>Date</th>\n",
       "      <th>Address_10, Poeun-ro 6-gil, Mapo-gu, Seoul, Republic of Korea</th>\n",
       "      <th>...</th>\n",
       "      <th>Address_426, Hakdong-ro, Gangnam-gu, Seoul, Republic of Korea</th>\n",
       "      <th>Address_43, Cheonho-daero 13-gil, Dongdaemun-gu, Seoul, Republic of Korea</th>\n",
       "      <th>Address_45, Gamasan-ro 27-gil, Guro-gu, Seoul, Republic of Korea</th>\n",
       "      <th>Address_49, Samyang-ro 139-gil, Gangbuk-gu, Seoul, Republic of Korea</th>\n",
       "      <th>Address_56, Jungang-ro 52-gil, Yangcheon-gu, Seoul, Republic of Korea</th>\n",
       "      <th>Address_571, Gwangnaru-ro, Gwangjin-gu, Seoul, Republic of Korea</th>\n",
       "      <th>Address_59, Gucheonmyeon-ro 42-gil, Gangdong-gu, Seoul, Republic of Korea</th>\n",
       "      <th>Address_6, Sadang-ro 16a-gil, Dongjak-gu, Seoul, Republic of Korea</th>\n",
       "      <th>Address_70, Samyang-ro 2-gil, Seongbuk-gu, Seoul, Republic of Korea</th>\n",
       "      <th>Address_71, Gangseo-ro 45da-gil, Gangseo-gu, Seoul, Republic of Korea</th>\n",
       "    </tr>\n",
       "  </thead>\n",
       "  <tbody>\n",
       "    <tr>\n",
       "      <th>0</th>\n",
       "      <td>126.905598</td>\n",
       "      <td>37.55558</td>\n",
       "      <td>0.005071</td>\n",
       "      <td>0.052786</td>\n",
       "      <td>0.004714</td>\n",
       "      <td>1.042857</td>\n",
       "      <td>78.642857</td>\n",
       "      <td>70.142857</td>\n",
       "      <td>736206</td>\n",
       "      <td>1</td>\n",
       "      <td>...</td>\n",
       "      <td>0</td>\n",
       "      <td>0</td>\n",
       "      <td>0</td>\n",
       "      <td>0</td>\n",
       "      <td>0</td>\n",
       "      <td>0</td>\n",
       "      <td>0</td>\n",
       "      <td>0</td>\n",
       "      <td>0</td>\n",
       "      <td>0</td>\n",
       "    </tr>\n",
       "    <tr>\n",
       "      <th>1</th>\n",
       "      <td>126.905598</td>\n",
       "      <td>37.55558</td>\n",
       "      <td>0.005375</td>\n",
       "      <td>0.043000</td>\n",
       "      <td>0.017188</td>\n",
       "      <td>1.006250</td>\n",
       "      <td>101.750000</td>\n",
       "      <td>88.875000</td>\n",
       "      <td>736207</td>\n",
       "      <td>1</td>\n",
       "      <td>...</td>\n",
       "      <td>0</td>\n",
       "      <td>0</td>\n",
       "      <td>0</td>\n",
       "      <td>0</td>\n",
       "      <td>0</td>\n",
       "      <td>0</td>\n",
       "      <td>0</td>\n",
       "      <td>0</td>\n",
       "      <td>0</td>\n",
       "      <td>0</td>\n",
       "    </tr>\n",
       "    <tr>\n",
       "      <th>2</th>\n",
       "      <td>126.905598</td>\n",
       "      <td>37.55558</td>\n",
       "      <td>0.005222</td>\n",
       "      <td>0.041556</td>\n",
       "      <td>0.015556</td>\n",
       "      <td>0.866667</td>\n",
       "      <td>72.833333</td>\n",
       "      <td>60.500000</td>\n",
       "      <td>736208</td>\n",
       "      <td>1</td>\n",
       "      <td>...</td>\n",
       "      <td>0</td>\n",
       "      <td>0</td>\n",
       "      <td>0</td>\n",
       "      <td>0</td>\n",
       "      <td>0</td>\n",
       "      <td>0</td>\n",
       "      <td>0</td>\n",
       "      <td>0</td>\n",
       "      <td>0</td>\n",
       "      <td>0</td>\n",
       "    </tr>\n",
       "    <tr>\n",
       "      <th>3</th>\n",
       "      <td>126.905598</td>\n",
       "      <td>37.55558</td>\n",
       "      <td>0.005167</td>\n",
       "      <td>0.053722</td>\n",
       "      <td>0.010833</td>\n",
       "      <td>0.944444</td>\n",
       "      <td>48.833333</td>\n",
       "      <td>39.444444</td>\n",
       "      <td>736209</td>\n",
       "      <td>1</td>\n",
       "      <td>...</td>\n",
       "      <td>0</td>\n",
       "      <td>0</td>\n",
       "      <td>0</td>\n",
       "      <td>0</td>\n",
       "      <td>0</td>\n",
       "      <td>0</td>\n",
       "      <td>0</td>\n",
       "      <td>0</td>\n",
       "      <td>0</td>\n",
       "      <td>0</td>\n",
       "    </tr>\n",
       "    <tr>\n",
       "      <th>4</th>\n",
       "      <td>126.905598</td>\n",
       "      <td>37.55558</td>\n",
       "      <td>0.003905</td>\n",
       "      <td>0.039571</td>\n",
       "      <td>0.012143</td>\n",
       "      <td>0.680952</td>\n",
       "      <td>29.000000</td>\n",
       "      <td>22.285714</td>\n",
       "      <td>736210</td>\n",
       "      <td>1</td>\n",
       "      <td>...</td>\n",
       "      <td>0</td>\n",
       "      <td>0</td>\n",
       "      <td>0</td>\n",
       "      <td>0</td>\n",
       "      <td>0</td>\n",
       "      <td>0</td>\n",
       "      <td>0</td>\n",
       "      <td>0</td>\n",
       "      <td>0</td>\n",
       "      <td>0</td>\n",
       "    </tr>\n",
       "  </tbody>\n",
       "</table>\n",
       "<p>5 rows × 34 columns</p>\n",
       "</div>"
      ],
      "text/plain": [
       "    Longitude  Latitude       SO2       NO2        O3        CO        PM10  \\\n",
       "0  126.905598  37.55558  0.005071  0.052786  0.004714  1.042857   78.642857   \n",
       "1  126.905598  37.55558  0.005375  0.043000  0.017188  1.006250  101.750000   \n",
       "2  126.905598  37.55558  0.005222  0.041556  0.015556  0.866667   72.833333   \n",
       "3  126.905598  37.55558  0.005167  0.053722  0.010833  0.944444   48.833333   \n",
       "4  126.905598  37.55558  0.003905  0.039571  0.012143  0.680952   29.000000   \n",
       "\n",
       "       PM2.5    Date  \\\n",
       "0  70.142857  736206   \n",
       "1  88.875000  736207   \n",
       "2  60.500000  736208   \n",
       "3  39.444444  736209   \n",
       "4  22.285714  736210   \n",
       "\n",
       "   Address_10, Poeun-ro 6-gil, Mapo-gu, Seoul, Republic of Korea  ...  \\\n",
       "0                                                  1              ...   \n",
       "1                                                  1              ...   \n",
       "2                                                  1              ...   \n",
       "3                                                  1              ...   \n",
       "4                                                  1              ...   \n",
       "\n",
       "   Address_426, Hakdong-ro, Gangnam-gu, Seoul, Republic of Korea  \\\n",
       "0                                                  0               \n",
       "1                                                  0               \n",
       "2                                                  0               \n",
       "3                                                  0               \n",
       "4                                                  0               \n",
       "\n",
       "   Address_43, Cheonho-daero 13-gil, Dongdaemun-gu, Seoul, Republic of Korea  \\\n",
       "0                                                  0                           \n",
       "1                                                  0                           \n",
       "2                                                  0                           \n",
       "3                                                  0                           \n",
       "4                                                  0                           \n",
       "\n",
       "   Address_45, Gamasan-ro 27-gil, Guro-gu, Seoul, Republic of Korea  \\\n",
       "0                                                  0                  \n",
       "1                                                  0                  \n",
       "2                                                  0                  \n",
       "3                                                  0                  \n",
       "4                                                  0                  \n",
       "\n",
       "   Address_49, Samyang-ro 139-gil, Gangbuk-gu, Seoul, Republic of Korea  \\\n",
       "0                                                  0                      \n",
       "1                                                  0                      \n",
       "2                                                  0                      \n",
       "3                                                  0                      \n",
       "4                                                  0                      \n",
       "\n",
       "   Address_56, Jungang-ro 52-gil, Yangcheon-gu, Seoul, Republic of Korea  \\\n",
       "0                                                  0                       \n",
       "1                                                  0                       \n",
       "2                                                  0                       \n",
       "3                                                  0                       \n",
       "4                                                  0                       \n",
       "\n",
       "   Address_571, Gwangnaru-ro, Gwangjin-gu, Seoul, Republic of Korea  \\\n",
       "0                                                  0                  \n",
       "1                                                  0                  \n",
       "2                                                  0                  \n",
       "3                                                  0                  \n",
       "4                                                  0                  \n",
       "\n",
       "   Address_59, Gucheonmyeon-ro 42-gil, Gangdong-gu, Seoul, Republic of Korea  \\\n",
       "0                                                  0                           \n",
       "1                                                  0                           \n",
       "2                                                  0                           \n",
       "3                                                  0                           \n",
       "4                                                  0                           \n",
       "\n",
       "   Address_6, Sadang-ro 16a-gil, Dongjak-gu, Seoul, Republic of Korea  \\\n",
       "0                                                  0                    \n",
       "1                                                  0                    \n",
       "2                                                  0                    \n",
       "3                                                  0                    \n",
       "4                                                  0                    \n",
       "\n",
       "   Address_70, Samyang-ro 2-gil, Seongbuk-gu, Seoul, Republic of Korea  \\\n",
       "0                                                  0                     \n",
       "1                                                  0                     \n",
       "2                                                  0                     \n",
       "3                                                  0                     \n",
       "4                                                  0                     \n",
       "\n",
       "   Address_71, Gangseo-ro 45da-gil, Gangseo-gu, Seoul, Republic of Korea  \n",
       "0                                                  0                      \n",
       "1                                                  0                      \n",
       "2                                                  0                      \n",
       "3                                                  0                      \n",
       "4                                                  0                      \n",
       "\n",
       "[5 rows x 34 columns]"
      ]
     },
     "execution_count": 52,
     "metadata": {},
     "output_type": "execute_result"
    }
   ],
   "source": [
    "data_cleaned_avg = pd.get_dummies(data_cleaned_avg)\n",
    "data_cleaned_avg.head()"
   ]
  },
  {
   "cell_type": "code",
   "execution_count": 53,
   "metadata": {},
   "outputs": [
    {
     "data": {
      "text/html": [
       "<div>\n",
       "<style scoped>\n",
       "    .dataframe tbody tr th:only-of-type {\n",
       "        vertical-align: middle;\n",
       "    }\n",
       "\n",
       "    .dataframe tbody tr th {\n",
       "        vertical-align: top;\n",
       "    }\n",
       "\n",
       "    .dataframe thead th {\n",
       "        text-align: right;\n",
       "    }\n",
       "</style>\n",
       "<table border=\"1\" class=\"dataframe\">\n",
       "  <thead>\n",
       "    <tr style=\"text-align: right;\">\n",
       "      <th></th>\n",
       "      <th>Longitude</th>\n",
       "      <th>Latitude</th>\n",
       "      <th>SO2</th>\n",
       "      <th>NO2</th>\n",
       "      <th>O3</th>\n",
       "      <th>CO</th>\n",
       "      <th>PM10</th>\n",
       "      <th>PM2.5</th>\n",
       "      <th>Date</th>\n",
       "      <th>Address_10, Poeun-ro 6-gil, Mapo-gu, Seoul, Republic of Korea</th>\n",
       "      <th>...</th>\n",
       "      <th>Address_426, Hakdong-ro, Gangnam-gu, Seoul, Republic of Korea</th>\n",
       "      <th>Address_43, Cheonho-daero 13-gil, Dongdaemun-gu, Seoul, Republic of Korea</th>\n",
       "      <th>Address_45, Gamasan-ro 27-gil, Guro-gu, Seoul, Republic of Korea</th>\n",
       "      <th>Address_49, Samyang-ro 139-gil, Gangbuk-gu, Seoul, Republic of Korea</th>\n",
       "      <th>Address_56, Jungang-ro 52-gil, Yangcheon-gu, Seoul, Republic of Korea</th>\n",
       "      <th>Address_571, Gwangnaru-ro, Gwangjin-gu, Seoul, Republic of Korea</th>\n",
       "      <th>Address_59, Gucheonmyeon-ro 42-gil, Gangdong-gu, Seoul, Republic of Korea</th>\n",
       "      <th>Address_6, Sadang-ro 16a-gil, Dongjak-gu, Seoul, Republic of Korea</th>\n",
       "      <th>Address_70, Samyang-ro 2-gil, Seongbuk-gu, Seoul, Republic of Korea</th>\n",
       "      <th>Address_71, Gangseo-ro 45da-gil, Gangseo-gu, Seoul, Republic of Korea</th>\n",
       "    </tr>\n",
       "  </thead>\n",
       "  <tbody>\n",
       "    <tr>\n",
       "      <th>0</th>\n",
       "      <td>126.905598</td>\n",
       "      <td>37.55558</td>\n",
       "      <td>0.005071</td>\n",
       "      <td>0.052786</td>\n",
       "      <td>0.004714</td>\n",
       "      <td>1.042857</td>\n",
       "      <td>78.642857</td>\n",
       "      <td>70.142857</td>\n",
       "      <td>736206</td>\n",
       "      <td>1</td>\n",
       "      <td>...</td>\n",
       "      <td>0</td>\n",
       "      <td>0</td>\n",
       "      <td>0</td>\n",
       "      <td>0</td>\n",
       "      <td>0</td>\n",
       "      <td>0</td>\n",
       "      <td>0</td>\n",
       "      <td>0</td>\n",
       "      <td>0</td>\n",
       "      <td>0</td>\n",
       "    </tr>\n",
       "    <tr>\n",
       "      <th>1</th>\n",
       "      <td>126.905598</td>\n",
       "      <td>37.55558</td>\n",
       "      <td>0.005375</td>\n",
       "      <td>0.043000</td>\n",
       "      <td>0.017188</td>\n",
       "      <td>1.006250</td>\n",
       "      <td>101.750000</td>\n",
       "      <td>88.875000</td>\n",
       "      <td>736207</td>\n",
       "      <td>1</td>\n",
       "      <td>...</td>\n",
       "      <td>0</td>\n",
       "      <td>0</td>\n",
       "      <td>0</td>\n",
       "      <td>0</td>\n",
       "      <td>0</td>\n",
       "      <td>0</td>\n",
       "      <td>0</td>\n",
       "      <td>0</td>\n",
       "      <td>0</td>\n",
       "      <td>0</td>\n",
       "    </tr>\n",
       "    <tr>\n",
       "      <th>2</th>\n",
       "      <td>126.905598</td>\n",
       "      <td>37.55558</td>\n",
       "      <td>0.005222</td>\n",
       "      <td>0.041556</td>\n",
       "      <td>0.015556</td>\n",
       "      <td>0.866667</td>\n",
       "      <td>72.833333</td>\n",
       "      <td>60.500000</td>\n",
       "      <td>736208</td>\n",
       "      <td>1</td>\n",
       "      <td>...</td>\n",
       "      <td>0</td>\n",
       "      <td>0</td>\n",
       "      <td>0</td>\n",
       "      <td>0</td>\n",
       "      <td>0</td>\n",
       "      <td>0</td>\n",
       "      <td>0</td>\n",
       "      <td>0</td>\n",
       "      <td>0</td>\n",
       "      <td>0</td>\n",
       "    </tr>\n",
       "    <tr>\n",
       "      <th>3</th>\n",
       "      <td>126.905598</td>\n",
       "      <td>37.55558</td>\n",
       "      <td>0.005167</td>\n",
       "      <td>0.053722</td>\n",
       "      <td>0.010833</td>\n",
       "      <td>0.944444</td>\n",
       "      <td>48.833333</td>\n",
       "      <td>39.444444</td>\n",
       "      <td>736209</td>\n",
       "      <td>1</td>\n",
       "      <td>...</td>\n",
       "      <td>0</td>\n",
       "      <td>0</td>\n",
       "      <td>0</td>\n",
       "      <td>0</td>\n",
       "      <td>0</td>\n",
       "      <td>0</td>\n",
       "      <td>0</td>\n",
       "      <td>0</td>\n",
       "      <td>0</td>\n",
       "      <td>0</td>\n",
       "    </tr>\n",
       "    <tr>\n",
       "      <th>4</th>\n",
       "      <td>126.905598</td>\n",
       "      <td>37.55558</td>\n",
       "      <td>0.003905</td>\n",
       "      <td>0.039571</td>\n",
       "      <td>0.012143</td>\n",
       "      <td>0.680952</td>\n",
       "      <td>29.000000</td>\n",
       "      <td>22.285714</td>\n",
       "      <td>736210</td>\n",
       "      <td>1</td>\n",
       "      <td>...</td>\n",
       "      <td>0</td>\n",
       "      <td>0</td>\n",
       "      <td>0</td>\n",
       "      <td>0</td>\n",
       "      <td>0</td>\n",
       "      <td>0</td>\n",
       "      <td>0</td>\n",
       "      <td>0</td>\n",
       "      <td>0</td>\n",
       "      <td>0</td>\n",
       "    </tr>\n",
       "    <tr>\n",
       "      <th>...</th>\n",
       "      <td>...</td>\n",
       "      <td>...</td>\n",
       "      <td>...</td>\n",
       "      <td>...</td>\n",
       "      <td>...</td>\n",
       "      <td>...</td>\n",
       "      <td>...</td>\n",
       "      <td>...</td>\n",
       "      <td>...</td>\n",
       "      <td>...</td>\n",
       "      <td>...</td>\n",
       "      <td>...</td>\n",
       "      <td>...</td>\n",
       "      <td>...</td>\n",
       "      <td>...</td>\n",
       "      <td>...</td>\n",
       "      <td>...</td>\n",
       "      <td>...</td>\n",
       "      <td>...</td>\n",
       "      <td>...</td>\n",
       "      <td>...</td>\n",
       "    </tr>\n",
       "    <tr>\n",
       "      <th>26559</th>\n",
       "      <td>126.835151</td>\n",
       "      <td>37.54464</td>\n",
       "      <td>0.004773</td>\n",
       "      <td>0.028909</td>\n",
       "      <td>0.020545</td>\n",
       "      <td>0.509091</td>\n",
       "      <td>39.818182</td>\n",
       "      <td>22.772727</td>\n",
       "      <td>737296</td>\n",
       "      <td>0</td>\n",
       "      <td>...</td>\n",
       "      <td>0</td>\n",
       "      <td>0</td>\n",
       "      <td>0</td>\n",
       "      <td>0</td>\n",
       "      <td>0</td>\n",
       "      <td>0</td>\n",
       "      <td>0</td>\n",
       "      <td>0</td>\n",
       "      <td>0</td>\n",
       "      <td>1</td>\n",
       "    </tr>\n",
       "    <tr>\n",
       "      <th>26560</th>\n",
       "      <td>126.835151</td>\n",
       "      <td>37.54464</td>\n",
       "      <td>0.004636</td>\n",
       "      <td>0.049364</td>\n",
       "      <td>0.006091</td>\n",
       "      <td>0.681818</td>\n",
       "      <td>49.727273</td>\n",
       "      <td>23.636364</td>\n",
       "      <td>737297</td>\n",
       "      <td>0</td>\n",
       "      <td>...</td>\n",
       "      <td>0</td>\n",
       "      <td>0</td>\n",
       "      <td>0</td>\n",
       "      <td>0</td>\n",
       "      <td>0</td>\n",
       "      <td>0</td>\n",
       "      <td>0</td>\n",
       "      <td>0</td>\n",
       "      <td>0</td>\n",
       "      <td>1</td>\n",
       "    </tr>\n",
       "    <tr>\n",
       "      <th>26561</th>\n",
       "      <td>126.835151</td>\n",
       "      <td>37.54464</td>\n",
       "      <td>0.003750</td>\n",
       "      <td>0.044958</td>\n",
       "      <td>0.005542</td>\n",
       "      <td>0.625000</td>\n",
       "      <td>52.166667</td>\n",
       "      <td>26.458333</td>\n",
       "      <td>737298</td>\n",
       "      <td>0</td>\n",
       "      <td>...</td>\n",
       "      <td>0</td>\n",
       "      <td>0</td>\n",
       "      <td>0</td>\n",
       "      <td>0</td>\n",
       "      <td>0</td>\n",
       "      <td>0</td>\n",
       "      <td>0</td>\n",
       "      <td>0</td>\n",
       "      <td>0</td>\n",
       "      <td>1</td>\n",
       "    </tr>\n",
       "    <tr>\n",
       "      <th>26562</th>\n",
       "      <td>126.835151</td>\n",
       "      <td>37.54464</td>\n",
       "      <td>0.004417</td>\n",
       "      <td>0.031792</td>\n",
       "      <td>0.014167</td>\n",
       "      <td>0.579167</td>\n",
       "      <td>41.625000</td>\n",
       "      <td>24.666667</td>\n",
       "      <td>737299</td>\n",
       "      <td>0</td>\n",
       "      <td>...</td>\n",
       "      <td>0</td>\n",
       "      <td>0</td>\n",
       "      <td>0</td>\n",
       "      <td>0</td>\n",
       "      <td>0</td>\n",
       "      <td>0</td>\n",
       "      <td>0</td>\n",
       "      <td>0</td>\n",
       "      <td>0</td>\n",
       "      <td>1</td>\n",
       "    </tr>\n",
       "    <tr>\n",
       "      <th>26563</th>\n",
       "      <td>126.835151</td>\n",
       "      <td>37.54464</td>\n",
       "      <td>0.003875</td>\n",
       "      <td>0.016792</td>\n",
       "      <td>0.022583</td>\n",
       "      <td>0.362500</td>\n",
       "      <td>27.666667</td>\n",
       "      <td>15.125000</td>\n",
       "      <td>737300</td>\n",
       "      <td>0</td>\n",
       "      <td>...</td>\n",
       "      <td>0</td>\n",
       "      <td>0</td>\n",
       "      <td>0</td>\n",
       "      <td>0</td>\n",
       "      <td>0</td>\n",
       "      <td>0</td>\n",
       "      <td>0</td>\n",
       "      <td>0</td>\n",
       "      <td>0</td>\n",
       "      <td>1</td>\n",
       "    </tr>\n",
       "  </tbody>\n",
       "</table>\n",
       "<p>26564 rows × 34 columns</p>\n",
       "</div>"
      ],
      "text/plain": [
       "        Longitude  Latitude       SO2       NO2        O3        CO  \\\n",
       "0      126.905598  37.55558  0.005071  0.052786  0.004714  1.042857   \n",
       "1      126.905598  37.55558  0.005375  0.043000  0.017188  1.006250   \n",
       "2      126.905598  37.55558  0.005222  0.041556  0.015556  0.866667   \n",
       "3      126.905598  37.55558  0.005167  0.053722  0.010833  0.944444   \n",
       "4      126.905598  37.55558  0.003905  0.039571  0.012143  0.680952   \n",
       "...           ...       ...       ...       ...       ...       ...   \n",
       "26559  126.835151  37.54464  0.004773  0.028909  0.020545  0.509091   \n",
       "26560  126.835151  37.54464  0.004636  0.049364  0.006091  0.681818   \n",
       "26561  126.835151  37.54464  0.003750  0.044958  0.005542  0.625000   \n",
       "26562  126.835151  37.54464  0.004417  0.031792  0.014167  0.579167   \n",
       "26563  126.835151  37.54464  0.003875  0.016792  0.022583  0.362500   \n",
       "\n",
       "             PM10      PM2.5    Date  \\\n",
       "0       78.642857  70.142857  736206   \n",
       "1      101.750000  88.875000  736207   \n",
       "2       72.833333  60.500000  736208   \n",
       "3       48.833333  39.444444  736209   \n",
       "4       29.000000  22.285714  736210   \n",
       "...           ...        ...     ...   \n",
       "26559   39.818182  22.772727  737296   \n",
       "26560   49.727273  23.636364  737297   \n",
       "26561   52.166667  26.458333  737298   \n",
       "26562   41.625000  24.666667  737299   \n",
       "26563   27.666667  15.125000  737300   \n",
       "\n",
       "       Address_10, Poeun-ro 6-gil, Mapo-gu, Seoul, Republic of Korea  ...  \\\n",
       "0                                                      1              ...   \n",
       "1                                                      1              ...   \n",
       "2                                                      1              ...   \n",
       "3                                                      1              ...   \n",
       "4                                                      1              ...   \n",
       "...                                                  ...              ...   \n",
       "26559                                                  0              ...   \n",
       "26560                                                  0              ...   \n",
       "26561                                                  0              ...   \n",
       "26562                                                  0              ...   \n",
       "26563                                                  0              ...   \n",
       "\n",
       "       Address_426, Hakdong-ro, Gangnam-gu, Seoul, Republic of Korea  \\\n",
       "0                                                      0               \n",
       "1                                                      0               \n",
       "2                                                      0               \n",
       "3                                                      0               \n",
       "4                                                      0               \n",
       "...                                                  ...               \n",
       "26559                                                  0               \n",
       "26560                                                  0               \n",
       "26561                                                  0               \n",
       "26562                                                  0               \n",
       "26563                                                  0               \n",
       "\n",
       "       Address_43, Cheonho-daero 13-gil, Dongdaemun-gu, Seoul, Republic of Korea  \\\n",
       "0                                                      0                           \n",
       "1                                                      0                           \n",
       "2                                                      0                           \n",
       "3                                                      0                           \n",
       "4                                                      0                           \n",
       "...                                                  ...                           \n",
       "26559                                                  0                           \n",
       "26560                                                  0                           \n",
       "26561                                                  0                           \n",
       "26562                                                  0                           \n",
       "26563                                                  0                           \n",
       "\n",
       "       Address_45, Gamasan-ro 27-gil, Guro-gu, Seoul, Republic of Korea  \\\n",
       "0                                                      0                  \n",
       "1                                                      0                  \n",
       "2                                                      0                  \n",
       "3                                                      0                  \n",
       "4                                                      0                  \n",
       "...                                                  ...                  \n",
       "26559                                                  0                  \n",
       "26560                                                  0                  \n",
       "26561                                                  0                  \n",
       "26562                                                  0                  \n",
       "26563                                                  0                  \n",
       "\n",
       "       Address_49, Samyang-ro 139-gil, Gangbuk-gu, Seoul, Republic of Korea  \\\n",
       "0                                                      0                      \n",
       "1                                                      0                      \n",
       "2                                                      0                      \n",
       "3                                                      0                      \n",
       "4                                                      0                      \n",
       "...                                                  ...                      \n",
       "26559                                                  0                      \n",
       "26560                                                  0                      \n",
       "26561                                                  0                      \n",
       "26562                                                  0                      \n",
       "26563                                                  0                      \n",
       "\n",
       "       Address_56, Jungang-ro 52-gil, Yangcheon-gu, Seoul, Republic of Korea  \\\n",
       "0                                                      0                       \n",
       "1                                                      0                       \n",
       "2                                                      0                       \n",
       "3                                                      0                       \n",
       "4                                                      0                       \n",
       "...                                                  ...                       \n",
       "26559                                                  0                       \n",
       "26560                                                  0                       \n",
       "26561                                                  0                       \n",
       "26562                                                  0                       \n",
       "26563                                                  0                       \n",
       "\n",
       "       Address_571, Gwangnaru-ro, Gwangjin-gu, Seoul, Republic of Korea  \\\n",
       "0                                                      0                  \n",
       "1                                                      0                  \n",
       "2                                                      0                  \n",
       "3                                                      0                  \n",
       "4                                                      0                  \n",
       "...                                                  ...                  \n",
       "26559                                                  0                  \n",
       "26560                                                  0                  \n",
       "26561                                                  0                  \n",
       "26562                                                  0                  \n",
       "26563                                                  0                  \n",
       "\n",
       "       Address_59, Gucheonmyeon-ro 42-gil, Gangdong-gu, Seoul, Republic of Korea  \\\n",
       "0                                                      0                           \n",
       "1                                                      0                           \n",
       "2                                                      0                           \n",
       "3                                                      0                           \n",
       "4                                                      0                           \n",
       "...                                                  ...                           \n",
       "26559                                                  0                           \n",
       "26560                                                  0                           \n",
       "26561                                                  0                           \n",
       "26562                                                  0                           \n",
       "26563                                                  0                           \n",
       "\n",
       "       Address_6, Sadang-ro 16a-gil, Dongjak-gu, Seoul, Republic of Korea  \\\n",
       "0                                                      0                    \n",
       "1                                                      0                    \n",
       "2                                                      0                    \n",
       "3                                                      0                    \n",
       "4                                                      0                    \n",
       "...                                                  ...                    \n",
       "26559                                                  0                    \n",
       "26560                                                  0                    \n",
       "26561                                                  0                    \n",
       "26562                                                  0                    \n",
       "26563                                                  0                    \n",
       "\n",
       "       Address_70, Samyang-ro 2-gil, Seongbuk-gu, Seoul, Republic of Korea  \\\n",
       "0                                                      0                     \n",
       "1                                                      0                     \n",
       "2                                                      0                     \n",
       "3                                                      0                     \n",
       "4                                                      0                     \n",
       "...                                                  ...                     \n",
       "26559                                                  0                     \n",
       "26560                                                  0                     \n",
       "26561                                                  0                     \n",
       "26562                                                  0                     \n",
       "26563                                                  0                     \n",
       "\n",
       "       Address_71, Gangseo-ro 45da-gil, Gangseo-gu, Seoul, Republic of Korea  \n",
       "0                                                      0                      \n",
       "1                                                      0                      \n",
       "2                                                      0                      \n",
       "3                                                      0                      \n",
       "4                                                      0                      \n",
       "...                                                  ...                      \n",
       "26559                                                  1                      \n",
       "26560                                                  1                      \n",
       "26561                                                  1                      \n",
       "26562                                                  1                      \n",
       "26563                                                  1                      \n",
       "\n",
       "[26564 rows x 34 columns]"
      ]
     },
     "execution_count": 53,
     "metadata": {},
     "output_type": "execute_result"
    }
   ],
   "source": [
    "data_cleaned_avg.to_csv(r'data_cleaned_avg.csv', index = False, header=True)\n",
    "data_cleaned_avg"
   ]
  }
 ],
 "metadata": {
  "kernelspec": {
   "display_name": "Python 3",
   "language": "python",
   "name": "python3"
  },
  "language_info": {
   "codemirror_mode": {
    "name": "ipython",
    "version": 3
   },
   "file_extension": ".py",
   "mimetype": "text/x-python",
   "name": "python",
   "nbconvert_exporter": "python",
   "pygments_lexer": "ipython3",
   "version": "3.8.1"
  }
 },
 "nbformat": 4,
 "nbformat_minor": 4
}
