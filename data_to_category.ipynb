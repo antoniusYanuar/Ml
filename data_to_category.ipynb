{
 "nbformat": 4,
 "nbformat_minor": 2,
 "metadata": {
  "language_info": {
   "name": "python",
   "codemirror_mode": {
    "name": "ipython",
    "version": 3
   },
   "version": "3.7.2-final"
  },
  "orig_nbformat": 2,
  "file_extension": ".py",
  "mimetype": "text/x-python",
  "name": "python",
  "npconvert_exporter": "python",
  "pygments_lexer": "ipython3",
  "version": 3,
  "kernelspec": {
   "name": "python37264bit69774f291abd483f85df9cd74e3c9e37",
   "display_name": "Python 3.7.2 64-bit"
  }
 },
 "cells": [
  {
   "cell_type": "code",
   "execution_count": 10,
   "metadata": {},
   "outputs": [],
   "source": [
    "import pandas as pd\n",
    "import numpy as np\n",
    "import seaborn as sns\n",
    "import matplotlib.pyplot as plt\n",
    "from sklearn.linear_model import LinearRegression\n",
    "import warnings \n",
    "from statsmodels.stats.outliers_influence import variance_inflation_factor\n",
    "from sklearn.decomposition import PCA"
   ]
  },
  {
   "cell_type": "code",
   "execution_count": 11,
   "metadata": {},
   "outputs": [
    {
     "output_type": "execute_result",
     "data": {
      "text/plain": "                                             Address         date       SO2  \\\n0  10, Poeun-ro 6-gil, Mapo-gu, Seoul, Republic o...  2017-01-01   0.005071   \n1  10, Poeun-ro 6-gil, Mapo-gu, Seoul, Republic o...  2017-01-02   0.005375   \n2  10, Poeun-ro 6-gil, Mapo-gu, Seoul, Republic o...  2017-01-03   0.005222   \n3  10, Poeun-ro 6-gil, Mapo-gu, Seoul, Republic o...  2017-01-04   0.005167   \n4  10, Poeun-ro 6-gil, Mapo-gu, Seoul, Republic o...  2017-01-05   0.003905   \n\n        NO2        O3        CO        PM10      PM2.5  \n0  0.052786  0.004714  1.042857   78.642857  70.142857  \n1  0.043000  0.017188  1.006250  101.750000  88.875000  \n2  0.041556  0.015556  0.866667   72.833333  60.500000  \n3  0.053722  0.010833  0.944444   48.833333  39.444444  \n4  0.039571  0.012143  0.680952   29.000000  22.285714  ",
      "text/html": "<div>\n<style scoped>\n    .dataframe tbody tr th:only-of-type {\n        vertical-align: middle;\n    }\n\n    .dataframe tbody tr th {\n        vertical-align: top;\n    }\n\n    .dataframe thead th {\n        text-align: right;\n    }\n</style>\n<table border=\"1\" class=\"dataframe\">\n  <thead>\n    <tr style=\"text-align: right;\">\n      <th></th>\n      <th>Address</th>\n      <th>date</th>\n      <th>SO2</th>\n      <th>NO2</th>\n      <th>O3</th>\n      <th>CO</th>\n      <th>PM10</th>\n      <th>PM2.5</th>\n    </tr>\n  </thead>\n  <tbody>\n    <tr>\n      <th>0</th>\n      <td>10, Poeun-ro 6-gil, Mapo-gu, Seoul, Republic o...</td>\n      <td>2017-01-01</td>\n      <td>0.005071</td>\n      <td>0.052786</td>\n      <td>0.004714</td>\n      <td>1.042857</td>\n      <td>78.642857</td>\n      <td>70.142857</td>\n    </tr>\n    <tr>\n      <th>1</th>\n      <td>10, Poeun-ro 6-gil, Mapo-gu, Seoul, Republic o...</td>\n      <td>2017-01-02</td>\n      <td>0.005375</td>\n      <td>0.043000</td>\n      <td>0.017188</td>\n      <td>1.006250</td>\n      <td>101.750000</td>\n      <td>88.875000</td>\n    </tr>\n    <tr>\n      <th>2</th>\n      <td>10, Poeun-ro 6-gil, Mapo-gu, Seoul, Republic o...</td>\n      <td>2017-01-03</td>\n      <td>0.005222</td>\n      <td>0.041556</td>\n      <td>0.015556</td>\n      <td>0.866667</td>\n      <td>72.833333</td>\n      <td>60.500000</td>\n    </tr>\n    <tr>\n      <th>3</th>\n      <td>10, Poeun-ro 6-gil, Mapo-gu, Seoul, Republic o...</td>\n      <td>2017-01-04</td>\n      <td>0.005167</td>\n      <td>0.053722</td>\n      <td>0.010833</td>\n      <td>0.944444</td>\n      <td>48.833333</td>\n      <td>39.444444</td>\n    </tr>\n    <tr>\n      <th>4</th>\n      <td>10, Poeun-ro 6-gil, Mapo-gu, Seoul, Republic o...</td>\n      <td>2017-01-05</td>\n      <td>0.003905</td>\n      <td>0.039571</td>\n      <td>0.012143</td>\n      <td>0.680952</td>\n      <td>29.000000</td>\n      <td>22.285714</td>\n    </tr>\n  </tbody>\n</table>\n</div>"
     },
     "metadata": {},
     "execution_count": 11
    }
   ],
   "source": [
    "polusi = pd.read_csv('data_cleaned_avg.csv')\n",
    "polusi.head()"
   ]
  },
  {
   "cell_type": "code",
   "execution_count": 12,
   "metadata": {},
   "outputs": [
    {
     "output_type": "execute_result",
     "data": {
      "text/plain": "        SO2       NO2        O3        CO        PM10      PM2.5\n0  0.005071  0.052786  0.004714  1.042857   78.642857  70.142857\n1  0.005375  0.043000  0.017188  1.006250  101.750000  88.875000\n2  0.005222  0.041556  0.015556  0.866667   72.833333  60.500000\n3  0.005167  0.053722  0.010833  0.944444   48.833333  39.444444\n4  0.003905  0.039571  0.012143  0.680952   29.000000  22.285714",
      "text/html": "<div>\n<style scoped>\n    .dataframe tbody tr th:only-of-type {\n        vertical-align: middle;\n    }\n\n    .dataframe tbody tr th {\n        vertical-align: top;\n    }\n\n    .dataframe thead th {\n        text-align: right;\n    }\n</style>\n<table border=\"1\" class=\"dataframe\">\n  <thead>\n    <tr style=\"text-align: right;\">\n      <th></th>\n      <th>SO2</th>\n      <th>NO2</th>\n      <th>O3</th>\n      <th>CO</th>\n      <th>PM10</th>\n      <th>PM2.5</th>\n    </tr>\n  </thead>\n  <tbody>\n    <tr>\n      <th>0</th>\n      <td>0.005071</td>\n      <td>0.052786</td>\n      <td>0.004714</td>\n      <td>1.042857</td>\n      <td>78.642857</td>\n      <td>70.142857</td>\n    </tr>\n    <tr>\n      <th>1</th>\n      <td>0.005375</td>\n      <td>0.043000</td>\n      <td>0.017188</td>\n      <td>1.006250</td>\n      <td>101.750000</td>\n      <td>88.875000</td>\n    </tr>\n    <tr>\n      <th>2</th>\n      <td>0.005222</td>\n      <td>0.041556</td>\n      <td>0.015556</td>\n      <td>0.866667</td>\n      <td>72.833333</td>\n      <td>60.500000</td>\n    </tr>\n    <tr>\n      <th>3</th>\n      <td>0.005167</td>\n      <td>0.053722</td>\n      <td>0.010833</td>\n      <td>0.944444</td>\n      <td>48.833333</td>\n      <td>39.444444</td>\n    </tr>\n    <tr>\n      <th>4</th>\n      <td>0.003905</td>\n      <td>0.039571</td>\n      <td>0.012143</td>\n      <td>0.680952</td>\n      <td>29.000000</td>\n      <td>22.285714</td>\n    </tr>\n  </tbody>\n</table>\n</div>"
     },
     "metadata": {},
     "execution_count": 12
    }
   ],
   "source": [
    "numeric_var = list(polusi.dtypes[polusi.dtypes != \"object\"].index)\n",
    "polusi_num = polusi[numeric_var]\n",
    "polusi_num.head()"
   ]
  },
  {
   "cell_type": "code",
   "execution_count": 13,
   "metadata": {},
   "outputs": [
    {
     "output_type": "execute_result",
     "data": {
      "text/plain": "SO2      26564\nNO2      26564\nO3       26564\nCO       26564\nPM10     26564\nPM2.5    26564\ndtype: int64"
     },
     "metadata": {},
     "execution_count": 13
    }
   ],
   "source": [
    "polusi_num.count()"
   ]
  },
  {
   "cell_type": "code",
   "execution_count": 14,
   "metadata": {},
   "outputs": [
    {
     "output_type": "execute_result",
     "data": {
      "text/plain": "  Item name   Good  Normal     Bad  Very bad\n0       SO2   0.02    0.05    0.15       1.0\n1       NO2   0.03    0.06    0.20       2.0\n2        CO   2.00    9.00   15.00      50.0\n3        O3   0.03    0.09    0.15       0.5\n4      PM10  30.00   80.00  150.00     600.0",
      "text/html": "<div>\n<style scoped>\n    .dataframe tbody tr th:only-of-type {\n        vertical-align: middle;\n    }\n\n    .dataframe tbody tr th {\n        vertical-align: top;\n    }\n\n    .dataframe thead th {\n        text-align: right;\n    }\n</style>\n<table border=\"1\" class=\"dataframe\">\n  <thead>\n    <tr style=\"text-align: right;\">\n      <th></th>\n      <th>Item name</th>\n      <th>Good</th>\n      <th>Normal</th>\n      <th>Bad</th>\n      <th>Very bad</th>\n    </tr>\n  </thead>\n  <tbody>\n    <tr>\n      <th>0</th>\n      <td>SO2</td>\n      <td>0.02</td>\n      <td>0.05</td>\n      <td>0.15</td>\n      <td>1.0</td>\n    </tr>\n    <tr>\n      <th>1</th>\n      <td>NO2</td>\n      <td>0.03</td>\n      <td>0.06</td>\n      <td>0.20</td>\n      <td>2.0</td>\n    </tr>\n    <tr>\n      <th>2</th>\n      <td>CO</td>\n      <td>2.00</td>\n      <td>9.00</td>\n      <td>15.00</td>\n      <td>50.0</td>\n    </tr>\n    <tr>\n      <th>3</th>\n      <td>O3</td>\n      <td>0.03</td>\n      <td>0.09</td>\n      <td>0.15</td>\n      <td>0.5</td>\n    </tr>\n    <tr>\n      <th>4</th>\n      <td>PM10</td>\n      <td>30.00</td>\n      <td>80.00</td>\n      <td>150.00</td>\n      <td>600.0</td>\n    </tr>\n  </tbody>\n</table>\n</div>"
     },
     "metadata": {},
     "execution_count": 14
    }
   ],
   "source": [
    "limiter = pd.read_csv('Measurement_item_info.csv',index_col=False)\n",
    "limiter = limiter.drop(['Item code','Unit of measurement'], axis=1)\n",
    "limiter.head()"
   ]
  },
  {
   "cell_type": "code",
   "execution_count": 15,
   "metadata": {},
   "outputs": [
    {
     "output_type": "execute_result",
     "data": {
      "text/plain": "Item name   SO2   NO2    CO    O3   PM10  PM2.5\nGood       0.02  0.03   2.0  0.03   30.0   15.0\nNormal     0.05  0.06   9.0  0.09   80.0   35.0\nBad        0.15  0.20  15.0  0.15  150.0   75.0\nVery bad   1.00  2.00  50.0  0.50  600.0  500.0",
      "text/html": "<div>\n<style scoped>\n    .dataframe tbody tr th:only-of-type {\n        vertical-align: middle;\n    }\n\n    .dataframe tbody tr th {\n        vertical-align: top;\n    }\n\n    .dataframe thead th {\n        text-align: right;\n    }\n</style>\n<table border=\"1\" class=\"dataframe\">\n  <thead>\n    <tr style=\"text-align: right;\">\n      <th>Item name</th>\n      <th>SO2</th>\n      <th>NO2</th>\n      <th>CO</th>\n      <th>O3</th>\n      <th>PM10</th>\n      <th>PM2.5</th>\n    </tr>\n  </thead>\n  <tbody>\n    <tr>\n      <th>Good</th>\n      <td>0.02</td>\n      <td>0.03</td>\n      <td>2.0</td>\n      <td>0.03</td>\n      <td>30.0</td>\n      <td>15.0</td>\n    </tr>\n    <tr>\n      <th>Normal</th>\n      <td>0.05</td>\n      <td>0.06</td>\n      <td>9.0</td>\n      <td>0.09</td>\n      <td>80.0</td>\n      <td>35.0</td>\n    </tr>\n    <tr>\n      <th>Bad</th>\n      <td>0.15</td>\n      <td>0.20</td>\n      <td>15.0</td>\n      <td>0.15</td>\n      <td>150.0</td>\n      <td>75.0</td>\n    </tr>\n    <tr>\n      <th>Very bad</th>\n      <td>1.00</td>\n      <td>2.00</td>\n      <td>50.0</td>\n      <td>0.50</td>\n      <td>600.0</td>\n      <td>500.0</td>\n    </tr>\n  </tbody>\n</table>\n</div>"
     },
     "metadata": {},
     "execution_count": 15
    }
   ],
   "source": [
    "limiter_transposed = limiter.set_index('Item name').T\n",
    "limiter_transposed.head()"
   ]
  },
  {
   "cell_type": "code",
   "execution_count": 17,
   "metadata": {
    "tags": [
     "outputPrepend"
    ]
   },
   "outputs": [],
   "source": [
    "listnew = []\n",
    "for i in range(0,26564):\n",
    "    if limiter_transposed['SO2'][0] > polusi_num['SO2'][i] and limiter_transposed['NO2'][0] > polusi_num['NO2'][i] and limiter_transposed['CO'][0] > polusi_num['CO'][i] and limiter_transposed['O3'][0] > polusi_num['O3'][i] and limiter_transposed['PM10'][0] > polusi_num['PM10'][i] and limiter_transposed['PM2.5'][0] > polusi_num['PM2.5'][i]:\n",
    "        listnew.append(\"Good\")\n",
    "    elif limiter_transposed['SO2'][1] > polusi_num['SO2'][i] and limiter_transposed['NO2'][1] > polusi_num['NO2'][i] and limiter_transposed['CO'][1] > polusi_num['CO'][i] and limiter_transposed['O3'][1] > polusi_num['O3'][i] and limiter_transposed['PM10'][1] > polusi_num['PM10'][i] and limiter_transposed['PM2.5'][1] > polusi_num['PM2.5'][i]:\n",
    "        listnew.append(\"Normal\")\n",
    "    elif limiter_transposed['SO2'][2] > polusi_num['SO2'][i] and limiter_transposed['NO2'][2] > polusi_num['NO2'][i] and limiter_transposed['CO'][2] > polusi_num['CO'][i] and limiter_transposed['O3'][2] > polusi_num['O3'][i] and limiter_transposed['PM10'][2] > polusi_num['PM10'][i] and limiter_transposed['PM2.5'][2] > polusi_num['PM2.5'][i]:\n",
    "        listnew.append(\"Bad\")\n",
    "    else :\n",
    "        listnew.append(\"Very Bad\")            "
   ]
  },
  {
   "cell_type": "code",
   "execution_count": 18,
   "metadata": {},
   "outputs": [
    {
     "output_type": "execute_result",
     "data": {
      "text/plain": "                                             Address         date       SO2  \\\n0  10, Poeun-ro 6-gil, Mapo-gu, Seoul, Republic o...  2017-01-01   0.005071   \n1  10, Poeun-ro 6-gil, Mapo-gu, Seoul, Republic o...  2017-01-02   0.005375   \n2  10, Poeun-ro 6-gil, Mapo-gu, Seoul, Republic o...  2017-01-03   0.005222   \n3  10, Poeun-ro 6-gil, Mapo-gu, Seoul, Republic o...  2017-01-04   0.005167   \n4  10, Poeun-ro 6-gil, Mapo-gu, Seoul, Republic o...  2017-01-05   0.003905   \n\n        NO2        O3        CO        PM10      PM2.5  Category  \n0  0.052786  0.004714  1.042857   78.642857  70.142857       Bad  \n1  0.043000  0.017188  1.006250  101.750000  88.875000  Very Bad  \n2  0.041556  0.015556  0.866667   72.833333  60.500000       Bad  \n3  0.053722  0.010833  0.944444   48.833333  39.444444       Bad  \n4  0.039571  0.012143  0.680952   29.000000  22.285714    Normal  ",
      "text/html": "<div>\n<style scoped>\n    .dataframe tbody tr th:only-of-type {\n        vertical-align: middle;\n    }\n\n    .dataframe tbody tr th {\n        vertical-align: top;\n    }\n\n    .dataframe thead th {\n        text-align: right;\n    }\n</style>\n<table border=\"1\" class=\"dataframe\">\n  <thead>\n    <tr style=\"text-align: right;\">\n      <th></th>\n      <th>Address</th>\n      <th>date</th>\n      <th>SO2</th>\n      <th>NO2</th>\n      <th>O3</th>\n      <th>CO</th>\n      <th>PM10</th>\n      <th>PM2.5</th>\n      <th>Category</th>\n    </tr>\n  </thead>\n  <tbody>\n    <tr>\n      <th>0</th>\n      <td>10, Poeun-ro 6-gil, Mapo-gu, Seoul, Republic o...</td>\n      <td>2017-01-01</td>\n      <td>0.005071</td>\n      <td>0.052786</td>\n      <td>0.004714</td>\n      <td>1.042857</td>\n      <td>78.642857</td>\n      <td>70.142857</td>\n      <td>Bad</td>\n    </tr>\n    <tr>\n      <th>1</th>\n      <td>10, Poeun-ro 6-gil, Mapo-gu, Seoul, Republic o...</td>\n      <td>2017-01-02</td>\n      <td>0.005375</td>\n      <td>0.043000</td>\n      <td>0.017188</td>\n      <td>1.006250</td>\n      <td>101.750000</td>\n      <td>88.875000</td>\n      <td>Very Bad</td>\n    </tr>\n    <tr>\n      <th>2</th>\n      <td>10, Poeun-ro 6-gil, Mapo-gu, Seoul, Republic o...</td>\n      <td>2017-01-03</td>\n      <td>0.005222</td>\n      <td>0.041556</td>\n      <td>0.015556</td>\n      <td>0.866667</td>\n      <td>72.833333</td>\n      <td>60.500000</td>\n      <td>Bad</td>\n    </tr>\n    <tr>\n      <th>3</th>\n      <td>10, Poeun-ro 6-gil, Mapo-gu, Seoul, Republic o...</td>\n      <td>2017-01-04</td>\n      <td>0.005167</td>\n      <td>0.053722</td>\n      <td>0.010833</td>\n      <td>0.944444</td>\n      <td>48.833333</td>\n      <td>39.444444</td>\n      <td>Bad</td>\n    </tr>\n    <tr>\n      <th>4</th>\n      <td>10, Poeun-ro 6-gil, Mapo-gu, Seoul, Republic o...</td>\n      <td>2017-01-05</td>\n      <td>0.003905</td>\n      <td>0.039571</td>\n      <td>0.012143</td>\n      <td>0.680952</td>\n      <td>29.000000</td>\n      <td>22.285714</td>\n      <td>Normal</td>\n    </tr>\n  </tbody>\n</table>\n</div>"
     },
     "metadata": {},
     "execution_count": 18
    }
   ],
   "source": [
    "polusi['Category'] = listnew\n",
    "polusi.head()"
   ]
  },
  {
   "cell_type": "code",
   "execution_count": 19,
   "metadata": {},
   "outputs": [],
   "source": [
    "polusi.to_csv(r'Measurement_summary_v2.csv', index = False, header=True)"
   ]
  }
 ]
}