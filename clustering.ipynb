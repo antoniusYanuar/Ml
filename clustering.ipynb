{
 "cells": [
  {
   "cell_type": "code",
   "execution_count": 1,
   "metadata": {},
   "outputs": [],
   "source": [
    "import pandas as pd\n",
    "import numpy as np\n",
    "import matplotlib.pyplot as plt\n",
    "from sklearn import preprocessing  \n",
    "from sklearn.model_selection import train_test_split\n",
    "from mpl_toolkits.mplot3d import Axes3D\n",
    "from sklearn.preprocessing import MinMaxScaler\n",
    "from sklearn.cluster import KMeans\n",
    "from pandas import DataFrame\n",
    "import gmplot"
   ]
  },
  {
   "cell_type": "code",
   "execution_count": 2,
   "metadata": {},
   "outputs": [],
   "source": [
    "x = pd.read_csv('data_cleaned_avg_cluster2.csv')\n",
    "x = x.drop(['date', 'Address',], axis=1)\n",
    "\n",
    "X_after, test = train_test_split(x, test_size=0.2, random_state=42)\n",
    "# test.to_csv(r'data_test_daily_c.csv', index = False, header=True)\n",
    "\n",
    "X_after, test_daily = train_test_split(X_after, test_size=0.125, random_state=42)\n",
    "# test.to_csv(r'data_test_final_c.csv', index = False, header=True)\n",
    "\n",
    "colors = 10*[\n",
    "    'green', 'red', 'cyan', 'blue', 'black', 'yellow', 'magenta'\n",
    "]"
   ]
  },
  {
   "cell_type": "code",
   "execution_count": 3,
   "metadata": {},
   "outputs": [],
   "source": [
    "class K_Means:\n",
    "    def __init__(self, tol=0.001, max_iter=300):\n",
    "        self.tol = tol\n",
    "        self.max_iter = max_iter\n",
    "\n",
    "    def fit(self, data, k):\n",
    "\n",
    "        self.centroids = {}\n",
    "\n",
    "        for i in range(k):\n",
    "            self.centroids[i] = data[i]\n",
    "\n",
    "        for i in range(self.max_iter):\n",
    "\n",
    "            self.classifications = {}\n",
    "\n",
    "            for i in range(k):\n",
    "                self.classifications[i] = []\n",
    "\n",
    "            for featureset in data:\n",
    "                distances = [\n",
    "                    np.linalg.norm(\n",
    "                        featureset-self.centroids[centroid]\n",
    "                    ) \n",
    "                        for centroid in self.centroids\n",
    "                    ]\n",
    "                classification = distances.index(min(distances))\n",
    "                self.classifications[classification].append(featureset)\n",
    "\n",
    "            prev_centroids = dict(self.centroids)\n",
    "\n",
    "            for classification in self.classifications:\n",
    "                self.centroids[classification] = np.average(\n",
    "                    self.classifications[classification], axis=0\n",
    "                )\n",
    "            optimized = True\n",
    "\n",
    "            for c in self.centroids:\n",
    "                original_centroid = prev_centroids[c]\n",
    "                current_centroid = self.centroids[c]\n",
    "                if np.sum((current_centroid-original_centroid)/original_centroid*100.0) > self.tol:\n",
    "                    optimized = False\n",
    "\n",
    "            if optimized:\n",
    "                break\n",
    "\n",
    "    def predict(self, data):\n",
    "        distances = [\n",
    "            np.linalg.norm(\n",
    "                data-self.centroids[centroid]\n",
    "            ) for centroid in self.centroids\n",
    "        ]\n",
    "\n",
    "        classification = distances.index(min(distances))\n",
    "\n",
    "        return classification"
   ]
  },
  {
   "cell_type": "code",
   "execution_count": 4,
   "metadata": {},
   "outputs": [
    {
     "data": {
      "text/html": [
       "<div>\n",
       "<style scoped>\n",
       "    .dataframe tbody tr th:only-of-type {\n",
       "        vertical-align: middle;\n",
       "    }\n",
       "\n",
       "    .dataframe tbody tr th {\n",
       "        vertical-align: top;\n",
       "    }\n",
       "\n",
       "    .dataframe thead th {\n",
       "        text-align: right;\n",
       "    }\n",
       "</style>\n",
       "<table border=\"1\" class=\"dataframe\">\n",
       "  <thead>\n",
       "    <tr style=\"text-align: right;\">\n",
       "      <th></th>\n",
       "      <th>Latitude</th>\n",
       "      <th>Longitude</th>\n",
       "      <th>SO2</th>\n",
       "    </tr>\n",
       "  </thead>\n",
       "  <tbody>\n",
       "    <tr>\n",
       "      <th>23066</th>\n",
       "      <td>37.544962</td>\n",
       "      <td>127.136792</td>\n",
       "      <td>0.003333</td>\n",
       "    </tr>\n",
       "    <tr>\n",
       "      <th>3263</th>\n",
       "      <td>37.487355</td>\n",
       "      <td>126.927102</td>\n",
       "      <td>0.003583</td>\n",
       "    </tr>\n",
       "    <tr>\n",
       "      <th>24329</th>\n",
       "      <td>37.480917</td>\n",
       "      <td>126.971481</td>\n",
       "      <td>0.004000</td>\n",
       "    </tr>\n",
       "    <tr>\n",
       "      <th>3190</th>\n",
       "      <td>37.540033</td>\n",
       "      <td>127.004850</td>\n",
       "      <td>0.003000</td>\n",
       "    </tr>\n",
       "    <tr>\n",
       "      <th>9665</th>\n",
       "      <td>37.452357</td>\n",
       "      <td>126.908296</td>\n",
       "      <td>0.005429</td>\n",
       "    </tr>\n",
       "  </tbody>\n",
       "</table>\n",
       "</div>"
      ],
      "text/plain": [
       "        Latitude   Longitude       SO2\n",
       "23066  37.544962  127.136792  0.003333\n",
       "3263   37.487355  126.927102  0.003583\n",
       "24329  37.480917  126.971481  0.004000\n",
       "3190   37.540033  127.004850  0.003000\n",
       "9665   37.452357  126.908296  0.005429"
      ]
     },
     "execution_count": 4,
     "metadata": {},
     "output_type": "execute_result"
    }
   ],
   "source": [
    "x2 = X_after[['Latitude','Longitude', 'SO2']].copy()\n",
    "x2.head()"
   ]
  },
  {
   "cell_type": "code",
   "execution_count": 5,
   "metadata": {},
   "outputs": [
    {
     "data": {
      "text/plain": [
       "18594"
      ]
     },
     "execution_count": 5,
     "metadata": {},
     "output_type": "execute_result"
    }
   ],
   "source": [
    "x_array = np.array(x2)\n",
    "len(x_array)"
   ]
  },
  {
   "cell_type": "code",
   "execution_count": 10,
   "metadata": {},
   "outputs": [],
   "source": [
    "wcss = []\n",
    "\n",
    "for i in range(1,11):\n",
    "    kmeans = KMeans(i)\n",
    "    kmeans.fit(x_array)\n",
    "    wcss_iteration = kmeans.inertia_\n",
    "    wcss.append(wcss_iteration)"
   ]
  },
  {
   "cell_type": "code",
   "execution_count": 11,
   "metadata": {},
   "outputs": [
    {
     "data": {
      "text/plain": [
       "[168.69896419245217,\n",
       " 76.16556651308127,\n",
       " 50.513984039873364,\n",
       " 35.199284406353236,\n",
       " 25.94167453904532,\n",
       " 19.402566218057686,\n",
       " 16.901387498514996,\n",
       " 13.137399725107006,\n",
       " 10.470297662023416,\n",
       " 8.860756132319803]"
      ]
     },
     "execution_count": 11,
     "metadata": {},
     "output_type": "execute_result"
    }
   ],
   "source": [
    "wcss"
   ]
  },
  {
   "cell_type": "code",
   "execution_count": 12,
   "metadata": {},
   "outputs": [
    {
     "data": {
      "text/plain": [
       "<function matplotlib.pyplot.show(*args, **kw)>"
      ]
     },
     "execution_count": 12,
     "metadata": {},
     "output_type": "execute_result"
    },
    {
     "data": {
      "image/png": "[encoded data removed]",
      "text/plain": [
       "<Figure size 432x288 with 1 Axes>"
      ]
     },
     "metadata": {
      "needs_background": "light"
     },
     "output_type": "display_data"
    }
   ],
   "source": [
    "number_of_clusters = range(1,11)\n",
    "plt.plot(number_of_clusters,wcss)\n",
    "plt.xlabel('NUMBER OF CLUSTERS')\n",
    "plt.ylabel('WCSS value')\n",
    "plt.show"
   ]
  },
  {
   "cell_type": "code",
   "execution_count": 13,
   "metadata": {},
   "outputs": [],
   "source": [
    "clf = K_Means()\n",
    "clf.fit(x_array, 2)"
   ]
  },
  {
   "cell_type": "code",
   "execution_count": null,
   "metadata": {},
   "outputs": [],
   "source": [
    "list_class = []\n",
    "for centroid in clf.centroids:\n",
    "    plt.scatter(\n",
    "        clf.centroids[centroid][0], clf.centroids[centroid][1],\n",
    "        marker='o', color='k', s=150, linewidths=5\n",
    "    )\n",
    "for classification in clf.classifications:\n",
    "    color = colors[classification]\n",
    "    for featureset in clf.classifications[classification]:\n",
    "        plt.scatter(\n",
    "            featureset[0], featureset[1],\n",
    "            marker='x', color=color, s=150, linewidths=1\n",
    "        )\n",
    "        list_class.append(classification)\n",
    "plt.show()"
   ]
  },
  {
   "cell_type": "code",
   "execution_count": null,
   "metadata": {},
   "outputs": [],
   "source": [
    "%matplotlib inline\n",
    "fig = plt.figure()\n",
    "ax = Axes3D(fig)\n",
    "\n",
    "list_class = []\n",
    "for centroid in clf.centroids:\n",
    "    ax.scatter(\n",
    "        clf.centroids[centroid][0], clf.centroids[centroid][1], clf.centroids[centroid][2],\n",
    "        marker='o', color='k', s=150, linewidths=5\n",
    "    )\n",
    "for classification in clf.classifications:\n",
    "    color = colors[classification]\n",
    "    for featureset in clf.classifications[classification]:\n",
    "        ax.scatter(\n",
    "            featureset[0], featureset[1], featureset[2],\n",
    "            marker='x', color=color, s=150, linewidths=1\n",
    "        )\n",
    "        list_class.append(classification)\n",
    "plt.show()"
   ]
  },
  {
   "cell_type": "code",
   "execution_count": null,
   "metadata": {},
   "outputs": [],
   "source": [
    "listlong = []\n",
    "listlat = []\n",
    "\n",
    "df = DataFrame(X_after, columns= ['Longitude', 'Latitude'])\n",
    "products_list = df.values.tolist()\n",
    "\n",
    "for i in products_list:\n",
    "    if i[0] not in listlong: \n",
    "        listlong.append(i[0])\n",
    "    if i[1] not in listlat: \n",
    "        listlat.append(i[1])"
   ]
  }
 ],
 "metadata": {
  "kernelspec": {
   "display_name": "Python 3",
   "language": "python",
   "name": "python3"
  },
  "language_info": {
   "codemirror_mode": {
    "name": "ipython",
    "version": 3
   },
   "file_extension": ".py",
   "mimetype": "text/x-python",
   "name": "python",
   "nbconvert_exporter": "python",
   "pygments_lexer": "ipython3",
   "version": "3.8.1"
  }
 },
 "nbformat": 4,
 "nbformat_minor": 2
}
