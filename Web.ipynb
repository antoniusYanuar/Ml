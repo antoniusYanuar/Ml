{
 "cells": [
  {
   "cell_type": "code",
   "execution_count": 1,
   "metadata": {},
   "outputs": [],
   "source": [
    "from flask import Flask, request, render_template, url_for, redirect, jsonify\n",
    "import tensorflow as tf\n",
    "import pandas as pd\n",
    "from math import sqrt\n",
    "from sklearn.metrics import mean_squared_error\n",
    "from sklearn.metrics import mean_absolute_error\n",
    "from sklearn.metrics import r2_score\n",
    "from sklearn import preprocessing"
   ]
  },
  {
   "cell_type": "code",
   "execution_count": 2,
   "metadata": {},
   "outputs": [],
   "source": [
    "def neural_network(filename):\n",
    "    x = pd.read_csv(filename)\n",
    "    y = x.pop('O3')\n",
    "    \n",
    "    x = preprocessing.scale(x)\n",
    "    model = tf.keras.models.load_model('ozone-final.model')\n",
    "    pred = model.predict(x)\n",
    "\n",
    "    mse_train = mean_squared_error(y, pred)\n",
    "    rmse_train = sqrt(mean_squared_error(y, pred))\n",
    "    mae_train = mean_absolute_error(y, pred)\n",
    "    r2 = \"{:0.3f}\".format(r2_score(y, pred))\n",
    "\n",
    "    return mse_train, rmse_train, mae_train, r2"
   ]
  },
  {
   "cell_type": "code",
   "execution_count": 3,
   "metadata": {},
   "outputs": [
    {
     "output_type": "stream",
     "name": "stdout",
     "text": "* Serving Flask app \"__main__\" (lazy loading)\n * Environment: production\n   WARNING: This is a development server. Do not use it in a production deployment.\n   Use a production WSGI server instead.\n * Debug mode: off\nWARNING: Logging before flag parsing goes to stderr.\nI0429 23:52:44.683648 12264 _internal.py:122]  * Running on http://127.0.0.1:5000/ (Press CTRL+C to quit)\nI0429 23:53:13.875893  1248 _internal.py:122] 127.0.0.1 - - [29/Apr/2020 23:53:13] \"\u001b[37mGET / HTTP/1.1\u001b[0m\" 200 -\nI0429 23:53:27.938273 13824 _internal.py:122] 127.0.0.1 - - [29/Apr/2020 23:53:27] \"\u001b[37mPOST / HTTP/1.1\u001b[0m\" 200 -\n"
    }
   ],
   "source": [
    "ui = Flask(__name__)\n",
    "x = []\n",
    "@ui.route('/', methods=['POST', 'GET'])\n",
    "def index():\n",
    "    if request.method == 'POST':\n",
    "        filename = request.form['myfile']\n",
    "        mse, rmse, mae, r2 = neural_network(filename) \n",
    "        return render_template('home.html', mse_dis = mse, rmse_dis = rmse, mae_dis = mae, r2_dis = r2)\n",
    "    else:\n",
    "        return render_template('home.html')\n",
    "\n",
    "if __name__ == \"__main__\":\n",
    "    ui.run()"
   ]
  },
  {
   "cell_type": "code",
   "execution_count": null,
   "metadata": {},
   "outputs": [],
   "source": []
  }
 ],
 "metadata": {
  "kernelspec": {
   "display_name": "Python 3.7.2 64-bit",
   "language": "python",
   "name": "python37264bit69774f291abd483f85df9cd74e3c9e37"
  },
  "language_info": {
   "codemirror_mode": {
    "name": "ipython",
    "version": 3
   },
   "file_extension": ".py",
   "mimetype": "text/x-python",
   "name": "python",
   "nbconvert_exporter": "python",
   "pygments_lexer": "ipython3",
   "version": "3.7.2-final"
  }
 },
 "nbformat": 4,
 "nbformat_minor": 2
}